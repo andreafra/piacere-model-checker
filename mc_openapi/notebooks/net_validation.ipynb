{
 "cells": [
  {
   "cell_type": "code",
   "execution_count": 1,
   "metadata": {},
   "outputs": [
    {
     "name": "stdout",
     "output_type": "stream",
     "text": [
      "/home/andrea/Projects/piacere-model-checker\n"
     ]
    }
   ],
   "source": [
    "%cd ../.."
   ]
  },
  {
   "cell_type": "code",
   "execution_count": 2,
   "metadata": {},
   "outputs": [],
   "source": [
    "# XMI_PATH = \"./tests/doml/CaseStudies/posidonia.domlx\"\n",
    "XMI_PATH = \"../piacere-workspace/Playground/NetValidation/test1.domlx\" # Subnets, Ifaces, Gateway\n",
    "# XMI_PATH = \"./tests/doml/CaseStudies/posidonia_IOP.domlx\" # Subnets, no Gateway\n",
    "# XMI_PATH = \"../piacere-workspace/Playground/CaseStudies/nio3_test_exec_env.domlx\" # No subnets, Gateway\n",
    "# XMI_PATH = \"../piacere-workspace/Playground/CaseStudies/posidonia.domlx\"\n",
    "\n",
    "with open(XMI_PATH, 'rb') as f:\n",
    "    doml_xmi = f.read()"
   ]
  },
  {
   "cell_type": "code",
   "execution_count": 3,
   "metadata": {},
   "outputs": [],
   "source": [
    "from mc_openapi.doml_mc.main import init_model\n",
    "\n",
    "dmc = init_model(doml_xmi, doml_ver=None)"
   ]
  },
  {
   "cell_type": "code",
   "execution_count": 4,
   "metadata": {},
   "outputs": [
    {
     "name": "stdout",
     "output_type": "stream",
     "text": [
      "174326017 10.100.1.0/24\n",
      "elasticsearch_iface (10.100.1.1) belongs to subnet1 (10.100.1.0/24)? True\n",
      "3232235777 10.100.2.0/24\n",
      "gestaut_iface (192.168.1.1) belongs to subnet2 (10.100.2.0/24)? False\n",
      "174326018 10.100.3.0/24\n",
      "edi_iface (10.100.1.2) belongs to subnet3 (10.100.3.0/24)? False\n",
      "10.100.0.0/16\tvpc\n",
      "10.100.1.0/24\tsubnet1 belongs? True\n",
      "10.100.2.0/24\tsubnet2 belongs? True\n",
      "10.100.3.0/24\tsubnet3 belongs? True\n",
      "NetworkInterface 'gw1' (10.100.0.1) belong to net 'vpc' (10.100.0.0/16)? True\n",
      "NetworkInterface 'elasticsearch_iface' (10.100.1.1) belong to net 'vpc' (10.100.0.0/16)? True\n",
      "NetworkInterface 'gestaut_iface' (192.168.1.1) belong to net 'vpc' (10.100.0.0/16)? False\n",
      "NetworkInterface 'edi_iface' (10.100.1.2) belong to net 'vpc' (10.100.0.0/16)? True\n"
     ]
    }
   ],
   "source": [
    "from pprint import pprint\n",
    "from mc_openapi.doml_mc.intermediate_model import DOMLElement\n",
    "from mc_openapi.doml_mc.mc import ModelChecker\n",
    "\n",
    "from ipaddress import IPv4Address, IPv4Network\n",
    "\n",
    "BASE_ADDR = '0.0.0.0'\n",
    "\n",
    "ASSOC_SUBNETS = 'infrastructure_Network::subnets'\n",
    "ASSOC_GATEWAYS = 'infrastructure_Network::gateways'\n",
    "ASSOC_IFACE_NET = 'infrastructure_NetworkInterface::belongsTo'\n",
    "\n",
    "ATTR_NET_ADDRESS = 'infrastructure_Network::addressRange'\n",
    "ATTR_GATEWAY_ADDRESS = 'infrastructure_InternetGateway::address'\n",
    "ATTR_IFACE_ADDRESS = 'infrastructure_NetworkInterface::endPoint'\n",
    "\n",
    "def get_attr(elem: DOMLElement, attr_id: str):\n",
    "    if elem := elem.attributes.get(attr_id):\n",
    "        return elem[0]\n",
    "    return None\n",
    "    \n",
    "def get_assocs(elem: DOMLElement, assoc_id: str):\n",
    "    return elem.associations.get(assoc_id, [])\n",
    "\n",
    "def validate_network_address(dmc: ModelChecker):\n",
    "    im = dmc.intermediate_model\n",
    "\n",
    "    networks = [e for e in im.values() if e.class_ == 'infrastructure_Network']\n",
    "    ifaces = [e for e in im.values() if e.class_ == 'infrastructure_NetworkInterface']\n",
    "    subnets = [e for e in im.values() if e.class_ == 'infrastructure_Subnet']\n",
    "\n",
    "# Network/24\n",
    "#   Subnet/28\n",
    "#   Subnet/30\n",
    "#   Address\n",
    "#   Address\n",
    "\n",
    "    def visit_subnet(net: DOMLElement, acc: list):\n",
    "        \"\"\"Recursively navigate subnets to populate the `acc` list with all the subnet in a network.\"\"\"\n",
    "        for subnet in get_assocs(net, ASSOC_SUBNETS):\n",
    "            subnet = im[subnet]\n",
    "            subnet_addr = fix_invalid_address( get_attr(subnet, ATTR_NET_ADDRESS) )\n",
    "            acc.append((subnet, IPv4Network(subnet_addr)))\n",
    "            visit_subnet(subnet, acc)\n",
    "\n",
    "    def fix_invalid_address(address: any):\n",
    "        if isinstance(address, str) and address.startswith('/'):\n",
    "            return f\"{BASE_ADDR}{address}\"\n",
    "\n",
    "        return address\n",
    "\n",
    "\n",
    "    for network in networks:\n",
    "        # Tuple(elem, cidr)\n",
    "        subnets: list[tuple[DOMLElement, IPv4Network]] = []\n",
    "        # Tuple(elem, address)\n",
    "        addresses: list[tuple[DOMLElement, IPv4Address]] = []\n",
    "\n",
    "        # Add subnets (Networks)\n",
    "        visit_subnet(network, subnets)\n",
    "\n",
    "        # pprint(\"SUBNETS:\")\n",
    "        # pprint(subnets)\n",
    "\n",
    "        # Add addresses (gateways, ifaces)\n",
    "        for gateway in get_assocs(network, ASSOC_GATEWAYS):\n",
    "            gateway = im[gateway]\n",
    "            if gateway_address := get_attr(gateway, ATTR_GATEWAY_ADDRESS):\n",
    "                addresses.append((gateway, IPv4Address(gateway_address)))\n",
    "\n",
    "        for iface in ifaces:\n",
    "            if owner_id := get_assocs(iface, ASSOC_IFACE_NET):\n",
    "                owner = im[list(owner_id)[0]]\n",
    "                if owner.id_ in [s.id_ for (s, _) in subnets] + [network.id_]:\n",
    "                    if ((iface_address := get_attr(iface, ATTR_IFACE_ADDRESS))\n",
    "                    and (owner_address := get_attr(owner, ATTR_NET_ADDRESS))):\n",
    "                        owner_address = fix_invalid_address(owner_address)\n",
    "                        iface_address = IPv4Address(iface_address)\n",
    "                        owner_address = IPv4Network(owner_address)\n",
    "                        print(f\"{iface.user_friendly_name} ({iface_address}) belongs to {owner.user_friendly_name} ({owner_address})? {iface_address in owner_address.hosts()}\")\n",
    "\n",
    "                        addresses.append((iface, iface_address))\n",
    "                else:\n",
    "                    print(f\"NetworkInterface '{iface.user_friendly_name}' does not belong to net '{owner.user_friendly_name}'.\")\n",
    "\n",
    "        # Validate Network and Subnets\n",
    "        net_addr = fix_invalid_address( get_attr(network, ATTR_NET_ADDRESS) )\n",
    "        # prepend 0.0.0.0 if starts with / i guess, print a warning\n",
    "        print(f\"{net_addr}\\t{network.user_friendly_name}\")\n",
    "\n",
    "        net = IPv4Network(net_addr)\n",
    "\n",
    "        if len(subnets) > 0:\n",
    "            for (obj, sn) in subnets:\n",
    "                print(f\"{sn}\\t{obj.user_friendly_name} belongs? {sn.subnet_of(net)}\")\n",
    "        else:\n",
    "            print(\"No subnets!\")\n",
    "\n",
    "        # Validate addresses (again)\n",
    "        for (obj, addr) in addresses:\n",
    "            print(f\"NetworkInterface '{obj.user_friendly_name}' ({addr}) belong to net '{network.user_friendly_name}' ({net_addr})? {addr in net.hosts()}\")\n",
    "\n",
    "  \n",
    "\n",
    "validate_network_address(dmc)"
   ]
  }
 ],
 "metadata": {
  "kernelspec": {
   "display_name": ".venv",
   "language": "python",
   "name": "python3"
  },
  "language_info": {
   "codemirror_mode": {
    "name": "ipython",
    "version": 3
   },
   "file_extension": ".py",
   "mimetype": "text/x-python",
   "name": "python",
   "nbconvert_exporter": "python",
   "pygments_lexer": "ipython3",
   "version": "3.11.4"
  },
  "orig_nbformat": 4
 },
 "nbformat": 4,
 "nbformat_minor": 2
}
