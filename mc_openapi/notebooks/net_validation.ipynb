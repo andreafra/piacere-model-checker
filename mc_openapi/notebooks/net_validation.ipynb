{
 "cells": [
  {
   "cell_type": "code",
   "execution_count": 1,
   "metadata": {},
   "outputs": [
    {
     "name": "stdout",
     "output_type": "stream",
     "text": [
      "/home/andrea/Projects/piacere-model-checker\n"
     ]
    }
   ],
   "source": [
    "%cd ../.."
   ]
  },
  {
   "cell_type": "code",
   "execution_count": 2,
   "metadata": {},
   "outputs": [],
   "source": [
    "# XMI_PATH = \"./tests/doml/CaseStudies/posidonia.domlx\"\n",
    "# XMI_PATH = \"../piacere-workspace/Playground/NetValidation/test1.domlx\" # Subnets, Ifaces, Gateway\n",
    "# XMI_PATH = \"./tests/doml/CaseStudies/posidonia_IOP.domlx\" # Subnets, no Gateway\n",
    "# XMI_PATH = \"../piacere-workspace/Playground/CaseStudies/nio3_test_exec_env.domlx\" # No subnets, Gateway\n",
    "# XMI_PATH = \"../piacere-workspace/Playground/CaseStudies/posidonia.domlx\"\n",
    "XMI_PATH = \"../piacere-workspace/Playground/3.1/Ericsson_DOML.domlx\"\n",
    "\n",
    "with open(XMI_PATH, 'rb') as f:\n",
    "    doml_xmi = f.read()"
   ]
  },
  {
   "cell_type": "code",
   "execution_count": 3,
   "metadata": {},
   "outputs": [],
   "source": [
    "from mc_openapi.doml_mc.main import init_model\n",
    "\n",
    "dmc = init_model(doml_xmi, doml_ver=None)"
   ]
  },
  {
   "cell_type": "code",
   "execution_count": 4,
   "metadata": {},
   "outputs": [
    {
     "ename": "AddressValueError",
     "evalue": "Expected 4 octets in 'None'",
     "output_type": "error",
     "traceback": [
      "\u001b[0;31m---------------------------------------------------------------------------\u001b[0m",
      "\u001b[0;31mAddressValueError\u001b[0m                         Traceback (most recent call last)",
      "\u001b[1;32m/home/andrea/Projects/piacere-model-checker/mc_openapi/notebooks/net_validation.ipynb Cell 4\u001b[0m line \u001b[0;36m1\n\u001b[1;32m    <a href='vscode-notebook-cell:/home/andrea/Projects/piacere-model-checker/mc_openapi/notebooks/net_validation.ipynb#W3sZmlsZQ%3D%3D?line=99'>100</a>\u001b[0m         \u001b[39mfor\u001b[39;00m (obj, addr) \u001b[39min\u001b[39;00m addresses:\n\u001b[1;32m    <a href='vscode-notebook-cell:/home/andrea/Projects/piacere-model-checker/mc_openapi/notebooks/net_validation.ipynb#W3sZmlsZQ%3D%3D?line=100'>101</a>\u001b[0m             \u001b[39mprint\u001b[39m(\u001b[39mf\u001b[39m\u001b[39m\"\u001b[39m\u001b[39mNetworkInterface \u001b[39m\u001b[39m'\u001b[39m\u001b[39m{\u001b[39;00mobj\u001b[39m.\u001b[39muser_friendly_name\u001b[39m}\u001b[39;00m\u001b[39m'\u001b[39m\u001b[39m (\u001b[39m\u001b[39m{\u001b[39;00maddr\u001b[39m}\u001b[39;00m\u001b[39m) belong to net \u001b[39m\u001b[39m'\u001b[39m\u001b[39m{\u001b[39;00mnetwork\u001b[39m.\u001b[39muser_friendly_name\u001b[39m}\u001b[39;00m\u001b[39m'\u001b[39m\u001b[39m (\u001b[39m\u001b[39m{\u001b[39;00mnet_addr\u001b[39m}\u001b[39;00m\u001b[39m)? \u001b[39m\u001b[39m{\u001b[39;00maddr\u001b[39m \u001b[39m\u001b[39min\u001b[39;00m\u001b[39m \u001b[39mnet\u001b[39m.\u001b[39mhosts()\u001b[39m}\u001b[39;00m\u001b[39m\"\u001b[39m)\n\u001b[0;32m--> <a href='vscode-notebook-cell:/home/andrea/Projects/piacere-model-checker/mc_openapi/notebooks/net_validation.ipynb#W3sZmlsZQ%3D%3D?line=104'>105</a>\u001b[0m validate_network_address(dmc)\n",
      "\u001b[1;32m/home/andrea/Projects/piacere-model-checker/mc_openapi/notebooks/net_validation.ipynb Cell 4\u001b[0m line \u001b[0;36m6\n\u001b[1;32m     <a href='vscode-notebook-cell:/home/andrea/Projects/piacere-model-checker/mc_openapi/notebooks/net_validation.ipynb#W3sZmlsZQ%3D%3D?line=56'>57</a>\u001b[0m addresses: \u001b[39mlist\u001b[39m[\u001b[39mtuple\u001b[39m[DOMLElement, IPv4Address]] \u001b[39m=\u001b[39m []\n\u001b[1;32m     <a href='vscode-notebook-cell:/home/andrea/Projects/piacere-model-checker/mc_openapi/notebooks/net_validation.ipynb#W3sZmlsZQ%3D%3D?line=58'>59</a>\u001b[0m \u001b[39m# Add subnets (Networks)\u001b[39;00m\n\u001b[0;32m---> <a href='vscode-notebook-cell:/home/andrea/Projects/piacere-model-checker/mc_openapi/notebooks/net_validation.ipynb#W3sZmlsZQ%3D%3D?line=59'>60</a>\u001b[0m visit_subnet(network, subnets)\n\u001b[1;32m     <a href='vscode-notebook-cell:/home/andrea/Projects/piacere-model-checker/mc_openapi/notebooks/net_validation.ipynb#W3sZmlsZQ%3D%3D?line=61'>62</a>\u001b[0m \u001b[39m# pprint(\"SUBNETS:\")\u001b[39;00m\n\u001b[1;32m     <a href='vscode-notebook-cell:/home/andrea/Projects/piacere-model-checker/mc_openapi/notebooks/net_validation.ipynb#W3sZmlsZQ%3D%3D?line=62'>63</a>\u001b[0m \u001b[39m# pprint(subnets)\u001b[39;00m\n\u001b[1;32m     <a href='vscode-notebook-cell:/home/andrea/Projects/piacere-model-checker/mc_openapi/notebooks/net_validation.ipynb#W3sZmlsZQ%3D%3D?line=63'>64</a>\u001b[0m \n\u001b[1;32m     <a href='vscode-notebook-cell:/home/andrea/Projects/piacere-model-checker/mc_openapi/notebooks/net_validation.ipynb#W3sZmlsZQ%3D%3D?line=64'>65</a>\u001b[0m \u001b[39m# Add addresses (gateways, ifaces)\u001b[39;00m\n\u001b[1;32m     <a href='vscode-notebook-cell:/home/andrea/Projects/piacere-model-checker/mc_openapi/notebooks/net_validation.ipynb#W3sZmlsZQ%3D%3D?line=65'>66</a>\u001b[0m \u001b[39mfor\u001b[39;00m gateway \u001b[39min\u001b[39;00m get_assocs(network, ASSOC_GATEWAYS):\n",
      "\u001b[1;32m/home/andrea/Projects/piacere-model-checker/mc_openapi/notebooks/net_validation.ipynb Cell 4\u001b[0m line \u001b[0;36m4\n\u001b[1;32m     <a href='vscode-notebook-cell:/home/andrea/Projects/piacere-model-checker/mc_openapi/notebooks/net_validation.ipynb#W3sZmlsZQ%3D%3D?line=40'>41</a>\u001b[0m subnet \u001b[39m=\u001b[39m im[subnet]\n\u001b[1;32m     <a href='vscode-notebook-cell:/home/andrea/Projects/piacere-model-checker/mc_openapi/notebooks/net_validation.ipynb#W3sZmlsZQ%3D%3D?line=41'>42</a>\u001b[0m subnet_addr \u001b[39m=\u001b[39m fix_invalid_address( get_attr(subnet, ATTR_NET_ADDRESS) )\n\u001b[0;32m---> <a href='vscode-notebook-cell:/home/andrea/Projects/piacere-model-checker/mc_openapi/notebooks/net_validation.ipynb#W3sZmlsZQ%3D%3D?line=42'>43</a>\u001b[0m acc\u001b[39m.\u001b[39mappend((subnet, IPv4Network(subnet_addr)))\n\u001b[1;32m     <a href='vscode-notebook-cell:/home/andrea/Projects/piacere-model-checker/mc_openapi/notebooks/net_validation.ipynb#W3sZmlsZQ%3D%3D?line=43'>44</a>\u001b[0m visit_subnet(subnet, acc)\n",
      "File \u001b[0;32m/usr/lib64/python3.11/ipaddress.py:1512\u001b[0m, in \u001b[0;36mIPv4Network.__init__\u001b[0;34m(self, address, strict)\u001b[0m\n\u001b[1;32m   1476\u001b[0m \u001b[39m\u001b[39m\u001b[39m\"\"\"Instantiate a new IPv4 network object.\u001b[39;00m\n\u001b[1;32m   1477\u001b[0m \n\u001b[1;32m   1478\u001b[0m \u001b[39mArgs:\u001b[39;00m\n\u001b[0;32m   (...)\u001b[0m\n\u001b[1;32m   1508\u001b[0m \u001b[39m      supplied.\u001b[39;00m\n\u001b[1;32m   1509\u001b[0m \u001b[39m\"\"\"\u001b[39;00m\n\u001b[1;32m   1510\u001b[0m addr, mask \u001b[39m=\u001b[39m \u001b[39mself\u001b[39m\u001b[39m.\u001b[39m_split_addr_prefix(address)\n\u001b[0;32m-> 1512\u001b[0m \u001b[39mself\u001b[39m\u001b[39m.\u001b[39mnetwork_address \u001b[39m=\u001b[39m IPv4Address(addr)\n\u001b[1;32m   1513\u001b[0m \u001b[39mself\u001b[39m\u001b[39m.\u001b[39mnetmask, \u001b[39mself\u001b[39m\u001b[39m.\u001b[39m_prefixlen \u001b[39m=\u001b[39m \u001b[39mself\u001b[39m\u001b[39m.\u001b[39m_make_netmask(mask)\n\u001b[1;32m   1514\u001b[0m packed \u001b[39m=\u001b[39m \u001b[39mint\u001b[39m(\u001b[39mself\u001b[39m\u001b[39m.\u001b[39mnetwork_address)\n",
      "File \u001b[0;32m/usr/lib64/python3.11/ipaddress.py:1315\u001b[0m, in \u001b[0;36mIPv4Address.__init__\u001b[0;34m(self, address)\u001b[0m\n\u001b[1;32m   1313\u001b[0m \u001b[39mif\u001b[39;00m \u001b[39m'\u001b[39m\u001b[39m/\u001b[39m\u001b[39m'\u001b[39m \u001b[39min\u001b[39;00m addr_str:\n\u001b[1;32m   1314\u001b[0m     \u001b[39mraise\u001b[39;00m AddressValueError(\u001b[39mf\u001b[39m\u001b[39m\"\u001b[39m\u001b[39mUnexpected \u001b[39m\u001b[39m'\u001b[39m\u001b[39m/\u001b[39m\u001b[39m'\u001b[39m\u001b[39m in \u001b[39m\u001b[39m{\u001b[39;00maddress\u001b[39m!r}\u001b[39;00m\u001b[39m\"\u001b[39m)\n\u001b[0;32m-> 1315\u001b[0m \u001b[39mself\u001b[39m\u001b[39m.\u001b[39m_ip \u001b[39m=\u001b[39m \u001b[39mself\u001b[39;49m\u001b[39m.\u001b[39;49m_ip_int_from_string(addr_str)\n",
      "File \u001b[0;32m/usr/lib64/python3.11/ipaddress.py:1202\u001b[0m, in \u001b[0;36m_BaseV4._ip_int_from_string\u001b[0;34m(cls, ip_str)\u001b[0m\n\u001b[1;32m   1200\u001b[0m octets \u001b[39m=\u001b[39m ip_str\u001b[39m.\u001b[39msplit(\u001b[39m'\u001b[39m\u001b[39m.\u001b[39m\u001b[39m'\u001b[39m)\n\u001b[1;32m   1201\u001b[0m \u001b[39mif\u001b[39;00m \u001b[39mlen\u001b[39m(octets) \u001b[39m!=\u001b[39m \u001b[39m4\u001b[39m:\n\u001b[0;32m-> 1202\u001b[0m     \u001b[39mraise\u001b[39;00m AddressValueError(\u001b[39m\"\u001b[39m\u001b[39mExpected 4 octets in \u001b[39m\u001b[39m%r\u001b[39;00m\u001b[39m\"\u001b[39m \u001b[39m%\u001b[39m ip_str)\n\u001b[1;32m   1204\u001b[0m \u001b[39mtry\u001b[39;00m:\n\u001b[1;32m   1205\u001b[0m     \u001b[39mreturn\u001b[39;00m \u001b[39mint\u001b[39m\u001b[39m.\u001b[39mfrom_bytes(\u001b[39mmap\u001b[39m(\u001b[39mcls\u001b[39m\u001b[39m.\u001b[39m_parse_octet, octets), \u001b[39m'\u001b[39m\u001b[39mbig\u001b[39m\u001b[39m'\u001b[39m)\n",
      "\u001b[0;31mAddressValueError\u001b[0m: Expected 4 octets in 'None'"
     ]
    }
   ],
   "source": [
    "from pprint import pprint\n",
    "from mc_openapi.doml_mc.intermediate_model import DOMLElement\n",
    "from mc_openapi.doml_mc.mc import ModelChecker\n",
    "\n",
    "from ipaddress import IPv4Address, IPv4Network\n",
    "\n",
    "BASE_ADDR = '0.0.0.0'\n",
    "\n",
    "ASSOC_SUBNETS = 'infrastructure_Network::subnets'\n",
    "ASSOC_GATEWAYS = 'infrastructure_Network::gateways'\n",
    "ASSOC_IFACE_NET = 'infrastructure_NetworkInterface::belongsTo'\n",
    "\n",
    "ATTR_NET_ADDRESS = 'infrastructure_Network::cidr' # not here anymore\n",
    "ATTR_GATEWAY_ADDRESS = 'infrastructure_InternetGateway::address'\n",
    "ATTR_IFACE_ADDRESS = 'infrastructure_NetworkInterface::endPoint'\n",
    "\n",
    "def get_attr(elem: DOMLElement, attr_id: str):\n",
    "    if elem := elem.attributes.get(attr_id):\n",
    "        return elem[0]\n",
    "    return None\n",
    "    \n",
    "def get_assocs(elem: DOMLElement, assoc_id: str):\n",
    "    return elem.associations.get(assoc_id, [])\n",
    "\n",
    "def validate_network_address(dmc: ModelChecker):\n",
    "    im = dmc.intermediate_model\n",
    "\n",
    "    networks = [e for e in im.values() if e.class_ == 'infrastructure_Network']\n",
    "    ifaces = [e for e in im.values() if e.class_ == 'infrastructure_NetworkInterface']\n",
    "    subnets = [e for e in im.values() if e.class_ == 'infrastructure_Subnet']\n",
    "\n",
    "# Network/24\n",
    "#   Subnet/28\n",
    "#   Subnet/30\n",
    "#   Address\n",
    "#   Address\n",
    "\n",
    "    def visit_subnet(net: DOMLElement, acc: list):\n",
    "        \"\"\"Recursively navigate subnets to populate the `acc` list with all the subnet in a network.\"\"\"\n",
    "        for subnet in get_assocs(net, ASSOC_SUBNETS):\n",
    "            subnet = im[subnet]\n",
    "            subnet_addr = fix_invalid_address( get_attr(subnet, ATTR_NET_ADDRESS) )\n",
    "            acc.append((subnet, IPv4Network(subnet_addr)))\n",
    "            visit_subnet(subnet, acc)\n",
    "\n",
    "    def fix_invalid_address(address: any):\n",
    "        if isinstance(address, str) and address.startswith('/'):\n",
    "            return f\"{BASE_ADDR}{address}\"\n",
    "\n",
    "        return address\n",
    "\n",
    "\n",
    "    for network in networks:\n",
    "        # Tuple(elem, cidr)\n",
    "        subnets: list[tuple[DOMLElement, IPv4Network]] = []\n",
    "        # Tuple(elem, address)\n",
    "        addresses: list[tuple[DOMLElement, IPv4Address]] = []\n",
    "\n",
    "        # Add subnets (Networks)\n",
    "        visit_subnet(network, subnets)\n",
    "\n",
    "        # pprint(\"SUBNETS:\")\n",
    "        # pprint(subnets)\n",
    "\n",
    "        # Add addresses (gateways, ifaces)\n",
    "        for gateway in get_assocs(network, ASSOC_GATEWAYS):\n",
    "            gateway = im[gateway]\n",
    "            if gateway_address := get_attr(gateway, ATTR_GATEWAY_ADDRESS):\n",
    "                addresses.append((gateway, IPv4Address(gateway_address)))\n",
    "\n",
    "        for iface in ifaces:\n",
    "            if owner_id := get_assocs(iface, ASSOC_IFACE_NET):\n",
    "                owner = im[list(owner_id)[0]]\n",
    "                if owner.id_ in [s.id_ for (s, _) in subnets] + [network.id_]:\n",
    "                    if ((iface_address := get_attr(iface, ATTR_IFACE_ADDRESS))\n",
    "                    and (owner_address := get_attr(owner, ATTR_NET_ADDRESS))):\n",
    "                        owner_address = fix_invalid_address(owner_address)\n",
    "                        iface_address = IPv4Address(iface_address)\n",
    "                        owner_address = IPv4Network(owner_address)\n",
    "                        print(f\"{iface.user_friendly_name} ({iface_address}) belongs to {owner.user_friendly_name} ({owner_address})? {iface_address in owner_address.hosts()}\")\n",
    "\n",
    "                        addresses.append((iface, iface_address))\n",
    "                else:\n",
    "                    print(f\"NetworkInterface '{iface.user_friendly_name}' does not belong to net '{owner.user_friendly_name}'.\")\n",
    "\n",
    "        # Validate Network and Subnets\n",
    "        net_addr = fix_invalid_address( get_attr(network, ATTR_NET_ADDRESS) )\n",
    "        # prepend 0.0.0.0 if starts with / i guess, print a warning\n",
    "        print(f\"{net_addr}\\t{network.user_friendly_name}\")\n",
    "\n",
    "        net = IPv4Network(net_addr)\n",
    "\n",
    "        if len(subnets) > 0:\n",
    "            for (obj, sn) in subnets:\n",
    "                print(f\"{sn}\\t{obj.user_friendly_name} belongs? {sn.subnet_of(net)}\")\n",
    "        else:\n",
    "            print(\"No subnets!\")\n",
    "\n",
    "        # Validate addresses (again)\n",
    "        for (obj, addr) in addresses:\n",
    "            print(f\"NetworkInterface '{obj.user_friendly_name}' ({addr}) belong to net '{network.user_friendly_name}' ({net_addr})? {addr in net.hosts()}\")\n",
    "\n",
    "  \n",
    "\n",
    "validate_network_address(dmc)"
   ]
  }
 ],
 "metadata": {
  "kernelspec": {
   "display_name": ".venv",
   "language": "python",
   "name": "python3"
  },
  "language_info": {
   "codemirror_mode": {
    "name": "ipython",
    "version": 3
   },
   "file_extension": ".py",
   "mimetype": "text/x-python",
   "name": "python",
   "nbconvert_exporter": "python",
   "pygments_lexer": "ipython3",
   "version": "3.11.5"
  },
  "orig_nbformat": 4
 },
 "nbformat": 4,
 "nbformat_minor": 2
}
