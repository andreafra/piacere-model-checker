{
 "cells": [
  {
   "cell_type": "code",
   "execution_count": 1,
   "metadata": {},
   "outputs": [
    {
     "name": "stdout",
     "output_type": "stream",
     "text": [
      "/home/andrea/Projects/piacere-model-checker\n"
     ]
    }
   ],
   "source": [
    "%cd ../.."
   ]
  },
  {
   "cell_type": "code",
   "execution_count": 21,
   "metadata": {},
   "outputs": [],
   "source": [
    "# XMI_PATH = \"./tests/doml/CaseStudies/posidonia.domlx\"\n",
    "# XMI_PATH = \"./tests/doml/CaseStudies/posidonia_IOP.domlx\" # Subnets, no Gateway\n",
    "XMI_PATH = \"../piacere-workspace/Playground/CaseStudies/nio3_test_exec_env.domlx\" # No subnets, Gateway\n",
    "# XMI_PATH = \"../piacere-workspace/Playground/CaseStudies/posidonia.domlx\"\n",
    "\n",
    "with open(XMI_PATH, 'rb') as f:\n",
    "    doml_xmi = f.read()"
   ]
  },
  {
   "cell_type": "code",
   "execution_count": 22,
   "metadata": {},
   "outputs": [],
   "source": [
    "from mc_openapi.doml_mc.main import init_model\n",
    "\n",
    "dmc = init_model(doml_xmi, doml_ver=None)"
   ]
  },
  {
   "cell_type": "code",
   "execution_count": 23,
   "metadata": {},
   "outputs": [],
   "source": [
    "# from mc_openapi.doml_mc.network_address_validator import validate_network_address\n",
    "\n",
    "# validate_network_address(dmc)"
   ]
  },
  {
   "cell_type": "code",
   "execution_count": 29,
   "metadata": {},
   "outputs": [
    {
     "name": "stdout",
     "output_type": "stream",
     "text": [
      "'net1'\n",
      "[]\n",
      "[(DOMLElement(id_='elem_140262387532240',\n",
      "              class_='infrastructure_NetworkInterface',\n",
      "              attributes={'commons_DOMLElement::name': ['i1'],\n",
      "                          'infrastructure_NetworkInterface::endPoint': [173216344]},\n",
      "              associations={'infrastructure_NetworkInterface::belongsTo': {'elem_140262378799888'}},\n",
      "              user_friendly_name='i1'),\n",
      "  IPv4Address('10.83.18.88')),\n",
      " (DOMLElement(id_='elem_140262380465168',\n",
      "              class_='infrastructure_NetworkInterface',\n",
      "              attributes={'commons_DOMLElement::name': ['i1'],\n",
      "                          'infrastructure_NetworkInterface::endPoint': [173216348]},\n",
      "              associations={'infrastructure_NetworkInterface::belongsTo': {'elem_140262378799888'}},\n",
      "              user_friendly_name='i1'),\n",
      "  IPv4Address('10.83.18.92'))]\n"
     ]
    }
   ],
   "source": [
    "from pprint import pprint\n",
    "from mc_openapi.doml_mc.intermediate_model import DOMLElement\n",
    "from mc_openapi.doml_mc.mc import ModelChecker\n",
    "\n",
    "from ipaddress import IPv4Address, IPv4Network\n",
    "\n",
    "ASSOC_SUBNETS = 'infrastructure_Network::subnets'\n",
    "ASSOC_GATEWAYS = 'infrastructure_InternetGateway::address'\n",
    "ASSOC_IFACE_NET = 'infrastructure_NetworkInterface::belongsTo'\n",
    "\n",
    "ATTR_NET_CIDR = 'infrastructure_Network::cidr'\n",
    "ATTR_GATEWAY_ADDRESS = 'infrastructure_InternetGateway::address'\n",
    "ATTR_IFACE_ADDRESS = 'infrastructure_NetworkInterface::endPoint'\n",
    "\n",
    "def get_attr(elem: DOMLElement, attr_id: str):\n",
    "    if elem := elem.attributes.get(attr_id):\n",
    "        return elem[0]\n",
    "    return None\n",
    "    \n",
    "def get_assocs(elem: DOMLElement, assoc_id: str):\n",
    "    return elem.associations.get(assoc_id, [])\n",
    "\n",
    "def validate_network_address(dmc: ModelChecker):\n",
    "    im = dmc.intermediate_model\n",
    "\n",
    "    networks = [e for e in im.values() if e.class_ == 'infrastructure_Network']\n",
    "    gateways = [e for e in im.values() if e.class_ == 'infrastructure_InternetGateway']\n",
    "    ifaces = [e for e in im.values() if e.class_ == 'infrastructure_NetworkInterface']\n",
    "    subnets = [e for e in im.values() if e.class_ == 'infrastructure_Subnet']\n",
    "\n",
    "# Network/24\n",
    "#   Subnet/28\n",
    "#   Subnet/30\n",
    "#   Address\n",
    "#   Address\n",
    "\n",
    "    def visit_subnet(net: DOMLElement, acc: list):\n",
    "        \"\"\"Recursively navigate subnets to populate the `acc` list with all the subnet in a network.\"\"\"\n",
    "        for subnet in get_assocs(net, ASSOC_SUBNETS):\n",
    "            subnet = im[subnet]\n",
    "            acc.append((subnet, get_attr(subnet, ATTR_NET_CIDR)))\n",
    "            visit_subnet(subnet, acc)\n",
    "\n",
    "    for network in networks:\n",
    "        # Tuple(elem, cidr)\n",
    "        subnets: list[tuple] = []\n",
    "        # Tuple(elem, address)\n",
    "        addresses: list[tuple] = []\n",
    "\n",
    "        visit_subnet(network, subnets)\n",
    "\n",
    "        for gateway in get_assocs(network, ASSOC_GATEWAYS):\n",
    "            gateway = im[gateway]\n",
    "            if gateway_address := get_attr(gateway, ATTR_GATEWAY_ADDRESS):\n",
    "                addresses.append((gateway, IPv4Address(gateway_address)))\n",
    "\n",
    "        for iface in ifaces:\n",
    "            if owner := get_assocs(iface, ASSOC_IFACE_NET):\n",
    "                owner_id = im[list(owner)[0]].id_\n",
    "                if (owner_id in [s for (s, _) in subnets] \n",
    "                or owner_id == network.id_):\n",
    "                    if iface_address := get_attr(iface, ATTR_IFACE_ADDRESS):\n",
    "                        addresses.append((iface, IPv4Address(iface_address)))\n",
    "\n",
    "        pprint(network.user_friendly_name)\n",
    "        pprint(subnets)\n",
    "        pprint(addresses)\n",
    "\n",
    "\n",
    "validate_network_address(dmc)"
   ]
  }
 ],
 "metadata": {
  "kernelspec": {
   "display_name": ".venv",
   "language": "python",
   "name": "python3"
  },
  "language_info": {
   "codemirror_mode": {
    "name": "ipython",
    "version": 3
   },
   "file_extension": ".py",
   "mimetype": "text/x-python",
   "name": "python",
   "nbconvert_exporter": "python",
   "pygments_lexer": "ipython3",
   "version": "3.11.4"
  },
  "orig_nbformat": 4
 },
 "nbformat": 4,
 "nbformat_minor": 2
}
