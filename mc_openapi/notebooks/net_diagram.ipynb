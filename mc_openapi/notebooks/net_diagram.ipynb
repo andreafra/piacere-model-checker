{
 "cells": [
  {
   "cell_type": "code",
   "execution_count": 1,
   "metadata": {},
   "outputs": [
    {
     "name": "stdout",
     "output_type": "stream",
     "text": [
      "/home/andrea/Projects/piacere-model-checker\n"
     ]
    }
   ],
   "source": [
    "%cd ../.."
   ]
  },
  {
   "cell_type": "code",
   "execution_count": 11,
   "metadata": {},
   "outputs": [
    {
     "name": "stdout",
     "output_type": "stream",
     "text": [
      "Collecting diagrams\n",
      "  Downloading diagrams-0.23.3-py3-none-any.whl (24.4 MB)\n",
      "\u001b[2K     \u001b[38;2;114;156;31m━━━━━━━━━━━━━━━━━━━━━━━━━━━━━━━━━━━━━━━━\u001b[0m \u001b[32m24.4/24.4 MB\u001b[0m \u001b[31m14.1 MB/s\u001b[0m eta \u001b[36m0:00:00\u001b[0mm eta \u001b[36m0:00:01\u001b[0m[36m0:00:01\u001b[0m\n",
      "\u001b[?25hCollecting graphviz<0.21.0,>=0.13.2 (from diagrams)\n",
      "  Downloading graphviz-0.20.1-py3-none-any.whl (47 kB)\n",
      "\u001b[2K     \u001b[38;2;114;156;31m━━━━━━━━━━━━━━━━━━━━━━━━━━━━━━━━━━━━━━━━\u001b[0m \u001b[32m47.0/47.0 kB\u001b[0m \u001b[31m16.5 MB/s\u001b[0m eta \u001b[36m0:00:00\u001b[0m\n",
      "\u001b[?25hRequirement already satisfied: jinja2<4.0,>=2.10 in ./.venv/lib64/python3.11/site-packages (from diagrams) (3.1.2)\n",
      "Collecting typed-ast<2.0.0,>=1.5.4 (from diagrams)\n",
      "  Downloading typed_ast-1.5.5-cp311-cp311-manylinux_2_17_x86_64.manylinux2014_x86_64.whl (860 kB)\n",
      "\u001b[2K     \u001b[38;2;114;156;31m━━━━━━━━━━━━━━━━━━━━━━━━━━━━━━━━━━━━━━\u001b[0m \u001b[32m860.3/860.3 kB\u001b[0m \u001b[31m14.2 MB/s\u001b[0m eta \u001b[36m0:00:00\u001b[0m31m15.1 MB/s\u001b[0m eta \u001b[36m0:00:01\u001b[0m\n",
      "\u001b[?25hRequirement already satisfied: MarkupSafe>=2.0 in ./.venv/lib64/python3.11/site-packages (from jinja2<4.0,>=2.10->diagrams) (2.1.2)\n",
      "Installing collected packages: typed-ast, graphviz, diagrams\n",
      "Successfully installed diagrams-0.23.3 graphviz-0.20.1 typed-ast-1.5.5\n",
      "\n",
      "\u001b[1m[\u001b[0m\u001b[34;49mnotice\u001b[0m\u001b[1;39;49m]\u001b[0m\u001b[39;49m A new release of pip is available: \u001b[0m\u001b[31;49m23.1.2\u001b[0m\u001b[39;49m -> \u001b[0m\u001b[32;49m23.2.1\u001b[0m\n",
      "\u001b[1m[\u001b[0m\u001b[34;49mnotice\u001b[0m\u001b[1;39;49m]\u001b[0m\u001b[39;49m To update, run: \u001b[0m\u001b[32;49mpip install --upgrade pip\u001b[0m\n",
      "Note: you may need to restart the kernel to use updated packages.\n"
     ]
    }
   ],
   "source": [
    "%pip install diagrams"
   ]
  },
  {
   "cell_type": "code",
   "execution_count": 46,
   "metadata": {},
   "outputs": [],
   "source": [
    "XMI_PATH = \"./tests/doml/CaseStudies/posidonia.domlx\"\n",
    "\n",
    "with open(XMI_PATH, 'rb') as f:\n",
    "    doml_xmi = f.read()"
   ]
  },
  {
   "cell_type": "code",
   "execution_count": 47,
   "metadata": {},
   "outputs": [
    {
     "data": {
      "text/plain": [
       "[]"
      ]
     },
     "execution_count": 47,
     "metadata": {},
     "output_type": "execute_result"
    }
   ],
   "source": [
    "from mc_openapi.doml_mc.intermediate_model.metamodel import DOMLVersion\n",
    "from mc_openapi.doml_mc.main import init_model\n",
    "\n",
    "dmc = init_model(doml_xmi, doml_ver=None)\n",
    "\n",
    "[x for x in dmc.intermediate_model.values() if x.user_friendly_name and x.user_friendly_name.startswith(\"co1\")]"
   ]
  },
  {
   "cell_type": "code",
   "execution_count": 94,
   "metadata": {},
   "outputs": [],
   "source": [
    "from diagrams import Diagram, Cluster, Node, Edge\n",
    "from diagrams.aws.compute import EC2, ECS, AutoScaling, AMI, Compute, EC2Instance, AppRunner\n",
    "from diagrams.aws.network import CloudFront, APIGateway\n",
    "from diagrams.aws.storage import S3\n",
    "from diagrams.aws.security import Shield, IAMPermissions, IdentityAndAccessManagementIamAddOn as KeyPair\n",
    "from diagrams.aws.general import General\n",
    "from diagrams.aws.database import DB\n",
    "from diagrams.aws.mobile import APIGateway\n",
    "\n",
    "from mc_openapi.doml_mc.intermediate_model.doml_element import DOMLElement\n",
    "\n",
    "elems = [elem for elem in dmc.intermediate_model.values()]\n",
    "\n",
    "common_elems = [e for e in elems if e.class_.startswith(\"commons_\") if e.class_ not in [\"commons_Deployment\", \"commons_Configuration\"]] \n",
    "deployments = [e for e in elems if e.class_ == \"commons_Deployment\"] \n",
    "app_elems = [e for e in elems if e.class_.startswith(\"application_\") and e.class_ != \"application_ApplicationLayer\"] \n",
    "infr_elems = [e for e in elems if e.class_.startswith(\"infrastructure_\") and e.class_ != \"infrastructure_InfrastructureLayer\"] \n",
    "concr_elems = [e for e in elems if e.class_.startswith(\"concrete_\") and e.class_ != \"concrete_ConcreteInfrastructure\"] \n",
    "\n",
    "group_elems = {\"Application\": app_elems, \"Infrastructure\": infr_elems, \"Concretization\": concr_elems}\n",
    "\n",
    "def prettify_class_name(name: str):\n",
    "    _, name = name.split('_', 1)\n",
    "    return name\n",
    "\n",
    "def prettify_assoc_name(assoc: str):\n",
    "    _, assoc = assoc.split('::', 1)\n",
    "    return assoc\n",
    "\n",
    "def get_component(elem: DOMLElement):\n",
    "    \n",
    "    class_name = prettify_class_name(elem.class_)\n",
    "\n",
    "    name = f\"{elem.user_friendly_name or ''}\\n({class_name})\"\n",
    "\n",
    "    match class_name:\n",
    "        case \"SoftwareComponent\":\n",
    "            return Compute(name)\n",
    "        case \"SoftwareInterface\":\n",
    "            return APIGateway(name)\n",
    "        case \"DBMS\":\n",
    "            return DB(name)\n",
    "        case \"Network\":\n",
    "            if address := elem.attributes.get('infrastructure_Network::cidr'):\n",
    "                name += f'\\nCIDR: {address[0]}'\n",
    "            return CloudFront(name)\n",
    "        case \"Subnet\":\n",
    "            if address := elem.attributes.get('infrastructure_Network::cidr'):\n",
    "                name += f'\\nCIDR: {address[0]}'\n",
    "            return CloudFront(name)\n",
    "        case \"NetworkInterface\":\n",
    "            if address := elem.attributes.get('infrastructure_NetworkInterface::endPoint'):\n",
    "                name += f'\\nIP: {address[0]}'\n",
    "            return APIGateway(name)\n",
    "        case \"Storage\":\n",
    "            return S3(name)\n",
    "        case \"VirtualMachine\":\n",
    "            return EC2(name)\n",
    "        case \"Container\":\n",
    "            return ECS(name)\n",
    "        case \"VMImage\":\n",
    "            return AMI(name)\n",
    "        case \"AutoScalingGroup\":\n",
    "            return AutoScaling(name)\n",
    "        case \"ComputingGroup\":\n",
    "            return EC2Instance(name)\n",
    "        case \"RuntimeProvider\":\n",
    "            return AppRunner(name)\n",
    "        case \"KeyPair\":\n",
    "            return KeyPair(name)\n",
    "        case \"UserPass\":\n",
    "            return KeyPair(name)\n",
    "        case \"SecurityGroup\":\n",
    "            return Shield(name)\n",
    "        case \"Rule\":\n",
    "            return IAMPermissions(name)\n",
    "        case _:\n",
    "            return General(name)\n",
    "        \n",
    "graph_attr = {\n",
    "    \"pad\": \"1pt\"\n",
    "}\n",
    "\n",
    "HIGHLIGHT_CONNECTIONS = [\n",
    "    'infrastructure_NetworkInterface::belongsTo'\n",
    "]\n",
    "\n",
    "with Diagram(\"DOML Model\", show=True, outformat=\"svg\", direction=\"TB\", graph_attr=graph_attr) as diagram:\n",
    "    cached_nodes: dict[str, Node] = {}\n",
    "    for gk, gv in group_elems.items():\n",
    "        with Cluster(gk):\n",
    "            cached_nodes |= {e.id_: get_component(e) for e in gv}\n",
    "    \n",
    "    # Dont group common elements\n",
    "    cached_nodes |= {e.id_: get_component(e) for e in common_elems}\n",
    "\n",
    "    for groups in group_elems.values():\n",
    "        for elem in groups:\n",
    "            for assoc_k, assocs_v in elem.associations.items():\n",
    "                for assoc in assocs_v:\n",
    "                    if (start := cached_nodes.get(elem.id_)) and (end := cached_nodes.get(assoc)):\n",
    "                        if assoc_k in HIGHLIGHT_CONNECTIONS:\n",
    "                                start >> Edge(label=prettify_assoc_name(assoc_k), color='green', style=\"bold\") >> end\n",
    "                        elif 'maps' in assoc_k:\n",
    "                            start >> Edge(label=prettify_assoc_name(assoc_k), style=\"bold\") >> end\n",
    "                        else:\n",
    "                            start >> end\n",
    "\n",
    "    for dep in deployments:\n",
    "        for _component in dep.associations.get('commons_Deployment::component'):\n",
    "            for _node in dep.associations.get('commons_Deployment::node'):\n",
    "                 if (start := cached_nodes.get(_component)) and (end := cached_nodes.get(_node)):\n",
    "                        start >> Edge(style=\"bold\") >> end\n"
   ]
  }
 ],
 "metadata": {
  "kernelspec": {
   "display_name": ".venv",
   "language": "python",
   "name": "python3"
  },
  "language_info": {
   "codemirror_mode": {
    "name": "ipython",
    "version": 3
   },
   "file_extension": ".py",
   "mimetype": "text/x-python",
   "name": "python",
   "nbconvert_exporter": "python",
   "pygments_lexer": "ipython3",
   "version": "3.11.4"
  },
  "orig_nbformat": 4
 },
 "nbformat": 4,
 "nbformat_minor": 2
}
