{
 "cells": [
  {
   "cell_type": "code",
   "execution_count": 12,
   "metadata": {},
   "outputs": [],
   "source": [
    "from pprint import pprint\n",
    "\n",
    "from mc_openapi.doml_mc import ModelChecker, DOMLVersion\n",
    "\n",
    "doml_document_path = \"../../tests/doml/v2.0/nginx-openstack_v2.0.domlx\"\n",
    "# doml_document_path = \"../../tests/doml/nginx-openstack_v2.0_wrong_vm_iface.domlx\"\n",
    "# doml_document_path = \"../../tests/doml/faas.domlx\"\n",
    "with open(doml_document_path, \"rb\") as xmif:\n",
    "    doc = xmif.read()\n",
    "\n",
    "model_checker = ModelChecker(doc, DOMLVersion.V2_0)\n",
    "meta_model = model_checker.metamodel\n"
   ]
  },
  {
   "cell_type": "code",
   "execution_count": 13,
   "metadata": {},
   "outputs": [
    {
     "ename": "SyntaxError",
     "evalue": "f-string: unmatched '(' (2134446349.py, line 2)",
     "output_type": "error",
     "traceback": [
      "\u001b[0;36m  Cell \u001b[0;32mIn [13], line 2\u001b[0;36m\u001b[0m\n\u001b[0;31m    f\"{cname.replace(\"_\", \".\")}.{aname}\"\u001b[0m\n\u001b[0m                      ^\u001b[0m\n\u001b[0;31mSyntaxError\u001b[0m\u001b[0;31m:\u001b[0m f-string: unmatched '('\n"
     ]
    }
   ],
   "source": [
    "atts = [\n",
    "    f\"{cname}::{aname}\"\n",
    "    for cname, c in meta_model.items()\n",
    "    for aname in c.attributes\n",
    "]\n",
    "\n",
    "pprint(atts)"
   ]
  },
  {
   "cell_type": "code",
   "execution_count": null,
   "metadata": {},
   "outputs": [
    {
     "name": "stdout",
     "output_type": "stream",
     "text": [
      "['commons_DOMLElement.annotations',\n",
      " 'commons_Property.reference',\n",
      " 'commons_Configuration.deployments',\n",
      " 'commons_Deployment.component',\n",
      " 'commons_Deployment.node',\n",
      " 'application_ApplicationLayer.components',\n",
      " 'application_SoftwareComponent.exposedInterfaces',\n",
      " 'application_SoftwareComponent.consumedInterfaces',\n",
      " 'application_SaaS.exposedInterfaces',\n",
      " 'infrastructure_InfrastructureLayer.nodes',\n",
      " 'infrastructure_InfrastructureLayer.generators',\n",
      " 'infrastructure_InfrastructureLayer.storages',\n",
      " 'infrastructure_InfrastructureLayer.faas',\n",
      " 'infrastructure_InfrastructureLayer.credentials',\n",
      " 'infrastructure_InfrastructureLayer.groups',\n",
      " 'infrastructure_InfrastructureLayer.securityGroups',\n",
      " 'infrastructure_InfrastructureLayer.networks',\n",
      " 'infrastructure_ComputingNode.ifaces',\n",
      " 'infrastructure_ComputingNode.location',\n",
      " 'infrastructure_ComputingNode.credentials',\n",
      " 'infrastructure_ComputingNode.group',\n",
      " 'infrastructure_VirtualMachine.generatedFrom',\n",
      " 'infrastructure_Container.generatedFrom',\n",
      " 'infrastructure_Container.hosts',\n",
      " 'infrastructure_VMImage.generatedVMs',\n",
      " 'infrastructure_ContainerImage.generatedContainers',\n",
      " 'infrastructure_AutoScalingGroup.machineDefinition',\n",
      " 'infrastructure_AutoScalingGroup.deploymentNetwork',\n",
      " 'infrastructure_AutoScalingGroup.securityGroup',\n",
      " 'infrastructure_Storage.ifaces',\n",
      " 'infrastructure_FunctionAsAService.ifaces',\n",
      " 'infrastructure_Network.connectedIfaces',\n",
      " 'infrastructure_Network.igws',\n",
      " 'infrastructure_Network.subnets',\n",
      " 'infrastructure_Subnet.connectedTo',\n",
      " 'infrastructure_NetworkInterface.belongsTo',\n",
      " 'infrastructure_NetworkInterface.associated',\n",
      " 'infrastructure_ComputingGroup.groupedNodes',\n",
      " 'infrastructure_SecurityGroup.rules',\n",
      " 'infrastructure_SecurityGroup.ifaces',\n",
      " 'infrastructure_SwarmRole.nodes',\n",
      " 'infrastructure_Swarm.roles',\n",
      " 'concrete_ConcreteInfrastructure.providers',\n",
      " 'concrete_RuntimeProvider.vms',\n",
      " 'concrete_RuntimeProvider.vmImages',\n",
      " 'concrete_RuntimeProvider.containerImages',\n",
      " 'concrete_RuntimeProvider.networks',\n",
      " 'concrete_RuntimeProvider.storages',\n",
      " 'concrete_RuntimeProvider.faas',\n",
      " 'concrete_RuntimeProvider.group',\n",
      " 'concrete_VirtualMachine.maps',\n",
      " 'concrete_VMImage.maps',\n",
      " 'concrete_ContainerImage.maps',\n",
      " 'concrete_Network.maps',\n",
      " 'concrete_Storage.maps',\n",
      " 'concrete_FunctionAsAService.maps',\n",
      " 'concrete_ComputingGroup.maps']\n"
     ]
    }
   ],
   "source": [
    "assocs = [\n",
    "    f\"{cname}::{aname}\"\n",
    "    for cname, c in meta_model.items()\n",
    "    for aname in c.associations\n",
    "]\n",
    "\n",
    "pprint(assocs)"
   ]
  },
  {
   "cell_type": "code",
   "execution_count": null,
   "metadata": {},
   "outputs": [
    {
     "ename": "NameError",
     "evalue": "name 'mm' is not defined",
     "output_type": "error",
     "traceback": [
      "\u001b[0;31m---------------------------------------------------------------------------\u001b[0m",
      "\u001b[0;31mNameError\u001b[0m                                 Traceback (most recent call last)",
      "Cell \u001b[0;32mIn [10], line 2\u001b[0m\n\u001b[1;32m      1\u001b[0m strings \u001b[39m=\u001b[39m [v\n\u001b[0;32m----> 2\u001b[0m             \u001b[39mfor\u001b[39;00m c \u001b[39min\u001b[39;00m mm\u001b[39m.\u001b[39mvalues()\n\u001b[1;32m      3\u001b[0m             \u001b[39mfor\u001b[39;00m a \u001b[39min\u001b[39;00m c\u001b[39m.\u001b[39mattributes\u001b[39m.\u001b[39mvalues()\n\u001b[1;32m      4\u001b[0m             \u001b[39mif\u001b[39;00m a\u001b[39m.\u001b[39mdefault \u001b[39mis\u001b[39;00m \u001b[39mnot\u001b[39;00m \u001b[39mNone\u001b[39;00m\n\u001b[1;32m      5\u001b[0m             \u001b[39mfor\u001b[39;00m v \u001b[39min\u001b[39;00m a\u001b[39m.\u001b[39mdefault\n\u001b[1;32m      6\u001b[0m             \u001b[39mif\u001b[39;00m \u001b[39misinstance\u001b[39m(v, \u001b[39mstr\u001b[39m)]\n\u001b[1;32m      8\u001b[0m pprint(strings)\n",
      "\u001b[0;31mNameError\u001b[0m: name 'mm' is not defined"
     ]
    }
   ],
   "source": [
    "strings = [v\n",
    "            for c in mm.values()\n",
    "            for a in c.attributes.values()\n",
    "            if a.default is not None\n",
    "            for v in a.default\n",
    "            if isinstance(v, str)]\n",
    "\n",
    "pprint(strings)"
   ]
  },
  {
   "cell_type": "code",
   "execution_count": null,
   "metadata": {},
   "outputs": [
    {
     "name": "stdout",
     "output_type": "stream",
     "text": [
      "['commons_DOMLElement',\n",
      " 'commons_Property',\n",
      " 'commons_IProperty',\n",
      " 'commons_SProperty',\n",
      " 'commons_FProperty',\n",
      " 'commons_BProperty',\n",
      " 'commons_Configuration',\n",
      " 'commons_Deployment',\n",
      " 'application_ApplicationLayer',\n",
      " 'application_ApplicationComponent',\n",
      " 'application_SoftwareComponent',\n",
      " 'application_SaaS',\n",
      " 'application_SoftwareInterface',\n",
      " 'application_DBMS',\n",
      " 'application_SaaSDBMS',\n",
      " 'infrastructure_InfrastructureLayer',\n",
      " 'infrastructure_InfrastructureElement',\n",
      " 'infrastructure_ComputingNode',\n",
      " 'infrastructure_PhysicalComputingNode',\n",
      " 'infrastructure_VirtualMachine',\n",
      " 'infrastructure_Location',\n",
      " 'infrastructure_Container',\n",
      " 'infrastructure_ComputingNodeGenerator',\n",
      " 'infrastructure_VMImage',\n",
      " 'infrastructure_ContainerImage',\n",
      " 'infrastructure_AutoScalingGroup',\n",
      " 'infrastructure_Storage',\n",
      " 'infrastructure_FunctionAsAService',\n",
      " 'infrastructure_Network',\n",
      " 'infrastructure_Subnet',\n",
      " 'infrastructure_NetworkInterface',\n",
      " 'infrastructure_InternetGateway',\n",
      " 'infrastructure_ComputingGroup',\n",
      " 'infrastructure_SecurityGroup',\n",
      " 'infrastructure_Rule',\n",
      " 'infrastructure_Credentials',\n",
      " 'infrastructure_KeyPair',\n",
      " 'infrastructure_UserPass',\n",
      " 'infrastructure_SwarmRole',\n",
      " 'infrastructure_Swarm',\n",
      " 'infrastructure_ExtInfrastructureElement',\n",
      " 'concrete_ConcreteInfrastructure',\n",
      " 'concrete_ConcreteElement',\n",
      " 'concrete_RuntimeProvider',\n",
      " 'concrete_VirtualMachine',\n",
      " 'concrete_VMImage',\n",
      " 'concrete_ContainerImage',\n",
      " 'concrete_Network',\n",
      " 'concrete_Storage',\n",
      " 'concrete_FunctionAsAService',\n",
      " 'concrete_ComputingGroup']\n"
     ]
    }
   ],
   "source": [
    "keys = list(meta_model.keys())\n",
    "\n",
    "pprint(keys)"
   ]
  }
 ],
 "metadata": {
  "kernelspec": {
   "display_name": "Python 3.11.0 ('.venv': poetry)",
   "language": "python",
   "name": "python3"
  },
  "language_info": {
   "codemirror_mode": {
    "name": "ipython",
    "version": 3
   },
   "file_extension": ".py",
   "mimetype": "text/x-python",
   "name": "python",
   "nbconvert_exporter": "python",
   "pygments_lexer": "ipython3",
   "version": "3.11.0"
  },
  "orig_nbformat": 4,
  "vscode": {
   "interpreter": {
    "hash": "d98256633358fe1daa4009223d54520a3e2548801398a173545d5698bb289e16"
   }
  }
 },
 "nbformat": 4,
 "nbformat_minor": 2
}
