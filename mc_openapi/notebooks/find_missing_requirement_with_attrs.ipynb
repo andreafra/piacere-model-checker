{
 "cells": [
  {
   "cell_type": "markdown",
   "metadata": {},
   "source": [
    "## Finding Missing Requirements (with Attributes)\n",
    "\n",
    "In this notebook, I try to put together an iterative way to:\n",
    "1. Add *unbound variables* until the requirement is satisfied\n",
    "2. Get the *relationships* of the unbound variables\n",
    "3. Filter these relationships by adding one at a time as a negated constraint\n",
    "   and check again the model.\n",
    "4. When we find the one that makes the model unsat, it means we've found the right one.\n",
    "\n",
    "#### Goals\n",
    "- Make the search of finding the correct relationship as fast as possible:\n",
    "  usually relationships are quite a lot, and we need to iterate them at least a\n",
    "  couple of times. We can add progressively only the relationships that remain\n",
    "  after each pass, always one at a time and checking the model again."
   ]
  },
  {
   "cell_type": "code",
   "execution_count": 1,
   "metadata": {},
   "outputs": [],
   "source": [
    "from itertools import product\n",
    "from operator import itemgetter\n",
    "\n",
    "import yaml\n",
    "from z3 import (And, Const, Consts, DatatypeSortRef, Exists, ForAll,\n",
    "                FuncDeclRef, Implies, Model, Not, Or, Solver, sat, unsat)\n",
    "\n",
    "from mc_openapi.doml_mc import DOMLVersion\n",
    "from mc_openapi.doml_mc.intermediate_model.metamodel import (\n",
    "    parse_inverse_associations, parse_metamodel)\n",
    "from mc_openapi.doml_mc.xmi_parser.doml_model import (parse_doml_model,\n",
    "                                                      parse_xmi_model)\n",
    "from mc_openapi.doml_mc.z3encoding.im_encoding import (\n",
    "    assert_im_associations, assert_im_attributes,\n",
    "    def_elem_class_f_and_assert_classes, mk_attr_data_sort, mk_elem_sort_dict,\n",
    "    mk_stringsym_sort_dict)\n",
    "from mc_openapi.doml_mc.z3encoding.metamodel_encoding import (\n",
    "    def_association_rel, def_attribute_rel, mk_association_sort_dict,\n",
    "    mk_attribute_sort_dict, mk_class_sort_dict)\n",
    "from mc_openapi.doml_mc.z3encoding.types import Refs"
   ]
  },
  {
   "cell_type": "code",
   "execution_count": 2,
   "metadata": {},
   "outputs": [],
   "source": [
    "with open(\"../assets/doml_meta_v2.0.yaml\") as mmf:\n",
    "    mmdoc = yaml.load(mmf, yaml.Loader)\n",
    "mm = parse_metamodel(mmdoc)"
   ]
  },
  {
   "cell_type": "markdown",
   "metadata": {},
   "source": [
    "**You can change here the input DOML file**"
   ]
  },
  {
   "cell_type": "code",
   "execution_count": 3,
   "metadata": {
    "tags": [
     "parameters"
    ]
   },
   "outputs": [],
   "source": [
    "# doml_document_path = \"../../tests/doml/nginx-openstack_v2.0.domlx\"\n",
    "doml_document_path = \"../../tests/doml/v2.0/nginx-openstack_v2.0_wrong_vm_iface.domlx\"\n",
    "# doml_document_path = \"../../tests/doml/nginx-openstack_v2.0_wrong_iface_uniq.domlx\"\n",
    "# doml_document_path = \"../../tests/doml/saas_no_https_rule.domlx\"\n",
    "# doml_document_path = \"../../tests/doml/saas_https_no_attrs.domlx\"\n",
    "# doml_document_path = \"../../tests/doml/openstack_template.domlx\""
   ]
  },
  {
   "cell_type": "code",
   "execution_count": 4,
   "metadata": {},
   "outputs": [],
   "source": [
    "with open(doml_document_path, \"rb\") as xmif:\n",
    "    doc = xmif.read()\n",
    "\n",
    "im, _ = parse_doml_model(doc, DOMLVersion.V2_0)"
   ]
  },
  {
   "cell_type": "markdown",
   "metadata": {},
   "source": [
    "We need to initialize each time the Solver context before iterating,\n",
    "since an unbound variable is an element, and elements are an EnumSort,\n",
    "and EnumSorts cannot be modified and depend on the solver context.\n",
    "\n",
    "The following code is stuff that is already present in the `IntermediateModelChecker`."
   ]
  },
  {
   "cell_type": "code",
   "execution_count": 5,
   "metadata": {},
   "outputs": [],
   "source": [
    "from typing import Dict\n",
    "\n",
    "Context = Dict"
   ]
  },
  {
   "cell_type": "code",
   "execution_count": 6,
   "metadata": {},
   "outputs": [],
   "source": [
    "from mc_openapi.doml_mc.intermediate_model.metamodel import get_mangled_attribute_defaults\n",
    "\n",
    "\n",
    "def initialize_solver(\n",
    "    unbound_elems_quantity: int = 0,\n",
    "    unbound_values_quantity: int = 0,\n",
    "    requirements: list = []\n",
    ") -> Context:\n",
    "    ctx = dict()\n",
    "    \n",
    "    ctx[\"solver\"] = Solver()\n",
    "\n",
    "    ctx[\"class_sort\"], ctx[\"class_\"] = mk_class_sort_dict(mm, ctx[\"solver\"].ctx)\n",
    "    ctx[\"assoc_sort\"], ctx[\"assoc\"] = mk_association_sort_dict(mm, ctx[\"solver\"].ctx)\n",
    "    ctx[\"attr_sort\"], ctx[\"attr\"] = mk_attribute_sort_dict(mm, ctx[\"solver\"].ctx)\n",
    "    ctx[\"str_sort\"], ctx[\"str\"] = mk_stringsym_sort_dict(im, mm, ctx[\"solver\"].ctx)\n",
    "    ctx[\"attr_data_sort\"] = mk_attr_data_sort(ctx[\"str_sort\"], ctx[\"solver\"].ctx)\n",
    "\n",
    "    ctx[\"unbound_elems\"] = [f\"unbound_elem_{i}\" for i in range(unbound_elems_quantity)]\n",
    "\n",
    "    # Takes a list of strings and creates an Enum out of 'em\n",
    "    ctx[\"elem_sort\"], ctx[\"elem\"] = mk_elem_sort_dict(im, ctx[\"solver\"].ctx, ctx[\"unbound_elems\"])\n",
    "\n",
    "    ub_val_names = [f\"unbound_val_{i}\" for i in range(unbound_values_quantity)]\n",
    "    ctx[\"unbound_values\"] = {\n",
    "        name : ctx[\"attr_data_sort\"].placeholder for name in ub_val_names\n",
    "    }\n",
    "    # Examples of values that can go in unbound_values:\n",
    "    # ctx[\"attr_data_sort\"].int(42), # ok\n",
    "    # ctx[\"attr_data_sort\"].bool(True), # ok\n",
    "    # ctx[\"attr_data_sort\"].str(\"x\"), # cant do: it accept a ctx[\"str\"][<str_key>] as input\n",
    "    # Const(\"x\", ctx[\"attr_data_sort\"]) # cant do: it is a symbolic value that cannot be converted to a BoolRef expression\n",
    "\n",
    "    ctx[\"elem_class_f\"] = def_elem_class_f_and_assert_classes(\n",
    "        im,\n",
    "        ctx[\"solver\"],\n",
    "        ctx[\"elem_sort\"],\n",
    "        ctx[\"elem\"],\n",
    "        ctx[\"class_sort\"],\n",
    "        ctx[\"class_\"]\n",
    "    )\n",
    "    \n",
    "    # attr_rel :: (elem_sort, attr_sort, attr_data_sort) -> BoolRef\n",
    "    ctx[\"attr_rel\"] = def_attribute_rel(\n",
    "        ctx[\"attr_sort\"],\n",
    "        ctx[\"elem_sort\"],\n",
    "        ctx[\"attr_data_sort\"]\n",
    "    )\n",
    "\n",
    "    assert_im_attributes(\n",
    "        ctx[\"attr_rel\"],\n",
    "        ctx[\"solver\"],\n",
    "        im,\n",
    "        mm,\n",
    "        ctx[\"elem\"],\n",
    "        ctx[\"attr_sort\"],\n",
    "        ctx[\"attr\"],\n",
    "        ctx[\"attr_data_sort\"],\n",
    "        ctx[\"str\"]\n",
    "    )\n",
    "\n",
    "    # assoc_rel :: (elem_sort, assoc_sort, elem_sort) -> BoolRef\n",
    "    ctx[\"assoc_rel\"] = def_association_rel(\n",
    "        ctx[\"assoc_sort\"],\n",
    "        ctx[\"elem_sort\"]\n",
    "    )\n",
    "    \n",
    "    assert_im_associations(\n",
    "        ctx[\"assoc_rel\"],\n",
    "        ctx[\"solver\"],\n",
    "        {k: v for k, v in im.items() if k not in ctx[\"unbound_elems\"]},\n",
    "        ctx[\"elem\"],\n",
    "        ctx[\"assoc_sort\"],\n",
    "        ctx[\"assoc\"],\n",
    "    )\n",
    "\n",
    "    # Add requirements\n",
    "    for req in requirements:\n",
    "        req(ctx)\n",
    "\n",
    "    return ctx"
   ]
  },
  {
   "cell_type": "code",
   "execution_count": 7,
   "metadata": {},
   "outputs": [],
   "source": [
    "def req_every_vm_has_iface(ctx: Context):    \n",
    "    vm, iface = Consts(\"vm iface\", ctx[\"elem_sort\"])\n",
    "    vmIfaceAssertion = ForAll(\n",
    "        [vm],\n",
    "        Implies(\n",
    "            ctx[\"elem_class_f\"](vm) == ctx[\"class_\"][\"infrastructure_VirtualMachine\"],\n",
    "            Exists(\n",
    "                [iface],\n",
    "                And(\n",
    "                    ctx[\"assoc_rel\"](vm, ctx[\"assoc\"][\"infrastructure_ComputingNode::ifaces\"], iface)\n",
    "                )\n",
    "            )\n",
    "        )\n",
    "    )\n",
    "    ctx[\"solver\"].assert_and_track(vmIfaceAssertion, \"vm_iface\")"
   ]
  },
  {
   "cell_type": "code",
   "execution_count": 8,
   "metadata": {},
   "outputs": [],
   "source": [
    "def req_every_vm_has_cpucount(ctx: Context):    \n",
    "    vm = Const(\"vm\", ctx[\"elem_sort\"])\n",
    "    # CpuCount = Const(\"cpucount\", ctx[\"attr_data_sort\"]) # sort: AttributeData\n",
    "    from z3 import IntSort\n",
    "    CpuCount = Const(\"cpucount\", IntSort())\n",
    "    print(\"SORT: \", CpuCount.sort())\n",
    "    vmIfaceAssertion = ForAll(\n",
    "        [vm],\n",
    "        Implies(\n",
    "            ctx[\"elem_class_f\"](vm) == ctx[\"class_\"][\"infrastructure_VirtualMachine\"],\n",
    "            Exists(\n",
    "                [CpuCount],\n",
    "                And(\n",
    "                    ctx[\"attr_rel\"](vm, ctx[\"attr\"][\"infrastructure_ComputingNode::cpu_count\"], CpuCount)\n",
    "                )\n",
    "            )\n",
    "        )\n",
    "    )\n",
    "    ctx[\"solver\"].assert_and_track(vmIfaceAssertion, \"vm_cpucount\")"
   ]
  },
  {
   "cell_type": "code",
   "execution_count": 9,
   "metadata": {},
   "outputs": [],
   "source": [
    "def req_every_iface_has_a_secgroup(ctx):\n",
    "    sg, iface = Consts(\"sg iface\", ctx[\"elem_sort\"])\n",
    "    vmIfaceSecGroupAssertion = ForAll(\n",
    "        [sg],\n",
    "        Implies(\n",
    "            ctx[\"elem_class_f\"](sg) == ctx[\"class_\"][\"infrastructure_SecurityGroup\"],\n",
    "            Exists([iface], \n",
    "                ctx[\"assoc_rel\"](iface, ctx[\"assoc\"][\"infrastructure_NetworkInterface::associated\"], sg)\n",
    "            )\n",
    "        )\n",
    "    )\n",
    "    ctx[\"solver\"].assert_and_track(vmIfaceSecGroupAssertion, \"vm_secgroup\")"
   ]
  },
  {
   "cell_type": "code",
   "execution_count": 10,
   "metadata": {},
   "outputs": [],
   "source": [
    "def req_iface_uniq(ctx):\n",
    "    endPointAttr = ctx[\"attr\"][\"infrastructure_NetworkInterface::endPoint\"]\n",
    "    ni1, ni2 = Consts(\"ni1 ni2\", ctx[\"elem_sort\"])\n",
    "    value = Const(\"value\", ctx[\"attr_data_sort\"])\n",
    "    uniqueIfaceAssertion = And(\n",
    "        ctx[\"attr_rel\"](ni1, endPointAttr, value),\n",
    "        ctx[\"attr_rel\"](ni2, endPointAttr, value),\n",
    "        ni1 != ni2,\n",
    "    )\n",
    "    ctx[\"solver\"].assert_and_track(uniqueIfaceAssertion, \"unique_iface\")"
   ]
  },
  {
   "cell_type": "code",
   "execution_count": 11,
   "metadata": {},
   "outputs": [],
   "source": [
    "def req_external_services_must_have_https(ctx):\n",
    "    saas, sw_iface, sw_comp, deployment, ielem, net_iface, sec_group, rule = Consts(\"saas, sw_iface, sw_comp, deployment, ielem, net_iface, sec_group, rule\", ctx[\"elem_sort\"])\n",
    "    assertion = ForAll(\n",
    "        [saas, sec_group, sw_iface, sw_comp, deployment, ielem, net_iface],\n",
    "        Implies(\n",
    "            And(\n",
    "                ctx[\"elem_class_f\"](saas) == ctx[\"class_\"][\"application_SaaS\"],\n",
    "                ctx[\"elem_class_f\"](sec_group) == ctx[\"class_\"][\"infrastructure_SecurityGroup\"],\n",
    "                ctx[\"assoc_rel\"](saas, ctx[\"assoc\"][\"application_SaaS::exposedInterfaces\"], sw_iface),\n",
    "                ctx[\"assoc_rel\"](sw_comp, ctx[\"assoc\"][\"application_SoftwareComponent::consumedInterfaces\"], sw_iface),\n",
    "                ctx[\"assoc_rel\"](deployment, ctx[\"assoc\"][\"commons_Deployment::component\"], sw_comp),\n",
    "                ctx[\"assoc_rel\"](deployment, ctx[\"assoc\"][\"commons_Deployment::node\"], ielem),\n",
    "                ctx[\"assoc_rel\"](ielem, ctx[\"assoc\"][\"infrastructure_ComputingNode::ifaces\"], net_iface),\n",
    "                ctx[\"assoc_rel\"](net_iface, ctx[\"assoc\"][\"infrastructure_NetworkInterface::associated\"], sec_group),\n",
    "                ctx[\"assoc_rel\"](sec_group, ctx[\"assoc\"][\"infrastructure_SecurityGroup::rules\"], rule),\n",
    "            ),\n",
    "            Exists([rule],\n",
    "                And(\n",
    "                    # Every node that contacts an external service should belong to a security group implementing HTTPS\n",
    "                    ctx[\"attr_rel\"](rule, ctx[\"attr\"][\"infrastructure_Rule::fromPort\"], ctx[\"attr_data_sort\"].int(443)),\n",
    "                    ctx[\"attr_rel\"](rule, ctx[\"attr\"][\"infrastructure_Rule::toPort\"], ctx[\"attr_data_sort\"].int(443)),\n",
    "                    ctx[\"attr_rel\"](rule, ctx[\"attr\"][\"infrastructure_Rule::kind\"], ctx[\"attr_data_sort\"].str(ctx[\"str\"][\"INGRESS\"]))\n",
    "                )\n",
    "            )\n",
    "        )\n",
    "    )\n",
    "    ctx[\"solver\"].assert_and_track(assertion, \"ext_service_https\")"
   ]
  },
  {
   "cell_type": "markdown",
   "metadata": {},
   "source": [
    "### REMEMBER TO ADD REQUIREMENTS TO THE LIST!"
   ]
  },
  {
   "cell_type": "code",
   "execution_count": 12,
   "metadata": {
    "tags": [
     "parameters"
    ]
   },
   "outputs": [],
   "source": [
    "REQUIREMENTS = [\n",
    "    # req_every_vm_has_iface,\n",
    "    req_every_vm_has_cpucount\n",
    "    # req_every_iface_has_a_secgroup,\n",
    "    # req_iface_uniq,\n",
    "    # req_external_services_must_have_https\n",
    "]"
   ]
  },
  {
   "cell_type": "code",
   "execution_count": 13,
   "metadata": {},
   "outputs": [],
   "source": [
    "def check_iteratively(ubelems_n: int = 0, ubvals_n: int = 0, requirements: list = [], curr_try: int = 0, max_tries: int = 10) -> Context:\n",
    "    if curr_try > max_tries:\n",
    "        raise RuntimeError(\"Max tries exceeded.\")\n",
    "\n",
    "    ctx = initialize_solver(ubelems_n, ubvals_n, requirements)\n",
    "    solver = ctx[\"solver\"]\n",
    "\n",
    "    res = solver.check()\n",
    "\n",
    "    if res == sat:\n",
    "        print(\"\\033[92m\" + f\"<Sat>\\tubelems_n={ubelems_n}, ubvals_n={ubvals_n}\" + \"\\033[0m\")\n",
    "        return ctx\n",
    "    elif res == unsat:\n",
    "        print(\"\\033[91m\" + f\"<Unsat>\\tubelems_n={ubelems_n}, ubvals_n={ubvals_n}\" + \"\\033[0m\")\n",
    "        if ubelems_n > ubvals_n:\n",
    "            new_ubvals_n = ubvals_n * 2 if ubvals_n >= 1 else 1\n",
    "            return check_iteratively(ubelems_n, new_ubvals_n, requirements, curr_try + 1, max_tries)\n",
    "            # TODO: Choose which goes first\n",
    "        elif ubelems_n <= ubvals_n:\n",
    "            new_ubelems_n = ubelems_n * 2 if ubelems_n >= 1 else 1\n",
    "            return check_iteratively(new_ubelems_n, ubvals_n, requirements, curr_try + 1, max_tries)\n",
    "    else: # res == dontknow\n",
    "        raise RuntimeError(\"It took too long to decide.\")"
   ]
  },
  {
   "cell_type": "code",
   "execution_count": 14,
   "metadata": {
    "tags": []
   },
   "outputs": [
    {
     "name": "stdout",
     "output_type": "stream",
     "text": [
      "SORT:  AttributeData\n",
      "\u001b[92m<Sat>\tubelems_n=0, ubvals_n=1\u001b[0m\n"
     ]
    }
   ],
   "source": [
    "solved_ctx = check_iteratively(0, 1, requirements=REQUIREMENTS)\n",
    "\n",
    "solved_model = solved_ctx[\"solver\"].model()"
   ]
  },
  {
   "cell_type": "code",
   "execution_count": 15,
   "metadata": {},
   "outputs": [],
   "source": [
    "def get_ubelems_and_assoc(ctx: Context, model: Model):\n",
    "    elem, assoc, assoc_rel, unbound_elems = itemgetter(\"elem\", \"assoc\", \"assoc_rel\", \"unbound_elems\")(ctx)\n",
    "\n",
    "    return [ ((e1n, e1), a, (e2n, e2)) \n",
    "        for (e1n, e1), a, (e2n, e2) in product(elem.items(), assoc.values(), elem.items()) \n",
    "        if (e1n in unbound_elems or e2n in unbound_elems) and model.eval(assoc_rel(e1, a, e2))\n",
    "    ]"
   ]
  },
  {
   "cell_type": "code",
   "execution_count": 16,
   "metadata": {},
   "outputs": [],
   "source": [
    "def get_ubvals_and_attr(ctx: Context, model: Model):\n",
    "    elem, attr, attr_rel, unbound_values = itemgetter(\"elem\", \"attr\", \"attr_rel\", \"unbound_values\")(ctx)\n",
    "\n",
    "    return [ ((elem_k, elem_v), a, (ubval_k, ubval_v))\n",
    "        for (elem_k, elem_v), a, (ubval_k, ubval_v) in product(elem.items(), attr.values(), unbound_values.items())\n",
    "        if model.eval(attr_rel(elem_v, a, ubval_v))\n",
    "    ]"
   ]
  },
  {
   "cell_type": "code",
   "execution_count": 17,
   "metadata": {},
   "outputs": [],
   "source": [
    "# Utility code to print the names of associations and attributes in a human-readable way\n",
    "def pretty_ubelems_assoc(assoc):\n",
    "    (elem_1_k, elem_1_v), a, (elem_2_k, elem_2_v) = assoc\n",
    "    elem_1 = im.get(elem_1_k)\n",
    "    if elem_1:\n",
    "        elem_1_name = f\"{elem_1.class_} ({elem_1.user_friendly_name})\" if elem_1_k[0:4] == \"elem\" else f\"<'{elem_1_k}' not found>\"\n",
    "    else:\n",
    "        elem_1_name = elem_1_k\n",
    "    \n",
    "    elem_2 = im.get(elem_2_k)\n",
    "    if elem_2:\n",
    "        elem_2_name = f\"{elem_2.class_} ({elem_2.user_friendly_name})\" if elem_2_k[0:4] == \"elem\" else f\"<'{elem_2_k}' not found>\"\n",
    "    else:\n",
    "        elem_2_name = elem_2_k\n",
    "    \n",
    "    assoc_name = str(a)\n",
    "\n",
    "    return f\"{elem_1_name:<50s} {assoc_name:<60s} {elem_2_name:<30s}\"\n",
    "\n",
    "def pretty_ubvals_attrs(attrs):\n",
    "    (elem_k, elem_v), a, (ubval_k, ubval_v) = attrs\n",
    "\n",
    "    elem_1 = im.get(elem_k)\n",
    "    if elem_1:\n",
    "        elem_1_name = f\"{elem_1.class_} ({elem_1.user_friendly_name})\" if elem_k[0:4] == \"elem\" else f\"<'{elem_k}' not found>\"\n",
    "    else:\n",
    "        elem_1_name = elem_k\n",
    "\n",
    "    attr_name = str(a)\n",
    "\n",
    "    val_name = str(ubval_k)\n",
    "\n",
    "    return f\"{elem_1_name:<50s} {attr_name:<60s} {val_name:<30s}\""
   ]
  },
  {
   "cell_type": "code",
   "execution_count": 18,
   "metadata": {
    "tags": []
   },
   "outputs": [
    {
     "name": "stdout",
     "output_type": "stream",
     "text": [
      "\n",
      "------------------------------------------------------------------------------------------------------------------------\n",
      "application_SoftwareComponent (nginx)              application_SoftwareComponent::licenseCost                   unbound_val_0                 \n",
      "application_SoftwareComponent (nginx)              application_SoftwareComponent::configFile                    unbound_val_0                 \n",
      "infrastructure_VMImage (v_img)                     infrastructure_ComputingNodeGenerator::uri                   unbound_val_0                 \n",
      "infrastructure_VirtualMachine (vm1)                infrastructure_ComputingNode::architecture                   unbound_val_0                 \n",
      "infrastructure_VirtualMachine (vm1)                infrastructure_ComputingNode::memory_mb                      unbound_val_0                 \n",
      "infrastructure_VirtualMachine (vm1)                infrastructure_ComputingNode::memory_kb                      unbound_val_0                 \n",
      "infrastructure_VirtualMachine (vm1)                infrastructure_ComputingNode::storage                        unbound_val_0                 \n",
      "infrastructure_VirtualMachine (vm1)                infrastructure_ComputingNode::cpu_count                      unbound_val_0                 \n",
      "infrastructure_VirtualMachine (vm1)                infrastructure_ComputingNode::cost                           unbound_val_0                 \n",
      "infrastructure_VirtualMachine (vm1)                infrastructure_VirtualMachine::sizeDescription               unbound_val_0                 \n",
      "concrete_VirtualMachine (concrete_vm)              concrete_ConcreteElement::configurationScript                unbound_val_0                 \n",
      "concrete_Network (concrete_net)                    concrete_ConcreteElement::configurationScript                unbound_val_0                 \n",
      "concrete_VMImage (concrete_vm_image)               concrete_ConcreteElement::configurationScript                unbound_val_0                 \n"
     ]
    }
   ],
   "source": [
    "ubelems_and_assoc = get_ubelems_and_assoc(solved_ctx, solved_model)\n",
    "print(\"\\n\".join([pretty_ubelems_assoc(assoc) for assoc in ubelems_and_assoc]))\n",
    "\n",
    "print(\"-\" * 120)\n",
    "\n",
    "ubvals_and_attr = get_ubvals_and_attr(solved_ctx, solved_model)\n",
    "print(\"\\n\".join([pretty_ubvals_attrs(attr) for attr in ubvals_and_attr]))"
   ]
  },
  {
   "cell_type": "code",
   "execution_count": 19,
   "metadata": {},
   "outputs": [],
   "source": [
    "def thin_ubelems_and_assoc(ctx: Context, ubelems_and_assoc: list):\n",
    "    if not ubelems_and_assoc:\n",
    "        return []\n",
    "\n",
    "    (_, elem_1_v), a, (_, elem_2_v) = assoc = ubelems_and_assoc[0]\n",
    "    assoc_rel = ctx[\"assoc_rel\"](elem_1_v, a, elem_2_v)\n",
    "\n",
    "    # Add negated constraint\n",
    "    ctx[\"solver\"].push()\n",
    "    print(f\"\\tAdd constraint Not({pretty_ubelems_assoc(assoc)})\")\n",
    "    ctx[\"solver\"].add(Not(assoc_rel))\n",
    "    \n",
    "    res = ctx[\"solver\"].check()\n",
    "    \n",
    "    if res == sat:\n",
    "        print(\"SAT:\\tAdding one more constraint and trying again\")\n",
    "        # Get new ubelems_and_assoc\n",
    "        model = ctx[\"solver\"].model()\n",
    "        thinned_ubelems_and_assoc = get_ubelems_and_assoc(ctx, model)\n",
    "        \n",
    "        # Print table showing the diff\n",
    "        from difflib import context_diff\n",
    "        uvar_as_text = lambda input: [pretty_ubelems_assoc(assoc) for assoc in input]\n",
    "        print(\"\\n\".join([a for a in context_diff(uvar_as_text(ubelems_and_assoc), uvar_as_text(thinned_ubelems_and_assoc), lineterm=\"\", fromfile='Before', tofile=\"After\")]))\n",
    "\n",
    "        # Iterate\n",
    "        return thin_ubelems_and_assoc(ctx, thinned_ubelems_and_assoc)\n",
    "    else:\n",
    "        print(\"UNSAT\\tLast constraint was the association we are looking for!\")\n",
    "        ctx[\"solver\"].pop()\n",
    "        \n",
    "        if ubelems_and_assoc[1:]:\n",
    "            print(\"\\tIterating over\")\n",
    "            print(\"\\t\\t\" + \"\\n\\t\\t\".join([pretty_ubelems_assoc(assoc) for assoc in ubelems_and_assoc[1:]]))\n",
    "        return [*set([assoc] + thin_ubelems_and_assoc(ctx, ubelems_and_assoc[1:]))]\n",
    "\n",
    "\n",
    "assoc_to_implement = thin_ubelems_and_assoc(solved_ctx, ubelems_and_assoc)"
   ]
  },
  {
   "cell_type": "code",
   "execution_count": 20,
   "metadata": {},
   "outputs": [
    {
     "name": "stdout",
     "output_type": "stream",
     "text": [
      "\n"
     ]
    }
   ],
   "source": [
    "print(\"\\n\".join([pretty_ubelems_assoc(assoc) for assoc in assoc_to_implement]))"
   ]
  },
  {
   "cell_type": "code",
   "execution_count": 21,
   "metadata": {},
   "outputs": [
    {
     "name": "stdout",
     "output_type": "stream",
     "text": [
      "\tAdd constraint Not(application_SoftwareComponent (nginx)              application_SoftwareComponent::licenseCost                   unbound_val_0                 )\n",
      "UNSAT\tLast constraint was the attribute we are looking for!\n",
      "\tIterating over\n",
      "\t\tapplication_SoftwareComponent (nginx)              application_SoftwareComponent::configFile                    unbound_val_0                 \n",
      "\t\tinfrastructure_VMImage (v_img)                     infrastructure_ComputingNodeGenerator::uri                   unbound_val_0                 \n",
      "\t\tinfrastructure_VirtualMachine (vm1)                infrastructure_ComputingNode::architecture                   unbound_val_0                 \n",
      "\t\tinfrastructure_VirtualMachine (vm1)                infrastructure_ComputingNode::memory_mb                      unbound_val_0                 \n",
      "\t\tinfrastructure_VirtualMachine (vm1)                infrastructure_ComputingNode::memory_kb                      unbound_val_0                 \n",
      "\t\tinfrastructure_VirtualMachine (vm1)                infrastructure_ComputingNode::storage                        unbound_val_0                 \n",
      "\t\tinfrastructure_VirtualMachine (vm1)                infrastructure_ComputingNode::cpu_count                      unbound_val_0                 \n",
      "\t\tinfrastructure_VirtualMachine (vm1)                infrastructure_ComputingNode::cost                           unbound_val_0                 \n",
      "\t\tinfrastructure_VirtualMachine (vm1)                infrastructure_VirtualMachine::sizeDescription               unbound_val_0                 \n",
      "\t\tconcrete_VirtualMachine (concrete_vm)              concrete_ConcreteElement::configurationScript                unbound_val_0                 \n",
      "\t\tconcrete_Network (concrete_net)                    concrete_ConcreteElement::configurationScript                unbound_val_0                 \n",
      "\t\tconcrete_VMImage (concrete_vm_image)               concrete_ConcreteElement::configurationScript                unbound_val_0                 \n",
      "\tAdd constraint Not(application_SoftwareComponent (nginx)              application_SoftwareComponent::configFile                    unbound_val_0                 )\n",
      "UNSAT\tLast constraint was the attribute we are looking for!\n",
      "\tIterating over\n",
      "\t\tinfrastructure_VMImage (v_img)                     infrastructure_ComputingNodeGenerator::uri                   unbound_val_0                 \n",
      "\t\tinfrastructure_VirtualMachine (vm1)                infrastructure_ComputingNode::architecture                   unbound_val_0                 \n",
      "\t\tinfrastructure_VirtualMachine (vm1)                infrastructure_ComputingNode::memory_mb                      unbound_val_0                 \n",
      "\t\tinfrastructure_VirtualMachine (vm1)                infrastructure_ComputingNode::memory_kb                      unbound_val_0                 \n",
      "\t\tinfrastructure_VirtualMachine (vm1)                infrastructure_ComputingNode::storage                        unbound_val_0                 \n",
      "\t\tinfrastructure_VirtualMachine (vm1)                infrastructure_ComputingNode::cpu_count                      unbound_val_0                 \n",
      "\t\tinfrastructure_VirtualMachine (vm1)                infrastructure_ComputingNode::cost                           unbound_val_0                 \n",
      "\t\tinfrastructure_VirtualMachine (vm1)                infrastructure_VirtualMachine::sizeDescription               unbound_val_0                 \n",
      "\t\tconcrete_VirtualMachine (concrete_vm)              concrete_ConcreteElement::configurationScript                unbound_val_0                 \n",
      "\t\tconcrete_Network (concrete_net)                    concrete_ConcreteElement::configurationScript                unbound_val_0                 \n",
      "\t\tconcrete_VMImage (concrete_vm_image)               concrete_ConcreteElement::configurationScript                unbound_val_0                 \n",
      "\tAdd constraint Not(infrastructure_VMImage (v_img)                     infrastructure_ComputingNodeGenerator::uri                   unbound_val_0                 )\n",
      "UNSAT\tLast constraint was the attribute we are looking for!\n",
      "\tIterating over\n",
      "\t\tinfrastructure_VirtualMachine (vm1)                infrastructure_ComputingNode::architecture                   unbound_val_0                 \n",
      "\t\tinfrastructure_VirtualMachine (vm1)                infrastructure_ComputingNode::memory_mb                      unbound_val_0                 \n",
      "\t\tinfrastructure_VirtualMachine (vm1)                infrastructure_ComputingNode::memory_kb                      unbound_val_0                 \n",
      "\t\tinfrastructure_VirtualMachine (vm1)                infrastructure_ComputingNode::storage                        unbound_val_0                 \n",
      "\t\tinfrastructure_VirtualMachine (vm1)                infrastructure_ComputingNode::cpu_count                      unbound_val_0                 \n",
      "\t\tinfrastructure_VirtualMachine (vm1)                infrastructure_ComputingNode::cost                           unbound_val_0                 \n",
      "\t\tinfrastructure_VirtualMachine (vm1)                infrastructure_VirtualMachine::sizeDescription               unbound_val_0                 \n",
      "\t\tconcrete_VirtualMachine (concrete_vm)              concrete_ConcreteElement::configurationScript                unbound_val_0                 \n",
      "\t\tconcrete_Network (concrete_net)                    concrete_ConcreteElement::configurationScript                unbound_val_0                 \n",
      "\t\tconcrete_VMImage (concrete_vm_image)               concrete_ConcreteElement::configurationScript                unbound_val_0                 \n",
      "\tAdd constraint Not(infrastructure_VirtualMachine (vm1)                infrastructure_ComputingNode::architecture                   unbound_val_0                 )\n",
      "UNSAT\tLast constraint was the attribute we are looking for!\n",
      "\tIterating over\n",
      "\t\tinfrastructure_VirtualMachine (vm1)                infrastructure_ComputingNode::memory_mb                      unbound_val_0                 \n",
      "\t\tinfrastructure_VirtualMachine (vm1)                infrastructure_ComputingNode::memory_kb                      unbound_val_0                 \n",
      "\t\tinfrastructure_VirtualMachine (vm1)                infrastructure_ComputingNode::storage                        unbound_val_0                 \n",
      "\t\tinfrastructure_VirtualMachine (vm1)                infrastructure_ComputingNode::cpu_count                      unbound_val_0                 \n",
      "\t\tinfrastructure_VirtualMachine (vm1)                infrastructure_ComputingNode::cost                           unbound_val_0                 \n",
      "\t\tinfrastructure_VirtualMachine (vm1)                infrastructure_VirtualMachine::sizeDescription               unbound_val_0                 \n",
      "\t\tconcrete_VirtualMachine (concrete_vm)              concrete_ConcreteElement::configurationScript                unbound_val_0                 \n",
      "\t\tconcrete_Network (concrete_net)                    concrete_ConcreteElement::configurationScript                unbound_val_0                 \n",
      "\t\tconcrete_VMImage (concrete_vm_image)               concrete_ConcreteElement::configurationScript                unbound_val_0                 \n",
      "\tAdd constraint Not(infrastructure_VirtualMachine (vm1)                infrastructure_ComputingNode::memory_mb                      unbound_val_0                 )\n",
      "UNSAT\tLast constraint was the attribute we are looking for!\n",
      "\tIterating over\n",
      "\t\tinfrastructure_VirtualMachine (vm1)                infrastructure_ComputingNode::memory_kb                      unbound_val_0                 \n",
      "\t\tinfrastructure_VirtualMachine (vm1)                infrastructure_ComputingNode::storage                        unbound_val_0                 \n",
      "\t\tinfrastructure_VirtualMachine (vm1)                infrastructure_ComputingNode::cpu_count                      unbound_val_0                 \n",
      "\t\tinfrastructure_VirtualMachine (vm1)                infrastructure_ComputingNode::cost                           unbound_val_0                 \n",
      "\t\tinfrastructure_VirtualMachine (vm1)                infrastructure_VirtualMachine::sizeDescription               unbound_val_0                 \n",
      "\t\tconcrete_VirtualMachine (concrete_vm)              concrete_ConcreteElement::configurationScript                unbound_val_0                 \n",
      "\t\tconcrete_Network (concrete_net)                    concrete_ConcreteElement::configurationScript                unbound_val_0                 \n",
      "\t\tconcrete_VMImage (concrete_vm_image)               concrete_ConcreteElement::configurationScript                unbound_val_0                 \n",
      "\tAdd constraint Not(infrastructure_VirtualMachine (vm1)                infrastructure_ComputingNode::memory_kb                      unbound_val_0                 )\n",
      "UNSAT\tLast constraint was the attribute we are looking for!\n",
      "\tIterating over\n",
      "\t\tinfrastructure_VirtualMachine (vm1)                infrastructure_ComputingNode::storage                        unbound_val_0                 \n",
      "\t\tinfrastructure_VirtualMachine (vm1)                infrastructure_ComputingNode::cpu_count                      unbound_val_0                 \n",
      "\t\tinfrastructure_VirtualMachine (vm1)                infrastructure_ComputingNode::cost                           unbound_val_0                 \n",
      "\t\tinfrastructure_VirtualMachine (vm1)                infrastructure_VirtualMachine::sizeDescription               unbound_val_0                 \n",
      "\t\tconcrete_VirtualMachine (concrete_vm)              concrete_ConcreteElement::configurationScript                unbound_val_0                 \n",
      "\t\tconcrete_Network (concrete_net)                    concrete_ConcreteElement::configurationScript                unbound_val_0                 \n",
      "\t\tconcrete_VMImage (concrete_vm_image)               concrete_ConcreteElement::configurationScript                unbound_val_0                 \n",
      "\tAdd constraint Not(infrastructure_VirtualMachine (vm1)                infrastructure_ComputingNode::storage                        unbound_val_0                 )\n",
      "UNSAT\tLast constraint was the attribute we are looking for!\n",
      "\tIterating over\n",
      "\t\tinfrastructure_VirtualMachine (vm1)                infrastructure_ComputingNode::cpu_count                      unbound_val_0                 \n",
      "\t\tinfrastructure_VirtualMachine (vm1)                infrastructure_ComputingNode::cost                           unbound_val_0                 \n",
      "\t\tinfrastructure_VirtualMachine (vm1)                infrastructure_VirtualMachine::sizeDescription               unbound_val_0                 \n",
      "\t\tconcrete_VirtualMachine (concrete_vm)              concrete_ConcreteElement::configurationScript                unbound_val_0                 \n",
      "\t\tconcrete_Network (concrete_net)                    concrete_ConcreteElement::configurationScript                unbound_val_0                 \n",
      "\t\tconcrete_VMImage (concrete_vm_image)               concrete_ConcreteElement::configurationScript                unbound_val_0                 \n",
      "\tAdd constraint Not(infrastructure_VirtualMachine (vm1)                infrastructure_ComputingNode::cpu_count                      unbound_val_0                 )\n",
      "UNSAT\tLast constraint was the attribute we are looking for!\n",
      "\tIterating over\n",
      "\t\tinfrastructure_VirtualMachine (vm1)                infrastructure_ComputingNode::cost                           unbound_val_0                 \n",
      "\t\tinfrastructure_VirtualMachine (vm1)                infrastructure_VirtualMachine::sizeDescription               unbound_val_0                 \n",
      "\t\tconcrete_VirtualMachine (concrete_vm)              concrete_ConcreteElement::configurationScript                unbound_val_0                 \n",
      "\t\tconcrete_Network (concrete_net)                    concrete_ConcreteElement::configurationScript                unbound_val_0                 \n",
      "\t\tconcrete_VMImage (concrete_vm_image)               concrete_ConcreteElement::configurationScript                unbound_val_0                 \n",
      "\tAdd constraint Not(infrastructure_VirtualMachine (vm1)                infrastructure_ComputingNode::cost                           unbound_val_0                 )\n",
      "UNSAT\tLast constraint was the attribute we are looking for!\n",
      "\tIterating over\n",
      "\t\tinfrastructure_VirtualMachine (vm1)                infrastructure_VirtualMachine::sizeDescription               unbound_val_0                 \n",
      "\t\tconcrete_VirtualMachine (concrete_vm)              concrete_ConcreteElement::configurationScript                unbound_val_0                 \n",
      "\t\tconcrete_Network (concrete_net)                    concrete_ConcreteElement::configurationScript                unbound_val_0                 \n",
      "\t\tconcrete_VMImage (concrete_vm_image)               concrete_ConcreteElement::configurationScript                unbound_val_0                 \n",
      "\tAdd constraint Not(infrastructure_VirtualMachine (vm1)                infrastructure_VirtualMachine::sizeDescription               unbound_val_0                 )\n",
      "UNSAT\tLast constraint was the attribute we are looking for!\n",
      "\tIterating over\n",
      "\t\tconcrete_VirtualMachine (concrete_vm)              concrete_ConcreteElement::configurationScript                unbound_val_0                 \n",
      "\t\tconcrete_Network (concrete_net)                    concrete_ConcreteElement::configurationScript                unbound_val_0                 \n",
      "\t\tconcrete_VMImage (concrete_vm_image)               concrete_ConcreteElement::configurationScript                unbound_val_0                 \n",
      "\tAdd constraint Not(concrete_VirtualMachine (concrete_vm)              concrete_ConcreteElement::configurationScript                unbound_val_0                 )\n",
      "UNSAT\tLast constraint was the attribute we are looking for!\n",
      "\tIterating over\n",
      "\t\tconcrete_Network (concrete_net)                    concrete_ConcreteElement::configurationScript                unbound_val_0                 \n",
      "\t\tconcrete_VMImage (concrete_vm_image)               concrete_ConcreteElement::configurationScript                unbound_val_0                 \n",
      "\tAdd constraint Not(concrete_Network (concrete_net)                    concrete_ConcreteElement::configurationScript                unbound_val_0                 )\n",
      "UNSAT\tLast constraint was the attribute we are looking for!\n",
      "\tIterating over\n",
      "\t\tconcrete_VMImage (concrete_vm_image)               concrete_ConcreteElement::configurationScript                unbound_val_0                 \n",
      "\tAdd constraint Not(concrete_VMImage (concrete_vm_image)               concrete_ConcreteElement::configurationScript                unbound_val_0                 )\n",
      "UNSAT\tLast constraint was the attribute we are looking for!\n"
     ]
    }
   ],
   "source": [
    "def thin_ubvals_and_attr(ctx: Context, ubvals_and_attr: list):\n",
    "    if not ubvals_and_attr:\n",
    "        return []\n",
    "\n",
    "    (_, elem_v), a, (_, attr_v) = attr = ubvals_and_attr[0]\n",
    "    attr_rel = ctx[\"attr_rel\"](elem_v, a, attr_v)\n",
    "\n",
    "    # Add negated constraint\n",
    "    ctx[\"solver\"].push()\n",
    "    print(f\"\\tAdd constraint Not({pretty_ubvals_attrs(attr)})\")\n",
    "    ctx[\"solver\"].add(Not(attr_rel))\n",
    "    \n",
    "    res = ctx[\"solver\"].check()\n",
    "    \n",
    "    if res == sat:\n",
    "        print(\"SAT:\\tAdding one more constraint and trying again\")\n",
    "        # Get new ubelems_and_assoc\n",
    "        model = ctx[\"solver\"].model()\n",
    "        thinned_ubvals_and_attr = get_ubvals_and_attr(ctx, model)\n",
    "        \n",
    "        # Print table showing the diff\n",
    "        from difflib import context_diff\n",
    "        uvar_as_text = lambda input: [pretty_ubvals_attrs(attr) for attr in input]\n",
    "        print(\"\\n\".join([a for a in context_diff(uvar_as_text(ubelems_and_assoc), uvar_as_text(thinned_ubvals_and_attr), lineterm=\"\", fromfile='Before', tofile=\"After\")]))\n",
    "\n",
    "        # Iterate\n",
    "        return thin_ubvals_and_attr(ctx, thinned_ubvals_and_attr)\n",
    "    else:\n",
    "        print(\"UNSAT\\tLast constraint was the attribute we are looking for!\")\n",
    "        ctx[\"solver\"].pop()\n",
    "        \n",
    "        if ubvals_and_attr[1:]:\n",
    "            print(\"\\tIterating over\")\n",
    "            print(\"\\t\\t\" + \"\\n\\t\\t\".join([pretty_ubvals_attrs(attr) for attr in ubvals_and_attr[1:]]))\n",
    "        return [*set([attr] + thin_ubvals_and_attr(ctx, ubvals_and_attr[1:]))]\n",
    "\n",
    "\n",
    "attrs_to_implement = thin_ubvals_and_attr(solved_ctx, ubvals_and_attr)"
   ]
  },
  {
   "cell_type": "code",
   "execution_count": 22,
   "metadata": {},
   "outputs": [
    {
     "name": "stdout",
     "output_type": "stream",
     "text": [
      "infrastructure_VirtualMachine (vm1)                infrastructure_ComputingNode::memory_mb                      unbound_val_0                 \n",
      "application_SoftwareComponent (nginx)              application_SoftwareComponent::configFile                    unbound_val_0                 \n",
      "infrastructure_VirtualMachine (vm1)                infrastructure_ComputingNode::architecture                   unbound_val_0                 \n",
      "infrastructure_VirtualMachine (vm1)                infrastructure_ComputingNode::cost                           unbound_val_0                 \n",
      "infrastructure_VirtualMachine (vm1)                infrastructure_ComputingNode::memory_kb                      unbound_val_0                 \n",
      "concrete_VirtualMachine (concrete_vm)              concrete_ConcreteElement::configurationScript                unbound_val_0                 \n",
      "concrete_VMImage (concrete_vm_image)               concrete_ConcreteElement::configurationScript                unbound_val_0                 \n",
      "infrastructure_VirtualMachine (vm1)                infrastructure_ComputingNode::storage                        unbound_val_0                 \n",
      "concrete_Network (concrete_net)                    concrete_ConcreteElement::configurationScript                unbound_val_0                 \n",
      "infrastructure_VirtualMachine (vm1)                infrastructure_ComputingNode::cpu_count                      unbound_val_0                 \n",
      "application_SoftwareComponent (nginx)              application_SoftwareComponent::licenseCost                   unbound_val_0                 \n",
      "infrastructure_VirtualMachine (vm1)                infrastructure_VirtualMachine::sizeDescription               unbound_val_0                 \n",
      "infrastructure_VMImage (v_img)                     infrastructure_ComputingNodeGenerator::uri                   unbound_val_0                 \n"
     ]
    }
   ],
   "source": [
    "print(\"\\n\".join([pretty_ubvals_attrs(attr) for attr in attrs_to_implement]))"
   ]
  },
  {
   "cell_type": "markdown",
   "metadata": {},
   "source": [
    "From here, we should then add this in the Intermediate Model, and then in the ECore (?) to generate the DOML file somehow.\n",
    "\n",
    "We can then provide the new file, or a diff to be patched onto the original?"
   ]
  }
 ],
 "metadata": {
  "kernelspec": {
   "display_name": "Python 3.10.7 ('.venv': poetry)",
   "language": "python",
   "name": "python3"
  },
  "language_info": {
   "codemirror_mode": {
    "name": "ipython",
    "version": 3
   },
   "file_extension": ".py",
   "mimetype": "text/x-python",
   "name": "python",
   "nbconvert_exporter": "python",
   "pygments_lexer": "ipython3",
   "version": "3.11.0"
  },
  "orig_nbformat": 4,
  "vscode": {
   "interpreter": {
    "hash": "d98256633358fe1daa4009223d54520a3e2548801398a173545d5698bb289e16"
   }
  }
 },
 "nbformat": 4,
 "nbformat_minor": 2
}
