{
 "cells": [
  {
   "cell_type": "markdown",
   "metadata": {},
   "source": [
    "# Parser Prototype"
   ]
  },
  {
   "cell_type": "code",
   "execution_count": 1,
   "metadata": {},
   "outputs": [],
   "source": [
    "from lark import Lark\n",
    "\n",
    "with open(\"grammar.lark\") as grammar_file:\n",
    "    grammar = grammar_file.read()"
   ]
  },
  {
   "cell_type": "code",
   "execution_count": 2,
   "metadata": {},
   "outputs": [],
   "source": [
    "# vm, iface = get_consts(smtsorts, [\"vm\", \"iface\"])\n",
    "# return And(\n",
    "#     smtenc.element_class_fun(vm) == smtenc.classes[\"abstract_VirtualMachine\"],\n",
    "#     Not(\n",
    "#         Exists(\n",
    "#             [iface],\n",
    "#             ENCODINGS.association_rel(vm, smtenc.associations[\"abstract_ComputingNode::ifaces\"], iface)\n",
    "#         )\n",
    "#     )\n",
    "# )\n",
    "\n",
    "expr_to_parse = r\"\"\"\n",
    "+   \"example requirement to test\"\n",
    "    # Expr to parse\n",
    "    not vm is class abstract.VirtualMachine\n",
    "    and\n",
    "    vm is not class abstract.Storage\n",
    "    iff\n",
    "    not exists iface, apple (\n",
    "        (vm has abstract.ComputingNode.ifaces iface)\n",
    "        or\n",
    "        (vm has abstract.ComputingNode.os Os1)\n",
    "        and\n",
    "        (vm has abstract.ComputingNode.memory_mb 1024)\n",
    "        and\n",
    "        (vm has abstract.ComputingNode.architecture \"linux\")\n",
    "        and\n",
    "        (vm has application.SoftwareComponent.isPersistent !True)\n",
    "    )\n",
    "    ---\n",
    "    \"Virtual Machine {vm} has no iface\"\n",
    "\n",
    "+   \"example requirement to test\"\n",
    "    # Expr to parse\n",
    "    not vm is class abstract.VirtualMachine\n",
    "    and\n",
    "    vm is not class abstract.Storage\n",
    "    iff\n",
    "    not exists iface, apple (\n",
    "        (vm has abstract.ComputingNode.ifaces iface)\n",
    "        or\n",
    "        (vm has abstract.ComputingNode.os Os1)\n",
    "        and\n",
    "        (\n",
    "            vm has abstract.ComputingNode.memory_mb Mem\n",
    "            and\n",
    "            Mem > 256\n",
    "        )\n",
    "    )\n",
    "    ---\n",
    "    \"Virtual Machine {vm} has no iface\"\n",
    "\"\"\""
   ]
  },
  {
   "cell_type": "code",
   "execution_count": 3,
   "metadata": {},
   "outputs": [
    {
     "name": "stdout",
     "output_type": "stream",
     "text": [
      "requirements\n",
      "  requirement\n",
      "    +\n",
      "    req_name\t\"example requirement to test\"\n",
      "    iff_expr\n",
      "      and_expr\n",
      "        negation\n",
      "          equality\n",
      "            const_or_class\tvm\n",
      "            const_or_class\tabstract.VirtualMachine\n",
      "        inequality\n",
      "          const_or_class\tvm\n",
      "          const_or_class\tabstract.Storage\n",
      "      negation\n",
      "        exists\n",
      "          bound_consts\n",
      "            iface\n",
      "            apple\n",
      "          and_expr\n",
      "            or_expr\n",
      "              relationship_expr\n",
      "                vm\n",
      "                abstract.ComputingNode.ifaces\n",
      "                iface\n",
      "              relationship_expr\n",
      "                vm\n",
      "                abstract.ComputingNode.os\n",
      "                value\tOs1\n",
      "            relationship_expr\n",
      "              vm\n",
      "              abstract.ComputingNode.memory_mb\n",
      "              value\t1024\n",
      "            relationship_expr\n",
      "              vm\n",
      "              abstract.ComputingNode.architecture\n",
      "              value\t\"linux\"\n",
      "            relationship_expr\n",
      "              vm\n",
      "              application.SoftwareComponent.isPersistent\n",
      "              value\t!True\n",
      "    ---\n",
      "    error_desc\t\"Virtual Machine {vm} has no iface\"\n",
      "  requirement\n",
      "    +\n",
      "    req_name\t\"example requirement to test\"\n",
      "    iff_expr\n",
      "      and_expr\n",
      "        negation\n",
      "          equality\n",
      "            const_or_class\tvm\n",
      "            const_or_class\tabstract.VirtualMachine\n",
      "        inequality\n",
      "          const_or_class\tvm\n",
      "          const_or_class\tabstract.Storage\n",
      "      negation\n",
      "        exists\n",
      "          bound_consts\n",
      "            iface\n",
      "            apple\n",
      "          and_expr\n",
      "            or_expr\n",
      "              relationship_expr\n",
      "                vm\n",
      "                abstract.ComputingNode.ifaces\n",
      "                iface\n",
      "              relationship_expr\n",
      "                vm\n",
      "                abstract.ComputingNode.os\n",
      "                value\tOs1\n",
      "            and_expr\n",
      "              relationship_expr\n",
      "                vm\n",
      "                abstract.ComputingNode.memory_mb\n",
      "                value\tMem\n",
      "              comparison\n",
      "                value\tMem\n",
      "                >\n",
      "                value\t256\n",
      "    ---\n",
      "    error_desc\t\"Virtual Machine {vm} has no iface\"\n",
      "\n"
     ]
    }
   ],
   "source": [
    "parser = Lark(grammar, start=\"requirements\")\n",
    "tree = parser.parse(expr_to_parse)\n",
    "\n",
    "print(tree.pretty())"
   ]
  },
  {
   "cell_type": "markdown",
   "metadata": {},
   "source": []
  },
  {
   "cell_type": "markdown",
   "metadata": {},
   "source": [
    "We need the `ModelChecker` to import `SMTEncodings` and `SMTSorts` in order to create our Z3 constants programmatically.\n",
    "\n",
    "Now the model checker should expose the *intermediate model checker* which should provide us with those two collections."
   ]
  },
  {
   "cell_type": "code",
   "execution_count": 4,
   "metadata": {},
   "outputs": [],
   "source": [
    "from mc_openapi.doml_mc import ModelChecker, DOMLVersion\n",
    "from mc_openapi.doml_mc.imc import IntermediateModelChecker\n",
    "\n",
    "# Import DOMLX as bytes\n",
    "doml_document_path = \"../../../tests/doml/faas.domlx\"\n",
    "with open(doml_document_path, \"rb\") as xmif:\n",
    "    doml_xmi = xmif.read()\n",
    "\n",
    "model_checker = ModelChecker(doml_xmi, DOMLVersion.V2_0)\n",
    "\n",
    "intermediate_model_checker = IntermediateModelChecker(\n",
    "    model_checker.metamodel,\n",
    "    model_checker.inv_assoc,\n",
    "    model_checker.intermediate_model\n",
    ")"
   ]
  },
  {
   "cell_type": "markdown",
   "metadata": {},
   "source": [
    "The parser will now produce a Z3 expression to evaluate."
   ]
  },
  {
   "cell_type": "code",
   "execution_count": 5,
   "metadata": {},
   "outputs": [
    {
     "name": "stdout",
     "output_type": "stream",
     "text": [
      "[Requirement(assert_callable=<function DSLTransformer.iff_expr.<locals>.<lambda> at 0x7fe654129900>,\n",
      "             assert_name='example_requirement_to_test',\n",
      "             description='example requirement to test',\n",
      "             error_description=<function DSLTransformer.requirement.<locals>.<lambda> at 0x7fe6541295a0>,\n",
      "             flipped=False),\n",
      " Requirement(assert_callable=<function DSLTransformer.iff_expr.<locals>.<lambda> at 0x7fe65412ad40>,\n",
      "             assert_name='example_requirement_to_test',\n",
      "             description='example requirement to test',\n",
      "             error_description=<function DSLTransformer.requirement.<locals>.<lambda> at 0x7fe65412aef0>,\n",
      "             flipped=False)]\n"
     ]
    }
   ],
   "source": [
    "from pprint import pprint\n",
    "from z3 import Not, And, Or, Xor, Implies, Exists, ForAll\n",
    "\n",
    "from mc_openapi.doml_mc.dsl_parser.parser import Parser\n",
    "\n",
    "parser = Parser(grammar)\n",
    "\n",
    "reqs_store, user_value_strings = parser.parse(expr_to_parse)\n",
    "\n",
    "pprint(reqs_store.get_all_requirements())"
   ]
  },
  {
   "cell_type": "code",
   "execution_count": 6,
   "metadata": {},
   "outputs": [],
   "source": [
    "intermediate_model_checker.instantiate_solver(user_value_strings)\n",
    "ENCODINGS =  intermediate_model_checker.smt_encoding\n",
    "SORTS = intermediate_model_checker.smt_sorts\n",
    "\n",
    "assert ENCODINGS and SORTS"
   ]
  },
  {
   "cell_type": "code",
   "execution_count": 7,
   "metadata": {},
   "outputs": [
    {
     "name": "stdout",
     "output_type": "stream",
     "text": [
      "And(Not(elem_class(vm) == infrastructure_VirtualMachine),\n",
      "    elem_class(vm) != infrastructure_Storage) ==\n",
      "Not(Exists([iface, apple],\n",
      "           And(Or(association(vm,\n",
      "                              infrastructure_ComputingNode::ifaces,\n",
      "                              iface),\n",
      "                  attribute(vm,\n",
      "                            infrastructure_ComputingNode::os,\n",
      "                            Os1)),\n",
      "               attribute(vm,\n",
      "                         infrastructure_ComputingNode::memory_mb,\n",
      "                         int(1024)),\n",
      "               attribute(vm,\n",
      "                         infrastructure_ComputingNode::architecture,\n",
      "                         ss(ss_50__linux_)),\n",
      "               attribute(vm,\n",
      "                         application_SoftwareComponent::isPersistent,\n",
      "                         bool(True)))))\n",
      "And(Not(elem_class(vm) == infrastructure_VirtualMachine),\n",
      "    elem_class(vm) != infrastructure_Storage) ==\n",
      "Not(Exists([iface, apple],\n",
      "           And(Or(association(vm,\n",
      "                              infrastructure_ComputingNode::ifaces,\n",
      "                              iface),\n",
      "                  attribute(vm,\n",
      "                            infrastructure_ComputingNode::os,\n",
      "                            Os1)),\n",
      "               And(attribute(vm,\n",
      "                             infrastructure_ComputingNode::memory_mb,\n",
      "                             Mem),\n",
      "                   get_int(Mem) > get_int(int(256))))))\n"
     ]
    }
   ],
   "source": [
    "for req in reqs_store.get_all_requirements():\n",
    "    print(req.assert_callable(ENCODINGS, SORTS))"
   ]
  }
 ],
 "metadata": {
  "kernelspec": {
   "display_name": "Python 3.10.7 ('.venv': poetry)",
   "language": "python",
   "name": "python3"
  },
  "language_info": {
   "codemirror_mode": {
    "name": "ipython",
    "version": 3
   },
   "file_extension": ".py",
   "mimetype": "text/x-python",
   "name": "python",
   "nbconvert_exporter": "python",
   "pygments_lexer": "ipython3",
   "version": "3.10.7"
  },
  "orig_nbformat": 4,
  "vscode": {
   "interpreter": {
    "hash": "d98256633358fe1daa4009223d54520a3e2548801398a173545d5698bb289e16"
   }
  }
 },
 "nbformat": 4,
 "nbformat_minor": 2
}
