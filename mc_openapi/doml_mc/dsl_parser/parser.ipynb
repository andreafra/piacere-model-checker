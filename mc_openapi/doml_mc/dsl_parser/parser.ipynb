{
 "cells": [
  {
   "cell_type": "markdown",
   "metadata": {},
   "source": [
    "# Parser Prototype"
   ]
  },
  {
   "cell_type": "code",
   "execution_count": 1,
   "metadata": {},
   "outputs": [],
   "source": [
    "from lark import Lark\n",
    "\n",
    "with open(\"grammar.lark\") as grammar_file:\n",
    "    grammar = grammar_file.read()"
   ]
  },
  {
   "cell_type": "code",
   "execution_count": 2,
   "metadata": {},
   "outputs": [],
   "source": [
    "# vm, iface = get_consts(smtsorts, [\"vm\", \"iface\"])\n",
    "# return And(\n",
    "#     smtenc.element_class_fun(vm) == smtenc.classes[\"abstract_VirtualMachine\"],\n",
    "#     Not(\n",
    "#         Exists(\n",
    "#             [iface],\n",
    "#             ENCODINGS.association_rel(vm, smtenc.associations[\"abstract_ComputingNode::ifaces\"], iface)\n",
    "#         )\n",
    "#     )\n",
    "# )\n",
    "\n",
    "expr_to_parse = r\"\"\"\n",
    "+   \"example requirement to test\"\n",
    "    # Expr to parse\n",
    "    not vm is class abstract.VirtualMachine\n",
    "    and\n",
    "    vm is not class abstract.Storage\n",
    "    iff\n",
    "    not exists iface, apple (\n",
    "        (vm has abstract.ComputingNode->ifaces iface)\n",
    "        or\n",
    "        (vm has abstract.ComputingNode->os Os1)\n",
    "        and\n",
    "        (vm has abstract.ComputingNode->memory_mb 1024)\n",
    "        and\n",
    "        (vm has abstract.ComputingNode->architecture \"linux\")\n",
    "        and\n",
    "        (vm has application.SoftwareComponent->isPersistent !True)\n",
    "    )\n",
    "    ---\n",
    "    \"Virtual Machine {vm} has no iface\"\n",
    "\n",
    "+   \"example requirement to test\"\n",
    "    # Expr to parse\n",
    "    not vm is class abstract.VirtualMachine\n",
    "    and\n",
    "    vm is not class abstract.Storage\n",
    "    iff\n",
    "    not exists iface, apple (\n",
    "        (vm has abstract.ComputingNode->ifaces iface)\n",
    "        or\n",
    "        (vm has abstract.ComputingNode->os Os1)\n",
    "    )\n",
    "    ---\n",
    "    \"Virtual Machine {vm} has no iface\"\n",
    "\"\"\""
   ]
  },
  {
   "cell_type": "code",
   "execution_count": 3,
   "metadata": {},
   "outputs": [
    {
     "name": "stdout",
     "output_type": "stream",
     "text": [
      "requirements\n",
      "  requirement\n",
      "    +\n",
      "    req_name\t\"example requirement to test\"\n",
      "    iff_expr\n",
      "      and_expr\n",
      "        negation\n",
      "          equality\n",
      "            const_or_class\tvm\n",
      "            const_or_class\tabstract.VirtualMachine\n",
      "        inequality\n",
      "          const_or_class\tvm\n",
      "          const_or_class\tabstract.Storage\n",
      "      negation\n",
      "        exists\n",
      "          bound_consts\n",
      "            iface\n",
      "            apple\n",
      "          and_expr\n",
      "            or_expr\n",
      "              relationship_expr\n",
      "                vm\n",
      "                abstract.ComputingNode->ifaces\n",
      "                iface\n",
      "              relationship_expr\n",
      "                vm\n",
      "                abstract.ComputingNode->os\n",
      "                value\tOs1\n",
      "            relationship_expr\n",
      "              vm\n",
      "              abstract.ComputingNode->memory_mb\n",
      "              value\t1024\n",
      "            relationship_expr\n",
      "              vm\n",
      "              abstract.ComputingNode->architecture\n",
      "              value\t\"linux\"\n",
      "            relationship_expr\n",
      "              vm\n",
      "              application.SoftwareComponent->isPersistent\n",
      "              value\t!True\n",
      "    ---\n",
      "    error_desc\t\"Virtual Machine {vm} has no iface\"\n",
      "  requirement\n",
      "    +\n",
      "    req_name\t\"example requirement to test\"\n",
      "    iff_expr\n",
      "      and_expr\n",
      "        negation\n",
      "          equality\n",
      "            const_or_class\tvm\n",
      "            const_or_class\tabstract.VirtualMachinepog\n",
      "        inequality\n",
      "          const_or_class\tvm\n",
      "          const_or_class\tabstract.Storage\n",
      "      negation\n",
      "        exists\n",
      "          bound_consts\n",
      "            iface\n",
      "            apple\n",
      "          or_expr\n",
      "            relationship_expr\n",
      "              vm\n",
      "              abstract.ComputingNode->ifaces\n",
      "              iface\n",
      "            relationship_expr\n",
      "              vm\n",
      "              abstract.ComputingNode->os\n",
      "              value\tOs1\n",
      "    ---\n",
      "    error_desc\t\"Virtual Machine {vm} has no iface\"\n",
      "\n"
     ]
    }
   ],
   "source": [
    "parser = Lark(grammar, start=\"requirements\")\n",
    "tree = parser.parse(expr_to_parse)\n",
    "\n",
    "print(tree.pretty())"
   ]
  },
  {
   "cell_type": "markdown",
   "metadata": {},
   "source": []
  },
  {
   "cell_type": "markdown",
   "metadata": {},
   "source": [
    "We need the `ModelChecker` to import `SMTEncodings` and `SMTSorts` in order to create our Z3 constants programmatically.\n",
    "\n",
    "Now the model checker should expose the *intermediate model checker* which should provide us with those two collections."
   ]
  },
  {
   "cell_type": "code",
   "execution_count": 4,
   "metadata": {},
   "outputs": [],
   "source": [
    "from mc_openapi.doml_mc import ModelChecker, DOMLVersion\n",
    "from mc_openapi.doml_mc.imc import IntermediateModelChecker\n",
    "\n",
    "# Import DOMLX as bytes\n",
    "doml_document_path = \"../../../tests/doml/faas.domlx\"\n",
    "with open(doml_document_path, \"rb\") as xmif:\n",
    "    doml_xmi = xmif.read()\n",
    "\n",
    "model_checker = ModelChecker(doml_xmi, DOMLVersion.V2_0)\n",
    "\n",
    "intermediate_model_checker = IntermediateModelChecker(\n",
    "    model_checker.metamodel,\n",
    "    model_checker.inv_assoc,\n",
    "    model_checker.intermediate_model\n",
    ")"
   ]
  },
  {
   "cell_type": "markdown",
   "metadata": {},
   "source": [
    "The parser will now produce a Z3 expression to evaluate."
   ]
  },
  {
   "cell_type": "code",
   "execution_count": 5,
   "metadata": {},
   "outputs": [
    {
     "name": "stdout",
     "output_type": "stream",
     "text": [
      "[Requirement(assert_callable=<function DSLTransformer.iff_expr.<locals>.<lambda> at 0x7fb690012050>,\n",
      "             assert_name='example_requirement_to_test',\n",
      "             description='example requirement to test',\n",
      "             error_description=<function DSLTransformer.requirement.<locals>.<lambda> at 0x7fb690011d80>,\n",
      "             flipped=False),\n",
      " Requirement(assert_callable=<function DSLTransformer.iff_expr.<locals>.<lambda> at 0x7fb690011360>,\n",
      "             assert_name='example_requirement_to_test',\n",
      "             description='example requirement to test',\n",
      "             error_description=<function DSLTransformer.requirement.<locals>.<lambda> at 0x7fb690011510>,\n",
      "             flipped=False)]\n"
     ]
    }
   ],
   "source": [
    "from pprint import pprint\n",
    "from z3 import Not, And, Or, Xor, Implies, Exists, ForAll\n",
    "\n",
    "from mc_openapi.doml_mc.dsl_parser.parser import Parser\n",
    "\n",
    "parser = Parser(grammar)\n",
    "\n",
    "reqs_store, user_value_strings = parser.parse(expr_to_parse)\n",
    "\n",
    "pprint(reqs_store.get_all_requirements())"
   ]
  },
  {
   "cell_type": "code",
   "execution_count": 6,
   "metadata": {},
   "outputs": [],
   "source": [
    "intermediate_model_checker.instantiate_solver(user_value_strings)\n",
    "ENCODINGS =  intermediate_model_checker.smt_encoding\n",
    "SORTS = intermediate_model_checker.smt_sorts\n",
    "\n",
    "assert ENCODINGS and SORTS"
   ]
  },
  {
   "cell_type": "code",
   "execution_count": 7,
   "metadata": {},
   "outputs": [
    {
     "name": "stdout",
     "output_type": "stream",
     "text": [
      "And(Not(elem_class(vm) == infrastructure_VirtualMachine),\n",
      "    elem_class(vm) != infrastructure_Storage) ==\n",
      "Not(Exists([iface, apple],\n",
      "           And(Or(association(vm,\n",
      "                              infrastructure_ComputingNode::ifaces,\n",
      "                              iface),\n",
      "                  attribute(vm,\n",
      "                            infrastructure_ComputingNode::os,\n",
      "                            Os1)),\n",
      "               attribute(vm,\n",
      "                         infrastructure_ComputingNode::memory_mb,\n",
      "                         int(1024)),\n",
      "               attribute(vm,\n",
      "                         infrastructure_ComputingNode::architecture,\n",
      "                         ss(ss_9__linux_)),\n",
      "               attribute(vm,\n",
      "                         application_SoftwareComponent::isPersistent,\n",
      "                         bool(True)))))\n"
     ]
    },
    {
     "ename": "RequirementMissingKeyException",
     "evalue": "",
     "output_type": "error",
     "traceback": [
      "\u001b[0;31m---------------------------------------------------------------------------\u001b[0m",
      "\u001b[0;31mRequirementMissingKeyException\u001b[0m            Traceback (most recent call last)",
      "Cell \u001b[0;32mIn [7], line 2\u001b[0m\n\u001b[1;32m      1\u001b[0m \u001b[39mfor\u001b[39;00m req \u001b[39min\u001b[39;00m reqs_store\u001b[39m.\u001b[39mget_all_requirements():\n\u001b[0;32m----> 2\u001b[0m     \u001b[39mprint\u001b[39m(req\u001b[39m.\u001b[39massert_callable(ENCODINGS, SORTS))\n",
      "File \u001b[0;32m~/Projects/piacere-model-checker/mc_openapi/doml_mc/dsl_parser/parser.py:99\u001b[0m, in \u001b[0;36mDSLTransformer.iff_expr.<locals>.<lambda>\u001b[0;34m(enc, sorts)\u001b[0m\n\u001b[1;32m     98\u001b[0m \u001b[39mdef\u001b[39;00m \u001b[39miff_expr\u001b[39m(\u001b[39mself\u001b[39m, args):\n\u001b[0;32m---> 99\u001b[0m     \u001b[39mreturn\u001b[39;00m \u001b[39mlambda\u001b[39;00m enc, sorts: args[\u001b[39m0\u001b[39;49m](enc, sorts) \u001b[39m==\u001b[39m args[\u001b[39m1\u001b[39m](enc, sorts)\n",
      "File \u001b[0;32m~/Projects/piacere-model-checker/mc_openapi/doml_mc/dsl_parser/parser.py:105\u001b[0m, in \u001b[0;36mDSLTransformer.and_expr.<locals>.<lambda>\u001b[0;34m(enc, sorts)\u001b[0m\n\u001b[1;32m    104\u001b[0m \u001b[39mdef\u001b[39;00m \u001b[39mand_expr\u001b[39m(\u001b[39mself\u001b[39m, args):\n\u001b[0;32m--> 105\u001b[0m     \u001b[39mreturn\u001b[39;00m \u001b[39mlambda\u001b[39;00m enc, sorts: And([arg(enc, sorts) \u001b[39mfor\u001b[39;00m arg \u001b[39min\u001b[39;00m args])\n",
      "File \u001b[0;32m~/Projects/piacere-model-checker/mc_openapi/doml_mc/dsl_parser/parser.py:105\u001b[0m, in \u001b[0;36m<listcomp>\u001b[0;34m(.0)\u001b[0m\n\u001b[1;32m    104\u001b[0m \u001b[39mdef\u001b[39;00m \u001b[39mand_expr\u001b[39m(\u001b[39mself\u001b[39m, args):\n\u001b[0;32m--> 105\u001b[0m     \u001b[39mreturn\u001b[39;00m \u001b[39mlambda\u001b[39;00m enc, sorts: And([arg(enc, sorts) \u001b[39mfor\u001b[39;00m arg \u001b[39min\u001b[39;00m args])\n",
      "File \u001b[0;32m~/Projects/piacere-model-checker/mc_openapi/doml_mc/dsl_parser/parser.py:96\u001b[0m, in \u001b[0;36mDSLTransformer.negation.<locals>.<lambda>\u001b[0;34m(enc, sorts)\u001b[0m\n\u001b[1;32m     95\u001b[0m \u001b[39mdef\u001b[39;00m \u001b[39mnegation\u001b[39m(\u001b[39mself\u001b[39m, args):\n\u001b[0;32m---> 96\u001b[0m     \u001b[39mreturn\u001b[39;00m \u001b[39mlambda\u001b[39;00m enc, sorts: Not(args[\u001b[39m0\u001b[39;49m](enc, sorts))\n",
      "File \u001b[0;32m~/Projects/piacere-model-checker/mc_openapi/doml_mc/dsl_parser/parser.py:168\u001b[0m, in \u001b[0;36mDSLTransformer.equality.<locals>.<lambda>\u001b[0;34m(enc, sorts)\u001b[0m\n\u001b[1;32m    166\u001b[0m \u001b[39mdef\u001b[39;00m \u001b[39mequality\u001b[39m(\u001b[39mself\u001b[39m, args):\n\u001b[1;32m    167\u001b[0m     a, b \u001b[39m=\u001b[39m \u001b[39mself\u001b[39m\u001b[39m.\u001b[39m_get_equality_sides(args[\u001b[39m0\u001b[39m], args[\u001b[39m1\u001b[39m])\n\u001b[0;32m--> 168\u001b[0m     \u001b[39mreturn\u001b[39;00m \u001b[39mlambda\u001b[39;00m enc, sorts: a(enc, sorts) \u001b[39m==\u001b[39m b(enc, sorts)\n",
      "File \u001b[0;32m~/Projects/piacere-model-checker/mc_openapi/doml_mc/dsl_parser/parser.py:160\u001b[0m, in \u001b[0;36mDSLTransformer._get_equality_sides.<locals>.<lambda>\u001b[0;34m(enc, _)\u001b[0m\n\u001b[1;32m    157\u001b[0m     arg1_ret \u001b[39m=\u001b[39m \u001b[39mlambda\u001b[39;00m enc, sorts: RefHandler\u001b[39m.\u001b[39mget_element_class(enc, RefHandler\u001b[39m.\u001b[39mget_const(arg1\u001b[39m.\u001b[39mvalue, sorts))\n\u001b[1;32m    159\u001b[0m \u001b[39mif\u001b[39;00m arg2\u001b[39m.\u001b[39mtype \u001b[39m==\u001b[39m \u001b[39m\"\u001b[39m\u001b[39mCLASS\u001b[39m\u001b[39m\"\u001b[39m:\n\u001b[0;32m--> 160\u001b[0m     arg2_ret \u001b[39m=\u001b[39m \u001b[39mlambda\u001b[39;00m enc, _: RefHandler\u001b[39m.\u001b[39;49mget_class(enc, arg2\u001b[39m.\u001b[39;49mvalue)\n\u001b[1;32m    161\u001b[0m \u001b[39melse\u001b[39;00m:\n\u001b[1;32m    162\u001b[0m     arg2_ret \u001b[39m=\u001b[39m \u001b[39mlambda\u001b[39;00m enc, sorts: RefHandler\u001b[39m.\u001b[39mget_element_class(enc, RefHandler\u001b[39m.\u001b[39mget_const(arg2\u001b[39m.\u001b[39mvalue, sorts))\n",
      "File \u001b[0;32m~/Projects/piacere-model-checker/mc_openapi/doml_mc/dsl_parser/utils.py:83\u001b[0m, in \u001b[0;36mRefHandler.get_class\u001b[0;34m(enc, class_name)\u001b[0m\n\u001b[1;32m     81\u001b[0m \u001b[39melse\u001b[39;00m:\n\u001b[1;32m     82\u001b[0m     close_matches \u001b[39m=\u001b[39m get_close_matches(class_name, enc\u001b[39m.\u001b[39mclasses\u001b[39m.\u001b[39mkeys())\n\u001b[0;32m---> 83\u001b[0m     \u001b[39mraise\u001b[39;00m RequirementMissingKeyException(\u001b[39m\"\u001b[39m\u001b[39mclass\u001b[39m\u001b[39m\"\u001b[39m, class_name, close_matches)\n",
      "\u001b[0;31mRequirementMissingKeyException\u001b[0m: "
     ]
    }
   ],
   "source": [
    "for req in reqs_store.get_all_requirements():\n",
    "    print(req.assert_callable(ENCODINGS, SORTS))"
   ]
  }
 ],
 "metadata": {
  "kernelspec": {
   "display_name": "Python 3.10.7 ('.venv': poetry)",
   "language": "python",
   "name": "python3"
  },
  "language_info": {
   "codemirror_mode": {
    "name": "ipython",
    "version": 3
   },
   "file_extension": ".py",
   "mimetype": "text/x-python",
   "name": "python",
   "nbconvert_exporter": "python",
   "pygments_lexer": "ipython3",
   "version": "3.10.7"
  },
  "orig_nbformat": 4,
  "vscode": {
   "interpreter": {
    "hash": "d98256633358fe1daa4009223d54520a3e2548801398a173545d5698bb289e16"
   }
  }
 },
 "nbformat": 4,
 "nbformat_minor": 2
}
