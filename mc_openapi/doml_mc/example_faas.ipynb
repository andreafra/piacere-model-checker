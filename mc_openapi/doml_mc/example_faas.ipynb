{
 "cells": [
  {
   "cell_type": "code",
   "execution_count": null,
   "metadata": {},
   "outputs": [],
   "source": [
    "from mc_openapi.doml_mc.intermediate_model.metamodel import parse_metamodel, parse_inverse_associations\n",
    "import yaml\n",
    "with open(\"../assets/doml_meta.yaml\") as mmf:\n",
    "    mmdoc = yaml.load(mmf, yaml.Loader)\n",
    "mm = parse_metamodel(mmdoc)\n",
    "inv_assoc = parse_inverse_associations(mmdoc)"
   ]
  },
  {
   "cell_type": "code",
   "execution_count": null,
   "metadata": {},
   "outputs": [],
   "source": [
    "import prettyprinter as pp\n",
    "from prettyprinter.prettyprinter import IMPLICIT_MODULES\n",
    "pp.install_extras(include=['dataclasses'])"
   ]
  },
  {
   "cell_type": "code",
   "execution_count": null,
   "metadata": {},
   "outputs": [],
   "source": [
    "IMPLICIT_MODULES.add('doml_mc.intermediate_model.metamodel')\n",
    "pp.pprint(mm[\"application_SoftwareComponent\"])"
   ]
  },
  {
   "cell_type": "markdown",
   "metadata": {},
   "source": [
    "### Load the DOML document here:"
   ]
  },
  {
   "cell_type": "code",
   "execution_count": null,
   "metadata": {},
   "outputs": [],
   "source": [
    "from mc_openapi.doml_mc.xmi_parser.doml_model import parse_doml_model\n",
    "doml_document_path = \"../../tests/doml/faas.domlx\"\n",
    "with open(doml_document_path, \"rb\") as xmif:\n",
    "    doc = xmif.read()\n",
    "\n",
    "im = parse_doml_model(doc, mm)\n",
    "# print(im)"
   ]
  },
  {
   "cell_type": "code",
   "execution_count": null,
   "metadata": {},
   "outputs": [],
   "source": [
    "from mc_openapi.doml_mc.intermediate_model.doml_element import reciprocate_inverse_associations\n",
    "reciprocate_inverse_associations(im, inv_assoc)"
   ]
  },
  {
   "cell_type": "code",
   "execution_count": null,
   "metadata": {},
   "outputs": [],
   "source": [
    "IMPLICIT_MODULES.add('doml_mc.intermediate_model.doml_element')\n",
    "# pp.pprint(im)"
   ]
  },
  {
   "cell_type": "code",
   "execution_count": null,
   "metadata": {},
   "outputs": [],
   "source": [
    "unbound_elems_n = 0\n",
    "unbound_elems = [f\"unbound{i}\" for i in range(unbound_elems_n)]"
   ]
  },
  {
   "cell_type": "code",
   "execution_count": null,
   "metadata": {},
   "outputs": [],
   "source": [
    "from z3 import Solver\n",
    "\n",
    "from mc_openapi.doml_mc.z3encoding.metamodel_encoding import (\n",
    "    def_association_rel,\n",
    "    def_attribute_rel,\n",
    "    mk_association_sort_dict,\n",
    "    mk_attribute_sort_dict,\n",
    "    mk_class_sort_dict\n",
    ")\n",
    "from mc_openapi.doml_mc.z3encoding.im_encoding import (\n",
    "    assert_im_associations_q,\n",
    "    assert_im_attributes,\n",
    "    def_elem_class_f_and_assert_classes,\n",
    "    mk_elem_sort_dict,\n",
    "    mk_stringsym_sort_dict\n",
    ")\n",
    "from mc_openapi.doml_mc.z3encoding.utils import mk_adata_sort\n",
    "\n",
    "solver = Solver()\n",
    "\n",
    "class_sort, class_ = mk_class_sort_dict(mm, solver.ctx)\n",
    "assoc_sort, assoc = mk_association_sort_dict(mm, solver.ctx)\n",
    "attr_sort, attr = mk_attribute_sort_dict(mm, solver.ctx)\n",
    "elem_sort, elem = mk_elem_sort_dict(im, solver.ctx, unbound_elems)\n",
    "ss_sort, ss = mk_stringsym_sort_dict(im, mm, solver.ctx)\n",
    "AData = mk_adata_sort(ss_sort, solver.ctx)\n",
    "elem_class_f = def_elem_class_f_and_assert_classes(\n",
    "    im,\n",
    "    solver,\n",
    "    elem_sort,\n",
    "    elem,\n",
    "    class_sort,\n",
    "    class_\n",
    ")\n",
    "attr_rel = def_attribute_rel(\n",
    "    attr_sort,\n",
    "    elem_sort,\n",
    "    AData\n",
    ")\n",
    "assert_im_attributes(\n",
    "    attr_rel,\n",
    "    solver,\n",
    "    im,\n",
    "    mm,\n",
    "    elem,\n",
    "    attr_sort,\n",
    "    attr,\n",
    "    AData,\n",
    "    ss\n",
    ")\n",
    "assoc_rel = def_association_rel(\n",
    "    assoc_sort,\n",
    "    elem_sort\n",
    ")\n",
    "assert_im_associations_q(\n",
    "    assoc_rel,\n",
    "    solver,\n",
    "    {k: v for k, v in im.items() if k not in unbound_elems},\n",
    "    elem,\n",
    "    assoc_sort,\n",
    "    assoc,\n",
    ")"
   ]
  },
  {
   "cell_type": "code",
   "execution_count": null,
   "metadata": {},
   "outputs": [],
   "source": [
    "solver.push()"
   ]
  },
  {
   "cell_type": "markdown",
   "metadata": {},
   "source": [
    "### Metamodel statistics"
   ]
  },
  {
   "cell_type": "code",
   "execution_count": null,
   "metadata": {},
   "outputs": [],
   "source": [
    "from mc_openapi.doml_mc.intermediate_model.metamodel import get_subclasses_dict\n",
    "\n",
    "print(\"Number of classes:\", len(mm))\n",
    "print(\n",
    "    \"Number of tuples in the subclass relation:\",\n",
    "    sum(len(s) for s in get_subclasses_dict(mm).values())\n",
    ")\n",
    "n_attrs = sum(len(c.attributes) for c in mm.values())\n",
    "print(\"Number of attributes:\", n_attrs)\n",
    "print(\"Number of attribute assertions:\", 3 * n_attrs)\n",
    "n_assocs = sum(len(c.associations) for c in mm.values())\n",
    "print(\"Number of associations:\", n_assocs)\n",
    "print(\"Number of associations assertions:\", 3 * n_assocs + len(inv_assoc))\n",
    "\n"
   ]
  },
  {
   "cell_type": "markdown",
   "metadata": {},
   "source": [
    "### DOML model statistics"
   ]
  },
  {
   "cell_type": "code",
   "execution_count": null,
   "metadata": {},
   "outputs": [],
   "source": [
    "n_elems = len(im)\n",
    "print(\"Number of elements:\", n_elems)\n",
    "n_attrs_im = sum(len(e.attributes) for e in im.values())\n",
    "print(\"Number of attributes (IM):\", n_attrs_im)\n",
    "n_assocs_im = sum(len(a) for e in im.values() for a in e.associations.values())\n",
    "print(\"Number of associations (IM):\", n_assocs_im)\n",
    "print(\"Number of string symbols:\", len(ss))\n",
    "print(\"Number of IM attribute assertions:\", n_elems)\n",
    "print(\"Number of IM association assertions:\", n_elems ** 2)"
   ]
  },
  {
   "cell_type": "code",
   "execution_count": null,
   "metadata": {},
   "outputs": [],
   "source": [
    "solver.check()"
   ]
  },
  {
   "cell_type": "code",
   "execution_count": null,
   "metadata": {},
   "outputs": [],
   "source": [
    "solver.unsat_core()"
   ]
  },
  {
   "cell_type": "code",
   "execution_count": null,
   "metadata": {},
   "outputs": [],
   "source": [
    "from z3 import Consts, ForAll, Exists, Implies, And, Or"
   ]
  },
  {
   "cell_type": "code",
   "execution_count": null,
   "metadata": {},
   "outputs": [],
   "source": [
    "# 1. All VMs have a network interface.\n",
    "vm, iface = Consts(\"vm iface\", elem_sort)\n",
    "vmIfaceAssertion = ForAll(\n",
    "    [vm],\n",
    "    Implies(\n",
    "        elem_class_f(vm) == class_[\"infrastructure_VirtualMachine\"],\n",
    "        Exists(\n",
    "            [iface],\n",
    "            assoc_rel(vm, assoc[\"infrastructure_ComputingNode::ifaces\"], iface),\n",
    "        )\n",
    "    )\n",
    ")\n",
    "solver.assert_and_track(vmIfaceAssertion, \"vm_iface\")"
   ]
  },
  {
   "cell_type": "code",
   "execution_count": null,
   "metadata": {},
   "outputs": [],
   "source": [
    "# 2. All software packages can see the interfaces they need through a common network.\n",
    "asc_consumer, asc_exposer, siface, net, net_iface, cn, vm, deployment, dc = Consts(\n",
    "    \"asc_consumer asc_exposer siface net net_iface cn vm deployment dc\", elem_sort\n",
    ")\n",
    "assn = ForAll(\n",
    "    [asc_consumer, asc_exposer, siface],\n",
    "    Implies(\n",
    "        And(\n",
    "            assoc_rel(asc_consumer, assoc[\"application_SoftwareComponent::exposedInterfaces\"], siface),\n",
    "            assoc_rel(asc_exposer, assoc[\"application_SoftwareComponent::consumedInterfaces\"], siface),\n",
    "        ),\n",
    "        Exists(\n",
    "            [net],\n",
    "            And(\n",
    "                Or(\n",
    "                    Exists(\n",
    "                        [cn, deployment, net_iface],\n",
    "                        And(  # asc_consumer is deployed on a component with an interface in network n\n",
    "                            assoc_rel(deployment, assoc[\"commons_Deployment::component\"], asc_consumer),\n",
    "                            assoc_rel(deployment, assoc[\"commons_Deployment::node\"], cn),\n",
    "                            assoc_rel(cn, assoc[\"infrastructure_ComputingNode::ifaces\"], net_iface),\n",
    "                            assoc_rel(net_iface, assoc[\"infrastructure_NetworkInterface::belongsTo\"], net),\n",
    "                        ),\n",
    "                    ),\n",
    "                    Exists(  # asc_consumer is deployed on a container hosting a VM with an interface in network n\n",
    "                        [cn, deployment, vm, net_iface],\n",
    "                        And(\n",
    "                            assoc_rel(deployment, assoc[\"commons_Deployment::component\"], asc_consumer),\n",
    "                            assoc_rel(deployment, assoc[\"commons_Deployment::node\"], cn),\n",
    "                            assoc_rel(cn, assoc[\"infrastructure_Container::hosts\"], vm),\n",
    "                            assoc_rel(vm, assoc[\"infrastructure_ComputingNode::ifaces\"], net_iface),\n",
    "                            assoc_rel(net_iface, assoc[\"infrastructure_NetworkInterface::belongsTo\"], net),\n",
    "                        ),\n",
    "                    ),\n",
    "                ),\n",
    "                Or(\n",
    "                    Exists(\n",
    "                        [cn, deployment, net_iface],\n",
    "                        And(  # asc_exposer is deployed on a component with an interface in network n\n",
    "                            assoc_rel(deployment, assoc[\"commons_Deployment::component\"], asc_exposer),\n",
    "                            assoc_rel(deployment, assoc[\"commons_Deployment::node\"], cn),\n",
    "                            assoc_rel(cn, assoc[\"infrastructure_ComputingNode::ifaces\"], net_iface),\n",
    "                            assoc_rel(net_iface, assoc[\"infrastructure_NetworkInterface::belongsTo\"], net),\n",
    "                        ),\n",
    "                    ),\n",
    "                    Exists(  # asc_exposer is deployed on a container hosting a VM with an interface in network n\n",
    "                        [cn, deployment, vm, net_iface],\n",
    "                        And(\n",
    "                            assoc_rel(deployment, assoc[\"commons_Deployment::component\"], asc_exposer),\n",
    "                            assoc_rel(deployment, assoc[\"commons_Deployment::node\"], cn),\n",
    "                            assoc_rel(cn, assoc[\"infrastructure_Container::hosts\"], vm),\n",
    "                            assoc_rel(vm, assoc[\"infrastructure_ComputingNode::ifaces\"], net_iface),\n",
    "                            assoc_rel(net_iface, assoc[\"infrastructure_NetworkInterface::belongsTo\"], net),\n",
    "                        ),\n",
    "                    ),\n",
    "                ),\n",
    "            ),\n",
    "        ),\n",
    "    ),\n",
    ")\n",
    "solver.assert_and_track(assn, \"software_package_iface_net\")"
   ]
  },
  {
   "cell_type": "code",
   "execution_count": null,
   "metadata": {},
   "outputs": [],
   "source": [
    "# 3. SoftwareComponents have a source_code property\n",
    "softwareComponent, prop = Consts(\"softwareComponent prop\", elem_sort)\n",
    "nginxSourceCode = ForAll(\n",
    "    [softwareComponent],\n",
    "    Implies(\n",
    "        And(\n",
    "            elem_class_f(softwareComponent) == class_[\"application_SoftwareComponent\"],\n",
    "            # attr_rel(softwareComponent, attr[\"commons_DOMLElement::name\"], AData.ss(ss[\"web\"]))\n",
    "        ),\n",
    "        Exists(\n",
    "            [prop],\n",
    "            And(\n",
    "                elem_class_f(prop) == class_[\"commons_SProperty\"],\n",
    "                attr_rel(prop, attr[\"commons_Property::key\"], AData.ss(ss[\"source_code\"])),\n",
    "                assoc_rel(softwareComponent, assoc[\"commons_DOMLElement::annotations\"], prop)\n",
    "            )\n",
    "        )\n",
    "    )\n",
    ")\n",
    "solver.assert_and_track(nginxSourceCode, \"SoftwareComponent_source_code\")"
   ]
  },
  {
   "cell_type": "code",
   "execution_count": null,
   "metadata": {},
   "outputs": [],
   "source": [
    "# 4. There are no duplicated interfaces\n",
    "def any_iface(elem, iface):\n",
    "    ifaces_assocs = [\n",
    "        \"infrastructure_ComputingNode::ifaces\",\n",
    "        \"infrastructure_Storage::ifaces\",\n",
    "        \"infrastructure_FunctionAsAService::ifaces\"\n",
    "    ]\n",
    "    return Or(*(assoc_rel(elem, assoc[assoc_name], iface) for assoc_name in ifaces_assocs))\n",
    "e1, e2, ni = Consts(\"e1 e2 i\", elem_sort)\n",
    "assn = ForAll([e1, e2, ni],\n",
    "    Implies(\n",
    "        And(\n",
    "            any_iface(e1, ni),\n",
    "            any_iface(e2, ni)\n",
    "        ),\n",
    "        e1 == e2\n",
    "    )\n",
    ")\n",
    "solver.assert_and_track(assn, \"iface_uniq\")"
   ]
  },
  {
   "cell_type": "code",
   "execution_count": null,
   "metadata": {},
   "outputs": [],
   "source": [
    "# 5. All SoftwareComponents have been deployed somewhere\n",
    "sc, deployment, ielem = Consts(\"sc deployment ielem\", elem_sort)\n",
    "assn = ForAll(\n",
    "    [sc],\n",
    "    Implies(\n",
    "        elem_class_f(sc) == class_[\"application_SoftwareComponent\"],\n",
    "        Exists(\n",
    "            [deployment, ielem],\n",
    "            And(\n",
    "                assoc_rel(deployment, assoc[\"commons_Deployment::component\"], sc),\n",
    "                assoc_rel(deployment, assoc[\"commons_Deployment::node\"], ielem)\n",
    "            )\n",
    "        )\n",
    "    )\n",
    ")\n",
    "solver.assert_and_track(assn, \"all_SoftwareComponents_deployed\")"
   ]
  },
  {
   "cell_type": "code",
   "execution_count": null,
   "metadata": {},
   "outputs": [],
   "source": [
    "# 6. All abstract infrastructure elements are mapped to an element in the active concretization\n",
    "def checkOneClass(ielem, concr, provider, celem, ielemClass, providerAssoc, celemAssoc):\n",
    "    return Implies(\n",
    "                elem_class_f(ielem) == class_[ielemClass],\n",
    "                Exists(\n",
    "                    [provider, celem],\n",
    "                    And(\n",
    "                        assoc_rel(concr, assoc[\"concrete_ConcreteInfrastructure::providers\"], provider),\n",
    "                        assoc_rel(provider, assoc[providerAssoc], celem),\n",
    "                        assoc_rel(celem, assoc[celemAssoc], ielem)\n",
    "                    )\n",
    "                )\n",
    "            )\n",
    "\n",
    "ielem, concr, provider, celem = Consts(\"ielem, concr, provider, celem\", elem_sort)\n",
    "assn = Exists(\n",
    "    [concr],\n",
    "    And(\n",
    "        elem_class_f(concr) == class_[\"concrete_ConcreteInfrastructure\"],\n",
    "        ForAll(\n",
    "            [ielem],\n",
    "            And(\n",
    "                checkOneClass(\n",
    "                    ielem, concr, provider, celem,\n",
    "                    \"infrastructure_VirtualMachine\",\n",
    "                    \"concrete_RuntimeProvider::vms\",\n",
    "                    \"concrete_VirtualMachine::maps\"\n",
    "                ),\n",
    "                checkOneClass(\n",
    "                    ielem, concr, provider, celem,\n",
    "                    \"infrastructure_Network\",\n",
    "                    \"concrete_RuntimeProvider::networks\",\n",
    "                    \"concrete_Network::maps\"\n",
    "                ),\n",
    "                checkOneClass(\n",
    "                    ielem, concr, provider, celem,\n",
    "                    \"infrastructure_Storage\",\n",
    "                    \"concrete_RuntimeProvider::storages\",\n",
    "                    \"concrete_Storage::maps\"\n",
    "                ),\n",
    "                checkOneClass(\n",
    "                    ielem, concr, provider, celem,\n",
    "                    \"infrastructure_FunctionAsAService\",\n",
    "                    \"concrete_RuntimeProvider::faas\",\n",
    "                    \"concrete_FunctionAsAService::maps\"\n",
    "                ),\n",
    "            )\n",
    "        )\n",
    "    )\n",
    ")\n",
    "solver.assert_and_track(assn, \"all_infrastructure_elements_deployed\")"
   ]
  },
  {
   "cell_type": "code",
   "execution_count": null,
   "metadata": {},
   "outputs": [],
   "source": [
    "# 7. The \"web\" component has access to the Internet through https\n",
    "web, deployment, ielem1, ielem2, iface, sg, rule = Consts(\"web deployment ielem1 ielem2 iface sg rule\", elem_sort)\n",
    "assn = ForAll(\n",
    "    [web],\n",
    "    Implies(\n",
    "        attr_rel(web, attr[\"commons_DOMLElement::name\"], AData.ss(ss[\"web\"])),\n",
    "        Exists(  # web is deployed on a container hosting a VM with an interface in network n\n",
    "            [deployment, ielem1, ielem2, iface, rule],\n",
    "            And(\n",
    "                assoc_rel(deployment, assoc[\"commons_Deployment::component\"], web),\n",
    "                assoc_rel(deployment, assoc[\"commons_Deployment::node\"], ielem1),\n",
    "                assoc_rel(ielem1, assoc[\"infrastructure_Container::hosts\"], ielem2),\n",
    "                assoc_rel(ielem2, assoc[\"infrastructure_ComputingNode::ifaces\"], iface),\n",
    "                assoc_rel(iface, assoc[\"infrastructure_NetworkInterface::associated\"], sg),\n",
    "                assoc_rel(sg, assoc[\"infrastructure_SecurityGroup::rules\"], rule),\n",
    "                attr_rel(rule, attr[\"infrastructure_Rule::fromPort\"], AData.int(443)),\n",
    "                attr_rel(rule, attr[\"infrastructure_Rule::toPort\"], AData.int(443)),\n",
    "                attr_rel(rule, attr[\"infrastructure_Rule::kind\"], AData.ss(ss[\"INGRESS\"]))\n",
    "            ),\n",
    "        )\n",
    "    )\n",
    ")\n",
    "solver.assert_and_track(assn, \"web_has_https\")"
   ]
  },
  {
   "cell_type": "code",
   "execution_count": null,
   "metadata": {},
   "outputs": [],
   "source": [
    "solver.check()"
   ]
  },
  {
   "cell_type": "code",
   "execution_count": null,
   "metadata": {},
   "outputs": [],
   "source": [
    "solver.unsat_core()"
   ]
  },
  {
   "cell_type": "code",
   "execution_count": null,
   "metadata": {},
   "outputs": [],
   "source": [
    "solver.statistics().memory"
   ]
  },
  {
   "cell_type": "code",
   "execution_count": null,
   "metadata": {},
   "outputs": [],
   "source": [
    "m = solver.model()\n",
    "print(m)"
   ]
  },
  {
   "cell_type": "code",
   "execution_count": null,
   "metadata": {},
   "outputs": [],
   "source": [
    "from itertools import product\n",
    "for (e1n, e1), a, (e2n, e2) in product(elem.items(), assoc.values(), elem.items()):\n",
    "    if (e1n in unbound_elems or e2n in unbound_elems) and m.eval(assoc_rel(e1, a, e2)):\n",
    "        print(e1, a, e2)"
   ]
  }
 ],
 "metadata": {
  "kernelspec": {
   "display_name": "Python 3.10.4 ('mc-openapi-dl7Bx6Lh-py3.10')",
   "language": "python",
   "name": "python3"
  },
  "language_info": {
   "codemirror_mode": {
    "name": "ipython",
    "version": 3
   },
   "file_extension": ".py",
   "mimetype": "text/x-python",
   "name": "python",
   "nbconvert_exporter": "python",
   "pygments_lexer": "ipython3",
   "version": "3.10.6"
  },
  "orig_nbformat": 4,
  "vscode": {
   "interpreter": {
    "hash": "ad63ed7e22c54016fdab5faefd8d83d59c3e39bc25e97a3e7b72bed4daaf83ed"
   }
  }
 },
 "nbformat": 4,
 "nbformat_minor": 2
}
