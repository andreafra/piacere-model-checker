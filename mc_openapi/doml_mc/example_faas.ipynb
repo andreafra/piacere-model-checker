{
 "cells": [
  {
   "cell_type": "code",
   "execution_count": 1,
   "metadata": {},
   "outputs": [],
   "source": [
    "from mc_openapi.doml_mc.intermediate_model.metamodel import parse_metamodel, parse_inverse_associations\n",
    "import yaml\n",
    "with open(\"../assets/doml_meta.yaml\") as mmf:\n",
    "    mmdoc = yaml.load(mmf, yaml.Loader)\n",
    "mm = parse_metamodel(mmdoc)\n",
    "inv_assoc = parse_inverse_associations(mmdoc)"
   ]
  },
  {
   "cell_type": "code",
   "execution_count": 2,
   "metadata": {},
   "outputs": [],
   "source": [
    "import prettyprinter as pp\n",
    "from prettyprinter.prettyprinter import IMPLICIT_MODULES\n",
    "pp.install_extras(include=['dataclasses'])"
   ]
  },
  {
   "cell_type": "code",
   "execution_count": 3,
   "metadata": {},
   "outputs": [
    {
     "name": "stdout",
     "output_type": "stream",
     "text": [
      "mc_openapi.doml_mc.intermediate_model.metamodel.DOMLClass(\n",
      "    name='application_SoftwareComponent',\n",
      "    superclass='application_ApplicationComponent',\n",
      "    attributes={\n",
      "        'isPersistent': mc_openapi.doml_mc.intermediate_model.metamodel.DOMLAttribute(\n",
      "            name='isPersistent',\n",
      "            type='Boolean',\n",
      "            multiplicity=('1', '1'),\n",
      "            default=False\n",
      "        ),\n",
      "        'licenseCost': mc_openapi.doml_mc.intermediate_model.metamodel.DOMLAttribute(\n",
      "            name='licenseCost',\n",
      "            type='String',\n",
      "            multiplicity=('0', '1'),\n",
      "            default=None\n",
      "        ),\n",
      "        'configFile': mc_openapi.doml_mc.intermediate_model.metamodel.DOMLAttribute(\n",
      "            name='configFile',\n",
      "            type='String',\n",
      "            multiplicity=('0', '1'),\n",
      "            default=None\n",
      "        )\n",
      "    },\n",
      "    associations={\n",
      "        'exposedInterfaces': mc_openapi.doml_mc.intermediate_model.metamodel.DOMLAssociation(\n",
      "            name='exposedInterfaces',\n",
      "            class_='application_SoftwareInterface',\n",
      "            multiplicity=('0', '*')\n",
      "        ),\n",
      "        'consumedInterfaces': mc_openapi.doml_mc.intermediate_model.metamodel.DOMLAssociation(\n",
      "            name='consumedInterfaces',\n",
      "            class_='application_SoftwareInterface',\n",
      "            multiplicity=('0', '*')\n",
      "        )\n",
      "    }\n",
      ")\n"
     ]
    }
   ],
   "source": [
    "IMPLICIT_MODULES.add('doml_mc.intermediate_model.metamodel')\n",
    "pp.pprint(mm[\"application_SoftwareComponent\"])"
   ]
  },
  {
   "cell_type": "markdown",
   "metadata": {},
   "source": [
    "### Load the DOML document here:"
   ]
  },
  {
   "cell_type": "code",
   "execution_count": 4,
   "metadata": {},
   "outputs": [
    {
     "ename": "AttributeError",
     "evalue": "'SaaS' object has no attribute 'consumedInterfaces'",
     "output_type": "error",
     "traceback": [
      "\u001b[0;31m---------------------------------------------------------------------------\u001b[0m",
      "\u001b[0;31mAttributeError\u001b[0m                            Traceback (most recent call last)",
      "\u001b[1;32m/home/michele/Repositories/piacere/mc_openapi/mc_openapi/doml_mc/example_faas.ipynb Cell 5'\u001b[0m in \u001b[0;36m<cell line: 7>\u001b[0;34m()\u001b[0m\n\u001b[1;32m      <a href='vscode-notebook-cell:/home/michele/Repositories/piacere/mc_openapi/mc_openapi/doml_mc/example_faas.ipynb#ch0000004?line=3'>4</a>\u001b[0m \u001b[39mwith\u001b[39;00m \u001b[39mopen\u001b[39m(doml_document_path, \u001b[39m\"\u001b[39m\u001b[39mrb\u001b[39m\u001b[39m\"\u001b[39m) \u001b[39mas\u001b[39;00m xmif:\n\u001b[1;32m      <a href='vscode-notebook-cell:/home/michele/Repositories/piacere/mc_openapi/mc_openapi/doml_mc/example_faas.ipynb#ch0000004?line=4'>5</a>\u001b[0m     doc \u001b[39m=\u001b[39m xmif\u001b[39m.\u001b[39mread()\n\u001b[0;32m----> <a href='vscode-notebook-cell:/home/michele/Repositories/piacere/mc_openapi/mc_openapi/doml_mc/example_faas.ipynb#ch0000004?line=6'>7</a>\u001b[0m doml_model \u001b[39m=\u001b[39m parse_doml_model(doc, mm)\n\u001b[1;32m      <a href='vscode-notebook-cell:/home/michele/Repositories/piacere/mc_openapi/mc_openapi/doml_mc/example_faas.ipynb#ch0000004?line=7'>8</a>\u001b[0m \u001b[39mprint\u001b[39m(doml_model)\n",
      "File \u001b[0;32m~/Repositories/piacere/mc_openapi/mc_openapi/doml_mc/xmi_parser/doml_model.py:56\u001b[0m, in \u001b[0;36mparse_doml_model\u001b[0;34m(raw_model, mm)\u001b[0m\n\u001b[1;32m     <a href='file:///home/michele/Repositories/piacere/mc_openapi/mc_openapi/doml_mc/xmi_parser/doml_model.py?line=49'>50</a>\u001b[0m \u001b[39mdef\u001b[39;00m \u001b[39mparse_doml_model\u001b[39m(raw_model: \u001b[39mbytes\u001b[39m, mm: MetaModel) \u001b[39m-\u001b[39m\u001b[39m>\u001b[39m DOMLModel:\n\u001b[1;32m     <a href='file:///home/michele/Repositories/piacere/mc_openapi/mc_openapi/doml_mc/xmi_parser/doml_model.py?line=50'>51</a>\u001b[0m     model \u001b[39m=\u001b[39m parse_xmi_model(raw_model)\n\u001b[1;32m     <a href='file:///home/michele/Repositories/piacere/mc_openapi/mc_openapi/doml_mc/xmi_parser/doml_model.py?line=52'>53</a>\u001b[0m     \u001b[39mreturn\u001b[39;00m DOMLModel(\n\u001b[1;32m     <a href='file:///home/michele/Repositories/piacere/mc_openapi/mc_openapi/doml_mc/xmi_parser/doml_model.py?line=53'>54</a>\u001b[0m         name\u001b[39m=\u001b[39mmodel\u001b[39m.\u001b[39mname,\n\u001b[1;32m     <a href='file:///home/michele/Repositories/piacere/mc_openapi/mc_openapi/doml_mc/xmi_parser/doml_model.py?line=54'>55</a>\u001b[0m         description\u001b[39m=\u001b[39mmodel\u001b[39m.\u001b[39mdescription,\n\u001b[0;32m---> <a href='file:///home/michele/Repositories/piacere/mc_openapi/mc_openapi/doml_mc/xmi_parser/doml_model.py?line=55'>56</a>\u001b[0m         application\u001b[39m=\u001b[39mparse_application(model\u001b[39m.\u001b[39;49mapplication),\n\u001b[1;32m     <a href='file:///home/michele/Repositories/piacere/mc_openapi/mc_openapi/doml_mc/xmi_parser/doml_model.py?line=56'>57</a>\u001b[0m         infrastructure\u001b[39m=\u001b[39mparse_infrastructure(model\u001b[39m.\u001b[39minfrastructure, mm),\n\u001b[1;32m     <a href='file:///home/michele/Repositories/piacere/mc_openapi/mc_openapi/doml_mc/xmi_parser/doml_model.py?line=57'>58</a>\u001b[0m         optimization\u001b[39m=\u001b[39mparse_optimization(model\u001b[39m.\u001b[39moptimization)\n\u001b[1;32m     <a href='file:///home/michele/Repositories/piacere/mc_openapi/mc_openapi/doml_mc/xmi_parser/doml_model.py?line=58'>59</a>\u001b[0m         \u001b[39mif\u001b[39;00m model\u001b[39m.\u001b[39moptimization \u001b[39mis\u001b[39;00m \u001b[39mnot\u001b[39;00m \u001b[39mNone\u001b[39;00m \u001b[39melse\u001b[39;00m \u001b[39mNone\u001b[39;00m,\n\u001b[1;32m     <a href='file:///home/michele/Repositories/piacere/mc_openapi/mc_openapi/doml_mc/xmi_parser/doml_model.py?line=59'>60</a>\u001b[0m         concretizations\u001b[39m=\u001b[39m{\n\u001b[1;32m     <a href='file:///home/michele/Repositories/piacere/mc_openapi/mc_openapi/doml_mc/xmi_parser/doml_model.py?line=60'>61</a>\u001b[0m             concdoc\u001b[39m.\u001b[39mname: parse_concretization(concdoc)\n\u001b[1;32m     <a href='file:///home/michele/Repositories/piacere/mc_openapi/mc_openapi/doml_mc/xmi_parser/doml_model.py?line=61'>62</a>\u001b[0m             \u001b[39mfor\u001b[39;00m concdoc \u001b[39min\u001b[39;00m model\u001b[39m.\u001b[39mconcretizations\n\u001b[1;32m     <a href='file:///home/michele/Repositories/piacere/mc_openapi/mc_openapi/doml_mc/xmi_parser/doml_model.py?line=62'>63</a>\u001b[0m         },\n\u001b[1;32m     <a href='file:///home/michele/Repositories/piacere/mc_openapi/mc_openapi/doml_mc/xmi_parser/doml_model.py?line=63'>64</a>\u001b[0m     )\n",
      "File \u001b[0;32m~/Repositories/piacere/mc_openapi/mc_openapi/doml_mc/xmi_parser/application.py:58\u001b[0m, in \u001b[0;36mparse_application\u001b[0;34m(doc)\u001b[0m\n\u001b[1;32m     <a href='file:///home/michele/Repositories/piacere/mc_openapi/mc_openapi/doml_mc/xmi_parser/application.py?line=48'>49</a>\u001b[0m \u001b[39m# Parse all interfaces first\u001b[39;00m\n\u001b[1;32m     <a href='file:///home/michele/Repositories/piacere/mc_openapi/mc_openapi/doml_mc/xmi_parser/application.py?line=49'>50</a>\u001b[0m interfaces \u001b[39m=\u001b[39m {\n\u001b[1;32m     <a href='file:///home/michele/Repositories/piacere/mc_openapi/mc_openapi/doml_mc/xmi_parser/application.py?line=50'>51</a>\u001b[0m     iface\u001b[39m.\u001b[39mendPoint: parse_application_interface(iface, comp\u001b[39m.\u001b[39mname)\n\u001b[1;32m     <a href='file:///home/michele/Repositories/piacere/mc_openapi/mc_openapi/doml_mc/xmi_parser/application.py?line=51'>52</a>\u001b[0m     \u001b[39mfor\u001b[39;00m comp \u001b[39min\u001b[39;00m doc\u001b[39m.\u001b[39mcomponents\n\u001b[1;32m     <a href='file:///home/michele/Repositories/piacere/mc_openapi/mc_openapi/doml_mc/xmi_parser/application.py?line=52'>53</a>\u001b[0m     \u001b[39mfor\u001b[39;00m iface \u001b[39min\u001b[39;00m comp\u001b[39m.\u001b[39mexposedInterfaces\n\u001b[1;32m     <a href='file:///home/michele/Repositories/piacere/mc_openapi/mc_openapi/doml_mc/xmi_parser/application.py?line=53'>54</a>\u001b[0m }\n\u001b[1;32m     <a href='file:///home/michele/Repositories/piacere/mc_openapi/mc_openapi/doml_mc/xmi_parser/application.py?line=55'>56</a>\u001b[0m \u001b[39mreturn\u001b[39;00m Application(\n\u001b[1;32m     <a href='file:///home/michele/Repositories/piacere/mc_openapi/mc_openapi/doml_mc/xmi_parser/application.py?line=56'>57</a>\u001b[0m     name\u001b[39m=\u001b[39mdoc\u001b[39m.\u001b[39mname,\n\u001b[0;32m---> <a href='file:///home/michele/Repositories/piacere/mc_openapi/mc_openapi/doml_mc/xmi_parser/application.py?line=57'>58</a>\u001b[0m     children\u001b[39m=\u001b[39m{\n\u001b[1;32m     <a href='file:///home/michele/Repositories/piacere/mc_openapi/mc_openapi/doml_mc/xmi_parser/application.py?line=58'>59</a>\u001b[0m         compdoc\u001b[39m.\u001b[39mname: parse_application_component(compdoc, interfaces)\n\u001b[1;32m     <a href='file:///home/michele/Repositories/piacere/mc_openapi/mc_openapi/doml_mc/xmi_parser/application.py?line=59'>60</a>\u001b[0m         \u001b[39mfor\u001b[39;00m compdoc \u001b[39min\u001b[39;00m doc\u001b[39m.\u001b[39mcomponents\n\u001b[1;32m     <a href='file:///home/michele/Repositories/piacere/mc_openapi/mc_openapi/doml_mc/xmi_parser/application.py?line=60'>61</a>\u001b[0m     },\n\u001b[1;32m     <a href='file:///home/michele/Repositories/piacere/mc_openapi/mc_openapi/doml_mc/xmi_parser/application.py?line=61'>62</a>\u001b[0m )\n",
      "File \u001b[0;32m~/Repositories/piacere/mc_openapi/mc_openapi/doml_mc/xmi_parser/application.py:59\u001b[0m, in \u001b[0;36m<dictcomp>\u001b[0;34m(.0)\u001b[0m\n\u001b[1;32m     <a href='file:///home/michele/Repositories/piacere/mc_openapi/mc_openapi/doml_mc/xmi_parser/application.py?line=48'>49</a>\u001b[0m \u001b[39m# Parse all interfaces first\u001b[39;00m\n\u001b[1;32m     <a href='file:///home/michele/Repositories/piacere/mc_openapi/mc_openapi/doml_mc/xmi_parser/application.py?line=49'>50</a>\u001b[0m interfaces \u001b[39m=\u001b[39m {\n\u001b[1;32m     <a href='file:///home/michele/Repositories/piacere/mc_openapi/mc_openapi/doml_mc/xmi_parser/application.py?line=50'>51</a>\u001b[0m     iface\u001b[39m.\u001b[39mendPoint: parse_application_interface(iface, comp\u001b[39m.\u001b[39mname)\n\u001b[1;32m     <a href='file:///home/michele/Repositories/piacere/mc_openapi/mc_openapi/doml_mc/xmi_parser/application.py?line=51'>52</a>\u001b[0m     \u001b[39mfor\u001b[39;00m comp \u001b[39min\u001b[39;00m doc\u001b[39m.\u001b[39mcomponents\n\u001b[1;32m     <a href='file:///home/michele/Repositories/piacere/mc_openapi/mc_openapi/doml_mc/xmi_parser/application.py?line=52'>53</a>\u001b[0m     \u001b[39mfor\u001b[39;00m iface \u001b[39min\u001b[39;00m comp\u001b[39m.\u001b[39mexposedInterfaces\n\u001b[1;32m     <a href='file:///home/michele/Repositories/piacere/mc_openapi/mc_openapi/doml_mc/xmi_parser/application.py?line=53'>54</a>\u001b[0m }\n\u001b[1;32m     <a href='file:///home/michele/Repositories/piacere/mc_openapi/mc_openapi/doml_mc/xmi_parser/application.py?line=55'>56</a>\u001b[0m \u001b[39mreturn\u001b[39;00m Application(\n\u001b[1;32m     <a href='file:///home/michele/Repositories/piacere/mc_openapi/mc_openapi/doml_mc/xmi_parser/application.py?line=56'>57</a>\u001b[0m     name\u001b[39m=\u001b[39mdoc\u001b[39m.\u001b[39mname,\n\u001b[1;32m     <a href='file:///home/michele/Repositories/piacere/mc_openapi/mc_openapi/doml_mc/xmi_parser/application.py?line=57'>58</a>\u001b[0m     children\u001b[39m=\u001b[39m{\n\u001b[0;32m---> <a href='file:///home/michele/Repositories/piacere/mc_openapi/mc_openapi/doml_mc/xmi_parser/application.py?line=58'>59</a>\u001b[0m         compdoc\u001b[39m.\u001b[39mname: parse_application_component(compdoc, interfaces)\n\u001b[1;32m     <a href='file:///home/michele/Repositories/piacere/mc_openapi/mc_openapi/doml_mc/xmi_parser/application.py?line=59'>60</a>\u001b[0m         \u001b[39mfor\u001b[39;00m compdoc \u001b[39min\u001b[39;00m doc\u001b[39m.\u001b[39mcomponents\n\u001b[1;32m     <a href='file:///home/michele/Repositories/piacere/mc_openapi/mc_openapi/doml_mc/xmi_parser/application.py?line=60'>61</a>\u001b[0m     },\n\u001b[1;32m     <a href='file:///home/michele/Repositories/piacere/mc_openapi/mc_openapi/doml_mc/xmi_parser/application.py?line=61'>62</a>\u001b[0m )\n",
      "File \u001b[0;32m~/Repositories/piacere/mc_openapi/mc_openapi/doml_mc/xmi_parser/application.py:40\u001b[0m, in \u001b[0;36mparse_application.<locals>.parse_application_component\u001b[0;34m(doc, interfaces)\u001b[0m\n\u001b[1;32m     <a href='file:///home/michele/Repositories/piacere/mc_openapi/mc_openapi/doml_mc/xmi_parser/application.py?line=32'>33</a>\u001b[0m         attrs[\u001b[39m\"\u001b[39m\u001b[39mlicenseCost\u001b[39m\u001b[39m\"\u001b[39m] \u001b[39m=\u001b[39m doc\u001b[39m.\u001b[39mlicenseCost\n\u001b[1;32m     <a href='file:///home/michele/Repositories/piacere/mc_openapi/mc_openapi/doml_mc/xmi_parser/application.py?line=33'>34</a>\u001b[0m \u001b[39m# TODO: add properties\u001b[39;00m\n\u001b[1;32m     <a href='file:///home/michele/Repositories/piacere/mc_openapi/mc_openapi/doml_mc/xmi_parser/application.py?line=34'>35</a>\u001b[0m \u001b[39mreturn\u001b[39;00m ApplicationComponent(\n\u001b[1;32m     <a href='file:///home/michele/Repositories/piacere/mc_openapi/mc_openapi/doml_mc/xmi_parser/application.py?line=35'>36</a>\u001b[0m     name\u001b[39m=\u001b[39mdoc\u001b[39m.\u001b[39mname,\n\u001b[1;32m     <a href='file:///home/michele/Repositories/piacere/mc_openapi/mc_openapi/doml_mc/xmi_parser/application.py?line=36'>37</a>\u001b[0m     typeId\u001b[39m=\u001b[39m\u001b[39m\"\u001b[39m\u001b[39mapplication_\u001b[39m\u001b[39m\"\u001b[39m \u001b[39m+\u001b[39m doc\u001b[39m.\u001b[39meClass\u001b[39m.\u001b[39mname,\n\u001b[1;32m     <a href='file:///home/michele/Repositories/piacere/mc_openapi/mc_openapi/doml_mc/xmi_parser/application.py?line=37'>38</a>\u001b[0m     consumedInterfaces\u001b[39m=\u001b[39m[\n\u001b[1;32m     <a href='file:///home/michele/Repositories/piacere/mc_openapi/mc_openapi/doml_mc/xmi_parser/application.py?line=38'>39</a>\u001b[0m         interfaces[iface\u001b[39m.\u001b[39mendPoint]\n\u001b[0;32m---> <a href='file:///home/michele/Repositories/piacere/mc_openapi/mc_openapi/doml_mc/xmi_parser/application.py?line=39'>40</a>\u001b[0m         \u001b[39mfor\u001b[39;00m iface \u001b[39min\u001b[39;00m doc\u001b[39m.\u001b[39;49mconsumedInterfaces\n\u001b[1;32m     <a href='file:///home/michele/Repositories/piacere/mc_openapi/mc_openapi/doml_mc/xmi_parser/application.py?line=40'>41</a>\u001b[0m     ],\n\u001b[1;32m     <a href='file:///home/michele/Repositories/piacere/mc_openapi/mc_openapi/doml_mc/xmi_parser/application.py?line=41'>42</a>\u001b[0m     exposedInterfaces\u001b[39m=\u001b[39m[\n\u001b[1;32m     <a href='file:///home/michele/Repositories/piacere/mc_openapi/mc_openapi/doml_mc/xmi_parser/application.py?line=42'>43</a>\u001b[0m         interfaces[iface\u001b[39m.\u001b[39mendPoint]\n\u001b[1;32m     <a href='file:///home/michele/Repositories/piacere/mc_openapi/mc_openapi/doml_mc/xmi_parser/application.py?line=43'>44</a>\u001b[0m         \u001b[39mfor\u001b[39;00m iface \u001b[39min\u001b[39;00m doc\u001b[39m.\u001b[39mexposedInterfaces\n\u001b[1;32m     <a href='file:///home/michele/Repositories/piacere/mc_openapi/mc_openapi/doml_mc/xmi_parser/application.py?line=44'>45</a>\u001b[0m     ],\n\u001b[1;32m     <a href='file:///home/michele/Repositories/piacere/mc_openapi/mc_openapi/doml_mc/xmi_parser/application.py?line=45'>46</a>\u001b[0m     attributes\u001b[39m=\u001b[39mattrs\n\u001b[1;32m     <a href='file:///home/michele/Repositories/piacere/mc_openapi/mc_openapi/doml_mc/xmi_parser/application.py?line=46'>47</a>\u001b[0m )\n",
      "\u001b[0;31mAttributeError\u001b[0m: 'SaaS' object has no attribute 'consumedInterfaces'"
     ]
    }
   ],
   "source": [
    "from mc_openapi.doml_mc.xmi_parser.doml_model import parse_doml_model\n",
    "doml_document_path = \"/home/michele/Repositories/piacere/DOML-case-study/faas/doml/faas.domlx\"\n",
    "# doml_document_path = \"../../tests/doml/nginx-openstack_v2_wrong.domlx\"\n",
    "with open(doml_document_path, \"rb\") as xmif:\n",
    "    doc = xmif.read()\n",
    "\n",
    "doml_model = parse_doml_model(doc, mm)\n",
    "print(doml_model)"
   ]
  },
  {
   "cell_type": "code",
   "execution_count": 5,
   "metadata": {},
   "outputs": [],
   "source": [
    "from mc_openapi.doml_mc.xmi_parser.doml_model import parse_xmi_model\n",
    "doml_xmi = parse_xmi_model(doc)"
   ]
  },
  {
   "cell_type": "code",
   "execution_count": 6,
   "metadata": {},
   "outputs": [
    {
     "name": "stdout",
     "output_type": "stream",
     "text": [
      "['activeConfiguration', 'activeInfrastructure', 'annotations', 'application', 'concretizations', 'configurations', 'contributesTo', 'description', 'functionalRequirements', 'infrastructure', 'name', 'optimization']\n",
      "EOrderedSet()\n"
     ]
    }
   ],
   "source": [
    "print(dir(doml_xmi))\n",
    "print(doml_xmi.activeInfrastructure.eClass.eSuperTypes[0].eSuperTypes)"
   ]
  },
  {
   "cell_type": "code",
   "execution_count": 7,
   "metadata": {},
   "outputs": [],
   "source": [
    "from mc_openapi.doml_mc.intermediate_model.doml_model2im import doml_model_to_im\n",
    "from mc_openapi.doml_mc.intermediate_model.doml_element import reciprocate_inverse_associations\n",
    "im = doml_model_to_im(doml_model, mm)\n",
    "reciprocate_inverse_associations(im, inv_assoc)"
   ]
  },
  {
   "cell_type": "code",
   "execution_count": 8,
   "metadata": {},
   "outputs": [
    {
     "name": "stdout",
     "output_type": "stream",
     "text": [
      "{\n",
      "    'nginx': mc_openapi.doml_mc.intermediate_model.doml_element.DOMLElement(\n",
      "        name='nginx',\n",
      "        class_='application_SoftwareComponent',\n",
      "        attributes={\n",
      "            'application_SoftwareComponent::isPersistent': False,\n",
      "            'commons_DOMLElement::name': 'nginx'\n",
      "        },\n",
      "        associations={\n",
      "            'application_SoftwarePackage::consumedInterfaces': set(),\n",
      "            'application_SoftwarePackage::exposedInterfaces': set()\n",
      "        }\n",
      "    ),\n",
      "    'vm1': mc_openapi.doml_mc.intermediate_model.doml_element.DOMLElement(\n",
      "        name='vm1',\n",
      "        class_='infrastructure_VirtualMachine',\n",
      "        attributes={'commons_DOMLElement::name': 'vm1'},\n",
      "        associations={'infrastructure_ComputingNode::ifaces': set()}\n",
      "    ),\n",
      "    'net1': mc_openapi.doml_mc.intermediate_model.doml_element.DOMLElement(\n",
      "        name='net1',\n",
      "        class_='infrastructure_Network',\n",
      "        attributes={\n",
      "            'commons_DOMLElement::name': 'net1',\n",
      "            'infrastructure_Network::address_lb': 268435456,\n",
      "            'infrastructure_Network::address_ub': 268435711\n",
      "        },\n",
      "        associations={}\n",
      "    ),\n",
      "    'sg': mc_openapi.doml_mc.intermediate_model.doml_element.DOMLElement(\n",
      "        name='sg',\n",
      "        class_='infrastructure_SecurityGroup',\n",
      "        attributes={'commons_DOMLElement::name': 'sg'},\n",
      "        associations={}\n",
      "    ),\n",
      "    'con_infra': mc_openapi.doml_mc.intermediate_model.doml_element.DOMLElement(\n",
      "        name='con_infra',\n",
      "        class_='concrete_ConcreteInfrastructure',\n",
      "        attributes={'commons_DOMLElement::name': 'con_infra'},\n",
      "        associations={\n",
      "            'concrete_ConcreteInfrastructure::providers': {'openstack'},\n",
      "            'concrete_ConcreteInfrastructure::nodes': {'concrete_vm'},\n",
      "            'concrete_ConcreteInfrastructure::asGroups': set(),\n",
      "            'concrete_ConcreteInfrastructure::networks': {'concrete_net'},\n",
      "            'concrete_ConcreteInfrastructure::storages': set()\n",
      "        }\n",
      "    ),\n",
      "    'concrete_vm': mc_openapi.doml_mc.intermediate_model.doml_element.DOMLElement(\n",
      "        name='concrete_vm',\n",
      "        class_='concrete_VirtualMachine',\n",
      "        attributes={'commons_DOMLElement::name': 'concrete_vm'},\n",
      "        associations={'concrete_VirtualMachine::maps': {'vm1'}}\n",
      "    ),\n",
      "    'openstack': mc_openapi.doml_mc.intermediate_model.doml_element.DOMLElement(\n",
      "        name='openstack',\n",
      "        class_='concrete_RuntimeProvider',\n",
      "        attributes={'commons_DOMLElement::name': 'openstack'},\n",
      "        associations={\n",
      "            'concrete_RuntimeProvider::supportedGroups': set(),\n",
      "            'concrete_RuntimeProvider::vms': {'concrete_vm'},\n",
      "            'concrete_RuntimeProvider::networks': {'concrete_net'},\n",
      "            'concrete_RuntimeProvider::storages': set()\n",
      "        }\n",
      "    ),\n",
      "    'concrete_net': mc_openapi.doml_mc.intermediate_model.doml_element.DOMLElement(\n",
      "        name='concrete_net',\n",
      "        class_='concrete_Network',\n",
      "        attributes={'commons_DOMLElement::name': 'concrete_net'},\n",
      "        associations={'concrete_Network::maps': {'net1'}}\n",
      "    )\n",
      "}\n"
     ]
    }
   ],
   "source": [
    "IMPLICIT_MODULES.add('doml_mc.intermediate_model.doml_element')\n",
    "pp.pprint(im)"
   ]
  },
  {
   "cell_type": "code",
   "execution_count": 9,
   "metadata": {},
   "outputs": [],
   "source": [
    "unbound_elems_n = 1\n",
    "unbound_elems = [f\"unbound{i}\" for i in range(unbound_elems_n)]"
   ]
  },
  {
   "cell_type": "code",
   "execution_count": 10,
   "metadata": {},
   "outputs": [],
   "source": [
    "from z3 import Solver\n",
    "\n",
    "from mc_openapi.doml_mc.z3encoding.metamodel_encoding import (\n",
    "    def_association_rel_and_assert_constraints,\n",
    "    def_attribute_rel_and_assert_constraints,\n",
    "    mk_association_sort_dict,\n",
    "    mk_attribute_sort_dict,\n",
    "    mk_class_sort_dict\n",
    ")\n",
    "from mc_openapi.doml_mc.z3encoding.im_encoding import (\n",
    "    assert_im_associations_q,\n",
    "    assert_im_attributes,\n",
    "    def_elem_class_f_and_assert_classes,\n",
    "    mk_elem_sort_dict,\n",
    "    mk_stringsym_sort_dict\n",
    ")\n",
    "from mc_openapi.doml_mc.z3encoding.utils import mk_adata_sort\n",
    "\n",
    "solver = Solver()\n",
    "\n",
    "class_sort, class_ = mk_class_sort_dict(mm)\n",
    "assoc_sort, assoc = mk_association_sort_dict(mm)\n",
    "attr_sort, attr = mk_attribute_sort_dict(mm)\n",
    "elem_sort, elem = mk_elem_sort_dict(im, unbound_elems)\n",
    "ss_sort, ss = mk_stringsym_sort_dict(im, mm)\n",
    "AData = mk_adata_sort(ss_sort)\n",
    "elem_class_f = def_elem_class_f_and_assert_classes(\n",
    "    im,\n",
    "    solver,\n",
    "    elem_sort,\n",
    "    elem,\n",
    "    class_sort,\n",
    "    class_\n",
    ")\n",
    "attr_rel = def_attribute_rel_and_assert_constraints(\n",
    "    mm,\n",
    "    solver,\n",
    "    attr_sort,\n",
    "    attr,\n",
    "    class_,\n",
    "    elem_class_f,\n",
    "    elem_sort,\n",
    "    AData,\n",
    "    ss\n",
    ")\n",
    "assert_im_attributes(\n",
    "    attr_rel,\n",
    "    solver,\n",
    "    im,\n",
    "    mm,\n",
    "    elem,\n",
    "    attr_sort,\n",
    "    attr,\n",
    "    AData,\n",
    "    ss\n",
    ")\n",
    "assoc_rel = def_association_rel_and_assert_constraints(\n",
    "    mm,\n",
    "    solver,\n",
    "    assoc_sort,\n",
    "    assoc,\n",
    "    class_,\n",
    "    elem_class_f,\n",
    "    elem_sort,\n",
    "    inv_assoc\n",
    ")\n",
    "assert_im_associations_q(\n",
    "    assoc_rel,\n",
    "    solver,\n",
    "    {k: v for k, v in im.items() if k not in unbound_elems},\n",
    "    elem,\n",
    "    assoc_sort,\n",
    "    assoc,\n",
    ")"
   ]
  },
  {
   "cell_type": "code",
   "execution_count": 11,
   "metadata": {},
   "outputs": [],
   "source": [
    "# solver.push()"
   ]
  },
  {
   "cell_type": "markdown",
   "metadata": {},
   "source": [
    "### Metamodel statistics"
   ]
  },
  {
   "cell_type": "code",
   "execution_count": 12,
   "metadata": {},
   "outputs": [
    {
     "name": "stdout",
     "output_type": "stream",
     "text": [
      "Number of classes: 42\n",
      "Number of tuples in the subclass relation: 112\n",
      "Number of attributes: 42\n",
      "Number of attribute assertions: 126\n",
      "Number of associations: 53\n",
      "Number of associations assertions: 165\n"
     ]
    }
   ],
   "source": [
    "from mc_openapi.doml_mc.intermediate_model.metamodel import get_subclasses_dict\n",
    "\n",
    "print(\"Number of classes:\", len(mm))\n",
    "print(\n",
    "    \"Number of tuples in the subclass relation:\",\n",
    "    sum(len(s) for s in get_subclasses_dict(mm).values())\n",
    ")\n",
    "n_attrs = sum(len(c.attributes) for c in mm.values())\n",
    "print(\"Number of attributes:\", n_attrs)\n",
    "print(\"Number of attribute assertions:\", 3 * n_attrs)\n",
    "n_assocs = sum(len(c.associations) for c in mm.values())\n",
    "print(\"Number of associations:\", n_assocs)\n",
    "print(\"Number of associations assertions:\", 3 * n_assocs + len(inv_assoc))\n",
    "\n"
   ]
  },
  {
   "cell_type": "markdown",
   "metadata": {},
   "source": [
    "### DOML model statistics"
   ]
  },
  {
   "cell_type": "code",
   "execution_count": 13,
   "metadata": {},
   "outputs": [
    {
     "name": "stdout",
     "output_type": "stream",
     "text": [
      "Number of elements: 8\n",
      "Number of attributes (IM): 11\n",
      "Number of associations (IM): 7\n",
      "Number of string symbols: 10\n",
      "Number of IM attribute assertions: 8\n",
      "Number of IM association assertions: 64\n"
     ]
    }
   ],
   "source": [
    "n_elems = len(im)\n",
    "print(\"Number of elements:\", n_elems)\n",
    "n_attrs_im = sum(len(e.attributes) for e in im.values())\n",
    "print(\"Number of attributes (IM):\", n_attrs_im)\n",
    "n_assocs_im = sum(len(a) for e in im.values() for a in e.associations.values())\n",
    "print(\"Number of associations (IM):\", n_assocs_im)\n",
    "print(\"Number of string symbols:\", len(ss))\n",
    "print(\"Number of IM attribute assertions:\", n_elems)\n",
    "print(\"Number of IM association assertions:\", n_elems ** 2)"
   ]
  },
  {
   "cell_type": "code",
   "execution_count": 14,
   "metadata": {},
   "outputs": [
    {
     "data": {
      "text/html": [
       "<b>sat</b>"
      ],
      "text/plain": [
       "sat"
      ]
     },
     "execution_count": 14,
     "metadata": {},
     "output_type": "execute_result"
    }
   ],
   "source": [
    "solver.check()"
   ]
  },
  {
   "cell_type": "code",
   "execution_count": 14,
   "metadata": {},
   "outputs": [
    {
     "data": {
      "text/plain": [
       "(:added-eqs               24670\n",
       " :arith-make-feasible     7\n",
       " :arith-max-columns       7\n",
       " :binary-propagations     279\n",
       " :conflicts               94\n",
       " :datatype-accessor-ax    621\n",
       " :datatype-constructor-ax 8501\n",
       " :datatype-splits         1752\n",
       " :decisions               42376\n",
       " :del-clause              282\n",
       " :final-checks            8\n",
       " :max-generation          4\n",
       " :max-memory              23.75\n",
       " :memory                  23.75\n",
       " :mk-bool-var             2849\n",
       " :mk-clause               1085\n",
       " :num-allocs              6124957\n",
       " :num-checks              1\n",
       " :propagations            8373\n",
       " :quant-instantiations    591\n",
       " :restarts                3\n",
       " :rlimit-count            1631237\n",
       " :time                    0.26)"
      ]
     },
     "execution_count": 14,
     "metadata": {},
     "output_type": "execute_result"
    }
   ],
   "source": [
    "solver.statistics()"
   ]
  },
  {
   "cell_type": "code",
   "execution_count": 15,
   "metadata": {},
   "outputs": [],
   "source": [
    "from z3 import Consts, ForAll, Exists, Implies, And, Or"
   ]
  },
  {
   "cell_type": "code",
   "execution_count": 16,
   "metadata": {},
   "outputs": [],
   "source": [
    "# All VMs have a network interface.\n",
    "vm, iface = Consts(\n",
    "    \"vm iface\", elem_sort\n",
    ")\n",
    "vmIfaceAssertion = ForAll(\n",
    "    [vm],\n",
    "    Implies(\n",
    "        elem_class_f(vm) == class_[\"infrastructure_VirtualMachine\"],\n",
    "        Exists(\n",
    "            [iface],\n",
    "            And(\n",
    "                assoc_rel(vm, assoc[\"infrastructure_ComputingNode::ifaces\"], iface)\n",
    "            )\n",
    "        )\n",
    "    )\n",
    ")\n",
    "solver.assert_and_track(vmIfaceAssertion, \"vm_iface\")"
   ]
  },
  {
   "cell_type": "code",
   "execution_count": 17,
   "metadata": {},
   "outputs": [
    {
     "data": {
      "text/html": [
       "<b>sat</b>"
      ],
      "text/plain": [
       "sat"
      ]
     },
     "execution_count": 17,
     "metadata": {},
     "output_type": "execute_result"
    }
   ],
   "source": [
    "solver.check()"
   ]
  },
  {
   "cell_type": "code",
   "execution_count": 18,
   "metadata": {},
   "outputs": [
    {
     "data": {
      "text/plain": [
       "25.28"
      ]
     },
     "execution_count": 18,
     "metadata": {},
     "output_type": "execute_result"
    }
   ],
   "source": [
    "solver.statistics().memory"
   ]
  },
  {
   "cell_type": "code",
   "execution_count": 18,
   "metadata": {},
   "outputs": [
    {
     "name": "stdout",
     "output_type": "stream",
     "text": [
      "[attribute_st_types infrastructure_VirtualMachine::sizeDescription = True,\n",
      " attribute_mult_ub infrastructure_Network::address_ub = True,\n",
      " attribute_st_types infrastructure_Rule::toPort = True,\n",
      " association_st_classes infrastructure_SecurityGroup::ifaces = True,\n",
      " associations vm1 concrete_vm = True,\n",
      " attribute_st_types application_SaaS::licenseCost = True,\n",
      " association_st_classes concrete_ConcreteInfrastructure::storages = True,\n",
      " association_st_classes concrete_VirtualMachine::maps = True,\n",
      " attribute_mult_ub infrastructure_Storage::cost = True,\n",
      " attribute_mult_lb infrastructure_Rule::kind = True,\n",
      " attribute_st_types commons_DOMLElement::name = True,\n",
      " attribute_st_types infrastructure_Network::address_lb = True,\n",
      " association_mult_ub concrete_FunctionAsAService::maps = True,\n",
      " associations con_infra con_infra = True,\n",
      " attribute_st_types infrastructure_KeyPair::bits = True,\n",
      " association_st_classes infrastructure_AutoScalingGroup::securityGroup = True,\n",
      " association_inverse infrastructure_Container::generatedFrom infrastructure_ContainerImage::generatedContainers = True,\n",
      " association_mult_ub infrastructure_Container::generatedFrom = True,\n",
      " association_st_classes infrastructure_FunctionAsAService::ifaces = True,\n",
      " association_inverse infrastructure_ComputingNode::group infrastructure_ComputingGroup::groupedNodes = True,\n",
      " associations concrete_vm sg = True,\n",
      " association_st_classes concrete_Storage::maps = True,\n",
      " elem_class vm1 infrastructure_VirtualMachine = True,\n",
      " attribute_mult_ub infrastructure_KeyPair::keyfile = True,\n",
      " attribute_values concrete_vm = True,\n",
      " association_st_classes infrastructure_VPC::subnets = True,\n",
      " elem_class nginx application_SoftwareComponent = True,\n",
      " attribute_mult_ub infrastructure_AutoScalingGroup::min = True,\n",
      " attribute_mult_ub infrastructure_KeyPair::user = True,\n",
      " attribute_st_types infrastructure_KeyPair::algorithm = True,\n",
      " attribute_values nginx = True,\n",
      " association_st_classes infrastructure_Storage::ifaces = True,\n",
      " associations nginx nginx = True,\n",
      " attribute_st_types infrastructure_Rule::addressRanges = True,\n",
      " association_st_classes infrastructure_Subnet::connectedTo = True,\n",
      " attribute_mult_lb infrastructure_Rule::protocol = True,\n",
      " attribute_mult_ub infrastructure_KeyPair::bits = True,\n",
      " association_st_classes concrete_RuntimeProvider::vms = True,\n",
      " associations nginx openstack = True,\n",
      " attribute_st_types infrastructure_Network::protocol = True,\n",
      " attribute_mult_ub infrastructure_Storage::label = True,\n",
      " associations concrete_net openstack = True,\n",
      " associations sg nginx = True,\n",
      " attribute_mult_ub infrastructure_ComputingNodeGenerator::uri = True,\n",
      " association_mult_ub commons_Deployment::source = True,\n",
      " attribute_st_types infrastructure_ComputingNode::os = True,\n",
      " attribute_values sg = True,\n",
      " associations net1 vm1 = True,\n",
      " elem_class concrete_vm concrete_VirtualMachine = True,\n",
      " attribute_mult_ub application_SoftwareComponent::isPersistent = True,\n",
      " attribute_values concrete_net = True,\n",
      " association_st_classes infrastructure_ContainerImage::generatedContainers = True,\n",
      " association_mult_lb infrastructure_NetworkInterface::belongsTo = True,\n",
      " association_mult_lb concrete_VirtualMachine::maps = True,\n",
      " association_st_classes concrete_ConcreteInfrastructure::nodes = True,\n",
      " association_mult_ub concrete_VirtualMachine::maps = True,\n",
      " association_st_classes commons_Deployment::target = True,\n",
      " association_st_classes concrete_ConcreteInfrastructure::faas = True,\n",
      " association_st_classes infrastructure_AutoScalingGroup::machineDefinition = True,\n",
      " associations net1 con_infra = True,\n",
      " association_mult_ub infrastructure_AutoScalingGroup::securityGroup = True,\n",
      " attribute_st_types concrete_ConcreteElement::configurationScript = True,\n",
      " association_mult_ub infrastructure_VirtualMachine::generatedFrom = True,\n",
      " associations nginx net1 = True,\n",
      " attribute_st_types infrastructure_Network::address_ub = True,\n",
      " attribute_values openstack = True,\n",
      " attribute_mult_ub infrastructure_KeyPair::algorithm = True,\n",
      " attribute_st_types infrastructure_ComputingNode::cost = True,\n",
      " association_mult_ub infrastructure_NetworkInterface::belongsTo = True,\n",
      " attribute_st_types infrastructure_Storage::size = True,\n",
      " attribute_mult_lb infrastructure_Rule::fromPort = True,\n",
      " associations nginx vm1 = True,\n",
      " associations con_infra concrete_vm = True,\n",
      " association_mult_ub infrastructure_ComputingNode::location = True,\n",
      " association_mult_lb concrete_AutoScalingGroup::maps = True,\n",
      " association_inverse infrastructure_ComputingGroup::groupedNodes infrastructure_ComputingNode::group = True,\n",
      " attribute_values net1 = True,\n",
      " attribute_mult_ub infrastructure_Location::zone = True,\n",
      " associations vm1 openstack = True,\n",
      " association_mult_ub infrastructure_ComputingNode::group = True,\n",
      " association_mult_ub infrastructure_AutoScalingGroup::deploymentNetwork = True,\n",
      " association_st_classes infrastructure_VirtualMachine::generatedFrom = True,\n",
      " association_st_classes concrete_FunctionAsAService::maps = True,\n",
      " associations sg concrete_net = True,\n",
      " associations net1 openstack = True,\n",
      " associations concrete_vm net1 = True,\n",
      " associations concrete_vm concrete_vm = True,\n",
      " association_st_classes concrete_ConcreteInfrastructure::networks = True,\n",
      " association_mult_ub infrastructure_NetworkInterface::associated = True,\n",
      " association_mult_ub infrastructure_ComputingNode::credentials = True,\n",
      " attribute_st_types infrastructure_KeyPair::keyfile = True,\n",
      " associations con_infra concrete_net = True,\n",
      " associations openstack vm1 = True,\n",
      " attribute_st_types infrastructure_KeyPair::user = True,\n",
      " association_mult_ub commons_Deployment::target = True,\n",
      " associations con_infra vm1 = True,\n",
      " attribute_mult_lb commons_DOMLElement::name = True,\n",
      " attribute_st_types infrastructure_Storage::label = True,\n",
      " associations vm1 nginx = True,\n",
      " attribute_mult_ub infrastructure_Network::address_lb = True,\n",
      " association_inverse infrastructure_NetworkInterface::associated infrastructure_SecurityGroup::ifaces = True,\n",
      " association_st_classes infrastructure_ComputingNode::location = True,\n",
      " association_st_classes concrete_RuntimeProvider::networks = True,\n",
      " attribute_mult_lb application_SoftwareInterface::endPoint = True,\n",
      " vm_iface = True,\n",
      " associations net1 nginx = True,\n",
      " attribute_mult_ub infrastructure_Location::region = True,\n",
      " attribute_st_types infrastructure_Rule::fromPort = True,\n",
      " associations con_infra nginx = True,\n",
      " association_mult_ub concrete_Storage::maps = True,\n",
      " association_st_classes commons_Deployment::source = True,\n",
      " attribute_mult_ub infrastructure_AutoScalingGroup::max = True,\n",
      " associations con_infra net1 = True,\n",
      " attribute_mult_ub commons_DOMLElement::description = True,\n",
      " attribute_mult_ub application_SoftwareComponent::configFile = True,\n",
      " association_st_classes application_SoftwareComponent::exposedInterfaces = True,\n",
      " attribute_mult_ub infrastructure_UserPass::username = True,\n",
      " association_mult_lb commons_Deployment::target = True,\n",
      " association_st_classes infrastructure_AutoScalingGroup::deploymentNetwork = True,\n",
      " associations nginx concrete_net = True,\n",
      " elem_class con_infra concrete_ConcreteInfrastructure = True,\n",
      " association_mult_lb infrastructure_Container::host = True,\n",
      " association_st_classes concrete_AutoScalingGroup::maps = True,\n",
      " attribute_values con_infra = True,\n",
      " associations sg openstack = True,\n",
      " associations sg sg = True,\n",
      " association_st_classes concrete_ConcreteInfrastructure::providers = True,\n",
      " attribute_mult_ub infrastructure_ComputingNode::memory = True,\n",
      " elem_class concrete_net concrete_Network = True,\n",
      " ...]\n"
     ]
    }
   ],
   "source": [
    "m = solver.model()\n",
    "print(m)"
   ]
  },
  {
   "cell_type": "code",
   "execution_count": 19,
   "metadata": {},
   "outputs": [
    {
     "name": "stdout",
     "output_type": "stream",
     "text": [
      "vm1 infrastructure_ComputingNode::ifaces unbound0\n",
      "net1 infrastructure_Network::connectedIfaces unbound0\n",
      "sg infrastructure_SecurityGroup::ifaces unbound0\n",
      "unbound0 infrastructure_NetworkInterface::belongsTo net1\n",
      "unbound0 infrastructure_NetworkInterface::associated sg\n"
     ]
    }
   ],
   "source": [
    "from itertools import product\n",
    "for (e1n, e1), a, (e2n, e2) in product(elem.items(), assoc.values(), elem.items()):\n",
    "    if (e1n in unbound_elems or e2n in unbound_elems) and m.eval(assoc_rel(e1, a, e2)):\n",
    "        print(e1, a, e2)"
   ]
  }
 ],
 "metadata": {
  "interpreter": {
   "hash": "a6678cf6b5907da3ee1c64f7f36cf1b3f0e5fe51f4038e28403f1c01345fc5bd"
  },
  "kernelspec": {
   "display_name": "mc_openapi",
   "language": "python",
   "name": "mc_openapi"
  },
  "language_info": {
   "codemirror_mode": {
    "name": "ipython",
    "version": 3
   },
   "file_extension": ".py",
   "mimetype": "text/x-python",
   "name": "python",
   "nbconvert_exporter": "python",
   "pygments_lexer": "ipython3",
   "version": "3.9.12"
  },
  "orig_nbformat": 4
 },
 "nbformat": 4,
 "nbformat_minor": 2
}
