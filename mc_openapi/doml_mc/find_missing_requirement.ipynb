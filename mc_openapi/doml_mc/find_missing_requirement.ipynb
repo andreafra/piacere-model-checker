{
 "cells": [
  {
   "cell_type": "markdown",
   "metadata": {},
   "source": [
    "## Finding Missing Requirements\n",
    "\n",
    "In this notebook, I try to put together an iterative way to:\n",
    "1. Add *unbound variables* until the requirement is satisfied\n",
    "2. Get the *relationships* of the unbound variables\n",
    "3. Filter these relationships by adding one at a time as a negated constraint\n",
    "   and check again the model.\n",
    "4. When we find the one that makes the model unsat, it means we've found the right one.\n",
    "\n",
    "#### Goals\n",
    "- Make the search of finding the correct relationship as fast as possible:\n",
    "  usually relationships are quite a lot, and we need to iterate them at least a\n",
    "  couple of times. We can add progressively only the relationships that remain\n",
    "  after each pass, always one at a time and checking the model again."
   ]
  },
  {
   "cell_type": "code",
   "execution_count": 649,
   "metadata": {},
   "outputs": [],
   "source": [
    "from mc_openapi.doml_mc.intermediate_model.metamodel import parse_metamodel, parse_inverse_associations\n",
    "from mc_openapi.doml_mc.xmi_parser.doml_model import parse_doml_model\n",
    "from mc_openapi.doml_mc.xmi_parser.doml_model import parse_xmi_model\n",
    "from mc_openapi.doml_mc import DOMLVersion\n",
    "from z3 import Solver, Model, DatatypeSortRef, FuncDeclRef, Consts, ForAll, Exists, Implies, And, Or, Not, sat, unsat\n",
    "import yaml\n",
    "\n",
    "from mc_openapi.doml_mc.z3encoding.metamodel_encoding import (\n",
    "    def_association_rel,\n",
    "    def_attribute_rel,\n",
    "    mk_association_sort_dict,\n",
    "    mk_attribute_sort_dict,\n",
    "    mk_class_sort_dict\n",
    ")\n",
    "from mc_openapi.doml_mc.z3encoding.im_encoding import (\n",
    "    assert_im_associations_q,\n",
    "    assert_im_attributes,\n",
    "    def_elem_class_f_and_assert_classes,\n",
    "    mk_elem_sort_dict,\n",
    "    mk_stringsym_sort_dict\n",
    ")\n",
    "from mc_openapi.doml_mc.z3encoding.types import Refs\n",
    "from mc_openapi.doml_mc.z3encoding.utils import mk_attr_data_sort\n",
    "\n",
    "from itertools import product\n",
    "from operator import itemgetter"
   ]
  },
  {
   "cell_type": "code",
   "execution_count": 650,
   "metadata": {},
   "outputs": [],
   "source": [
    "with open(\"../assets/doml_meta_v2.0.yaml\") as mmf:\n",
    "    mmdoc = yaml.load(mmf, yaml.Loader)\n",
    "mm = parse_metamodel(mmdoc)\n",
    "inv_assoc = parse_inverse_associations(mmdoc)"
   ]
  },
  {
   "cell_type": "markdown",
   "metadata": {},
   "source": [
    "**You can change here the input DOML file**"
   ]
  },
  {
   "cell_type": "code",
   "execution_count": 651,
   "metadata": {},
   "outputs": [],
   "source": [
    "# doml_document_path = \"../../tests/doml/nginx-openstack_v2.0.domlx\"\n",
    "doml_document_path = \"../../tests/doml/nginx-openstack_v2.0_wrong_vm_iface.domlx\"\n",
    "# doml_document_path = \"../../tests/doml/nginx-openstack_v2.0_wrong_iface_uniq.domlx\""
   ]
  },
  {
   "cell_type": "code",
   "execution_count": 652,
   "metadata": {},
   "outputs": [],
   "source": [
    "with open(doml_document_path, \"rb\") as xmif:\n",
    "    doc = xmif.read()\n",
    "\n",
    "im, _ = parse_doml_model(doc, DOMLVersion.V2_0)\n",
    "doml_xmi = parse_xmi_model(doc, DOMLVersion.V2_0)"
   ]
  },
  {
   "cell_type": "markdown",
   "metadata": {},
   "source": [
    "We need to initialize each time the Solver context before iterating,\n",
    "since an unbound variable is an element, and elements are an EnumSort,\n",
    "and EnumSorts cannot be modified and depend on the solver context.\n",
    "\n",
    "The following code is stuff that is already present in the `IntermediateModelChecker`."
   ]
  },
  {
   "cell_type": "code",
   "execution_count": 653,
   "metadata": {},
   "outputs": [],
   "source": [
    "from typing import Dict\n",
    "\n",
    "Context = Dict"
   ]
  },
  {
   "cell_type": "code",
   "execution_count": 654,
   "metadata": {},
   "outputs": [],
   "source": [
    "def initialize_solver(\n",
    "    unbound_elems_quantity: int = 0,\n",
    "    requirements: list = []\n",
    ") -> Context:\n",
    "    ctx = dict()\n",
    "    \n",
    "    ctx[\"solver\"] = Solver()\n",
    "\n",
    "    ctx[\"class_sort\"], ctx[\"class_\"] = mk_class_sort_dict(mm, ctx[\"solver\"].ctx)\n",
    "    ctx[\"assoc_sort\"], ctx[\"assoc\"] = mk_association_sort_dict(mm, ctx[\"solver\"].ctx)\n",
    "    ctx[\"attr_sort\"], ctx[\"attr\"] = mk_attribute_sort_dict(mm, ctx[\"solver\"].ctx)\n",
    "    ctx[\"ss_sort\"], ctx[\"ss\"] = mk_stringsym_sort_dict(im, mm, ctx[\"solver\"].ctx)\n",
    "    ctx[\"attr_data\"] = mk_attr_data_sort(ctx[\"ss_sort\"], ctx[\"solver\"].ctx)\n",
    "\n",
    "    ctx[\"unbound_elems\"] = [f\"unbound{i}\" for i in range(unbound_elems_quantity)]\n",
    "    ctx[\"elem_sort\"], ctx[\"elem\"] = mk_elem_sort_dict(im, ctx[\"solver\"].ctx, ctx[\"unbound_elems\"])\n",
    "\n",
    "    ctx[\"elem_class_f\"] = def_elem_class_f_and_assert_classes(\n",
    "        im,\n",
    "        ctx[\"solver\"],\n",
    "        ctx[\"elem_sort\"],\n",
    "        ctx[\"elem\"],\n",
    "        ctx[\"class_sort\"],\n",
    "        ctx[\"class_\"]\n",
    "    )\n",
    "    ctx[\"attr_rel\"] = def_attribute_rel(\n",
    "        ctx[\"attr_sort\"],\n",
    "        ctx[\"elem_sort\"],\n",
    "        ctx[\"attr_data\"]\n",
    "    )\n",
    "    assert_im_attributes(\n",
    "        ctx[\"attr_rel\"],\n",
    "        ctx[\"solver\"],\n",
    "        im,\n",
    "        mm,\n",
    "        ctx[\"elem\"],\n",
    "        ctx[\"attr_sort\"],\n",
    "        ctx[\"attr\"],\n",
    "        ctx[\"attr_data\"],\n",
    "        ctx[\"ss\"]\n",
    "    )\n",
    "    ctx[\"assoc_rel\"] = def_association_rel(\n",
    "        ctx[\"assoc_sort\"],\n",
    "        ctx[\"elem_sort\"]\n",
    "    )\n",
    "    assert_im_associations_q(\n",
    "        ctx[\"assoc_rel\"],\n",
    "        ctx[\"solver\"],\n",
    "        {k: v for k, v in im.items() if k not in ctx[\"unbound_elems\"]},\n",
    "        ctx[\"elem\"],\n",
    "        ctx[\"assoc_sort\"],\n",
    "        ctx[\"assoc\"],\n",
    "    )\n",
    "\n",
    "    # Add requirements\n",
    "    for req in requirements:\n",
    "        req(ctx)\n",
    "\n",
    "    return ctx"
   ]
  },
  {
   "cell_type": "code",
   "execution_count": 655,
   "metadata": {},
   "outputs": [],
   "source": [
    "def requirement_1(ctx: Context):    \n",
    "    vm, iface = Consts(\n",
    "        \"vm iface\", ctx[\"elem_sort\"]\n",
    "    )\n",
    "    vmIfaceAssertion = ForAll(\n",
    "        [vm],\n",
    "        Implies(\n",
    "            ctx[\"elem_class_f\"](vm) == ctx[\"class_\"][\"infrastructure_VirtualMachine\"],\n",
    "            Exists(\n",
    "                [iface],\n",
    "                And(\n",
    "                    ctx[\"assoc_rel\"](vm, ctx[\"assoc\"][\"infrastructure_ComputingNode::ifaces\"], iface)\n",
    "                )\n",
    "            )\n",
    "        )\n",
    "    )\n",
    "    ctx[\"solver\"].assert_and_track(vmIfaceAssertion, \"vm_iface\")"
   ]
  },
  {
   "cell_type": "code",
   "execution_count": 656,
   "metadata": {},
   "outputs": [],
   "source": [
    "def do_some_checking(ubvars_n: int = 0) -> Context:\n",
    "    ctx = initialize_solver(ubvars_n, [requirement_1])\n",
    "    solver = ctx[\"solver\"]\n",
    "\n",
    "    res = solver.check()\n",
    "\n",
    "    if res == sat:\n",
    "        return ctx\n",
    "    elif res == unsat:\n",
    "        # print(f\"ubvars={ubvars_n}; UNSAT_CORE:\")\n",
    "        # print(solver.unsat_core())\n",
    "        print(f\"Increasing unbound vars to {ubvars_n + 1}\")\n",
    "        return do_some_checking(ubvars_n + 1)\n",
    "    else:\n",
    "        raise RuntimeError(\"It took too long to decide.\")"
   ]
  },
  {
   "cell_type": "code",
   "execution_count": 657,
   "metadata": {},
   "outputs": [
    {
     "name": "stdout",
     "output_type": "stream",
     "text": [
      "Increasing unbound vars to 1\n"
     ]
    }
   ],
   "source": [
    "solved_ctx = do_some_checking()\n",
    "solved_model = solved_ctx[\"solver\"].model()"
   ]
  },
  {
   "cell_type": "code",
   "execution_count": 658,
   "metadata": {},
   "outputs": [],
   "source": [
    "def get_ubvars_and_assoc(ctx: Context, model: Model):\n",
    "    elem, assoc, assoc_rel, unbound_elems = itemgetter(\"elem\", \"assoc\", \"assoc_rel\", \"unbound_elems\")(ctx)\n",
    "\n",
    "    return [ ((e1n, e1), a, (e2n, e2)) \n",
    "        for (e1n, e1), a, (e2n, e2) in product(elem.items(), assoc.values(), elem.items()) \n",
    "        if (e1n in unbound_elems or e2n in unbound_elems) and model.eval(assoc_rel(e1, a, e2))\n",
    "    ]"
   ]
  },
  {
   "cell_type": "code",
   "execution_count": 659,
   "metadata": {},
   "outputs": [],
   "source": [
    "def pretty_ubvar_assoc(assoc):\n",
    "    (e1n, e1), a, (e2n, e2) = assoc\n",
    "    tokens = str(str(e1) + \" \" + str(a) + \" \" + str(e2)).split()\n",
    "    ret_str = \"\"\n",
    "    for token in tokens:\n",
    "        if token[0:4] == \"elem\":\n",
    "            value = im.get(token)\n",
    "            ret_str += f\"{value.class_} ({value.user_friendly_name})\" if value else f\"<'{token}' not found>\"\n",
    "        else:\n",
    "            ret_str += token\n",
    "        ret_str += \" \"\n",
    "    return ret_str.strip()"
   ]
  },
  {
   "cell_type": "markdown",
   "metadata": {},
   "source": [
    "As we can see, there are many associations that involve the unbound variable `unbound0`.\n",
    "We can see that between them, there is the one we really want:\n",
    "\n",
    "`infrastructure_VirtualMachine (vm1) infrastructure_ComputingNode::ifaces unbound0`\n",
    "\n",
    "We now need to filter out all the others, by taking one of these lines at a time, and adding it as a negated constraint.\n",
    "\n",
    "NOTE: It appears that the list is not deterministic. Sometimes at the end there are associations that start from `unbound0`, sometimes there is none. "
   ]
  },
  {
   "cell_type": "code",
   "execution_count": 660,
   "metadata": {},
   "outputs": [],
   "source": [
    "ubvars_and_assoc = get_ubvars_and_assoc(solved_ctx, solved_model)\n",
    "# print(\"\\n\".join([pretty_ubvar_assoc(assoc) for assoc in ubvars_and_assoc]))"
   ]
  },
  {
   "cell_type": "code",
   "execution_count": 661,
   "metadata": {},
   "outputs": [],
   "source": [
    "# def thin_ubvars_and_assoc(ctx: Context, ubvars_and_assoc):\n",
    "#     (e1_name, e1), a, (e2_name, e2) = ubvars_and_assoc[0]\n",
    "\n",
    "#     ctx[\"solver\"].assert_and_track(Not(ctx[\"assoc_rel\"](e1, a, e2)), f\"__neg_{e1_name}_{str(a)}_{e2_name}\")\n",
    "    \n",
    "#     res = ctx[\"solver\"].check()\n",
    "#     if res == sat:\n",
    "#         print(\"Trying again with one more constraint\")\n",
    "#         # Get new ubvars_and_assoc\n",
    "#         model = ctx[\"solver\"].model()\n",
    "#         thinned_ubvars_and_assoc = get_ubvars_and_assoc(ctx, model)\n",
    "        \n",
    "#         # Print table showing the diff\n",
    "#         from difflib import context_diff\n",
    "#         uvar_as_text = lambda input: [pretty_ubvar_assoc(assoc) for assoc in input]\n",
    "#         print(\"\\n\".join([a for a in context_diff(uvar_as_text(ubvars_and_assoc), uvar_as_text(thinned_ubvars_and_assoc))]))\n",
    "\n",
    "#         # Iterate\n",
    "#         thin_ubvars_and_assoc(ctx, thinned_ubvars_and_assoc)\n",
    "#     else:\n",
    "#         print(\"Last constraint was the right association!\")\n",
    "\n",
    "# thin_ubvars_and_assoc(solved_ctx, ubvars_and_assoc)"
   ]
  },
  {
   "cell_type": "code",
   "execution_count": 662,
   "metadata": {},
   "outputs": [
    {
     "name": "stdout",
     "output_type": "stream",
     "text": [
      "-----------------------------------------\n",
      "\tAdd constraint Not(infrastructure_VirtualMachine (vm1) commons_Property::reference unbound0)\n",
      "SAT:\tAdding one more constraint and trying again\n",
      "*** Before\n",
      "--- After\n",
      "***************\n",
      "*** 1,37 ****\n",
      "- infrastructure_VirtualMachine (vm1) commons_Property::reference unbound0\n",
      "- infrastructure_VirtualMachine (vm1) application_SoftwareComponent::exposedInterfaces unbound0\n",
      "- infrastructure_VirtualMachine (vm1) application_SoftwareComponent::consumedInterfaces unbound0\n",
      "- infrastructure_VirtualMachine (vm1) application_SaaS::exposedInterfaces unbound0\n",
      "- infrastructure_VirtualMachine (vm1) infrastructure_InfrastructureLayer::nodes unbound0\n",
      "- infrastructure_VirtualMachine (vm1) infrastructure_InfrastructureLayer::storages unbound0\n",
      "- infrastructure_VirtualMachine (vm1) infrastructure_InfrastructureLayer::faas unbound0\n",
      "  infrastructure_VirtualMachine (vm1) infrastructure_ComputingNode::ifaces unbound0\n",
      "- infrastructure_VirtualMachine (vm1) infrastructure_ComputingNode::location unbound0\n",
      "- infrastructure_VirtualMachine (vm1) infrastructure_ComputingNode::group unbound0\n",
      "- infrastructure_VirtualMachine (vm1) infrastructure_Container::generatedFrom unbound0\n",
      "- infrastructure_VirtualMachine (vm1) infrastructure_Container::hosts unbound0\n",
      "- infrastructure_VirtualMachine (vm1) infrastructure_ContainerImage::generatedContainers unbound0\n",
      "- infrastructure_VirtualMachine (vm1) infrastructure_AutoScalingGroup::securityGroup unbound0\n",
      "- infrastructure_VirtualMachine (vm1) infrastructure_Storage::ifaces unbound0\n",
      "- infrastructure_VirtualMachine (vm1) infrastructure_FunctionAsAService::ifaces unbound0\n",
      "- infrastructure_VirtualMachine (vm1) infrastructure_Network::connectedIfaces unbound0\n",
      "- infrastructure_VirtualMachine (vm1) infrastructure_Network::igws unbound0\n",
      "- infrastructure_VirtualMachine (vm1) infrastructure_Network::subnets unbound0\n",
      "- infrastructure_VirtualMachine (vm1) infrastructure_Subnet::connectedTo unbound0\n",
      "- infrastructure_VirtualMachine (vm1) infrastructure_NetworkInterface::belongsTo unbound0\n",
      "- infrastructure_VirtualMachine (vm1) infrastructure_NetworkInterface::associated unbound0\n",
      "- infrastructure_VirtualMachine (vm1) infrastructure_ComputingGroup::groupedNodes unbound0\n",
      "- infrastructure_VirtualMachine (vm1) infrastructure_SecurityGroup::ifaces unbound0\n",
      "- infrastructure_VirtualMachine (vm1) infrastructure_SwarmRole::nodes unbound0\n",
      "- infrastructure_VirtualMachine (vm1) infrastructure_Swarm::roles unbound0\n",
      "- infrastructure_VirtualMachine (vm1) concrete_RuntimeProvider::containerImages unbound0\n",
      "- infrastructure_VirtualMachine (vm1) concrete_RuntimeProvider::storages unbound0\n",
      "- infrastructure_VirtualMachine (vm1) concrete_RuntimeProvider::faas unbound0\n",
      "- infrastructure_VirtualMachine (vm1) concrete_RuntimeProvider::group unbound0\n",
      "- infrastructure_VirtualMachine (vm1) concrete_ContainerImage::maps unbound0\n",
      "- infrastructure_VirtualMachine (vm1) concrete_Storage::maps unbound0\n",
      "- infrastructure_VirtualMachine (vm1) concrete_FunctionAsAService::maps unbound0\n",
      "- infrastructure_VirtualMachine (vm1) concrete_ComputingGroup::maps unbound0\n",
      "  unbound0 infrastructure_InfrastructureLayer::generators infrastructure_VMImage (v_img)\n",
      "  unbound0 infrastructure_InfrastructureLayer::credentials infrastructure_KeyPair (ssh_key)\n",
      "  unbound0 infrastructure_InfrastructureLayer::groups infrastructure_AutoScalingGroup (ag)\n",
      "--- 1,4 ----\n",
      "-----------------------------------------\n",
      "\tAdd constraint Not(infrastructure_VirtualMachine (vm1) infrastructure_ComputingNode::ifaces unbound0)\n",
      "UNSAT\tLast constraint was the association we are looking for!\n",
      "\tIterating over\n",
      "\t\tunbound0 infrastructure_InfrastructureLayer::generators infrastructure_VMImage (v_img)\n",
      "\t\tunbound0 infrastructure_InfrastructureLayer::credentials infrastructure_KeyPair (ssh_key)\n",
      "\t\tunbound0 infrastructure_InfrastructureLayer::groups infrastructure_AutoScalingGroup (ag)\n",
      "\t\tunbound0 infrastructure_InfrastructureLayer::securityGroups infrastructure_SecurityGroup (sg)\n",
      "\t\tunbound0 infrastructure_InfrastructureLayer::networks infrastructure_Network (net1)\n",
      "-----------------------------------------\n",
      "\tAdd constraint Not(unbound0 infrastructure_InfrastructureLayer::generators infrastructure_VMImage (v_img))\n",
      "SAT:\tAdding one more constraint and trying again\n",
      "*** Before\n",
      "--- After\n",
      "***************\n",
      "*** 1,5 ****\n",
      "! unbound0 infrastructure_InfrastructureLayer::generators infrastructure_VMImage (v_img)\n",
      "! unbound0 infrastructure_InfrastructureLayer::credentials infrastructure_KeyPair (ssh_key)\n",
      "! unbound0 infrastructure_InfrastructureLayer::groups infrastructure_AutoScalingGroup (ag)\n",
      "! unbound0 infrastructure_InfrastructureLayer::securityGroups infrastructure_SecurityGroup (sg)\n",
      "! unbound0 infrastructure_InfrastructureLayer::networks infrastructure_Network (net1)\n",
      "--- 1 ----\n",
      "! infrastructure_VirtualMachine (vm1) infrastructure_ComputingNode::ifaces unbound0\n",
      "-----------------------------------------\n",
      "\tAdd constraint Not(infrastructure_VirtualMachine (vm1) infrastructure_ComputingNode::ifaces unbound0)\n",
      "UNSAT\tLast constraint was the association we are looking for!\n"
     ]
    }
   ],
   "source": [
    "def thin_ubvars_and_assoc(ctx: Context, ubvars_and_assoc: list):\n",
    "    \"\"\"Returns a tuple where the first item is\n",
    "    \"\"\"\n",
    "    if not ubvars_and_assoc:\n",
    "        return []\n",
    "\n",
    "\n",
    "    (e1_name, e1), a, (e2_name, e2) = assoc = ubvars_and_assoc[0]\n",
    "    assoc_rel = ctx[\"assoc_rel\"](e1, a, e2)\n",
    "    \n",
    "    print(\"-----------------------------------------\")\n",
    "\n",
    "    # Add negated constraint\n",
    "    print(f\"\\tAdd constraint Not({pretty_ubvar_assoc(ubvars_and_assoc[0])})\")\n",
    "    ctx[\"solver\"].push()\n",
    "    # ctx[\"solver\"].assert_and_track(Not(assoc_rel), f\"__neg_{e1_name}_{str(a)}_{e2_name}\")\n",
    "    ctx[\"solver\"].add(Not(assoc_rel))\n",
    "    \n",
    "    res = ctx[\"solver\"].check()\n",
    "    if res == sat:\n",
    "        print(\"SAT:\\tAdding one more constraint and trying again\")\n",
    "        # Get new ubvars_and_assoc\n",
    "        model = ctx[\"solver\"].model()\n",
    "        thinned_ubvars_and_assoc = get_ubvars_and_assoc(ctx, model)\n",
    "        \n",
    "        # Print table showing the diff\n",
    "        from difflib import context_diff\n",
    "        uvar_as_text = lambda input: [pretty_ubvar_assoc(assoc) for assoc in input]\n",
    "        print(\"\\n\".join([a for a in context_diff(uvar_as_text(ubvars_and_assoc), uvar_as_text(thinned_ubvars_and_assoc), lineterm=\"\", fromfile='Before', tofile=\"After\")]))\n",
    "\n",
    "        # Iterate\n",
    "        return thin_ubvars_and_assoc(ctx, thinned_ubvars_and_assoc)\n",
    "    else:\n",
    "        print(\"UNSAT\\tLast constraint was the association we are looking for!\")\n",
    "        ctx[\"solver\"].pop()\n",
    "        \n",
    "        if ubvars_and_assoc[1:]:\n",
    "            print(\"\\tIterating over\")\n",
    "            print(\"\\t\\t\" + \"\\n\\t\\t\".join([pretty_ubvar_assoc(assoc) for assoc in ubvars_and_assoc[1:]]))\n",
    "        return [*set([assoc] + thin_ubvars_and_assoc(ctx, ubvars_and_assoc[1:]))]\n",
    "\n",
    "\n",
    "assoc_to_implement = thin_ubvars_and_assoc(solved_ctx, ubvars_and_assoc)"
   ]
  },
  {
   "cell_type": "code",
   "execution_count": 663,
   "metadata": {},
   "outputs": [
    {
     "name": "stdout",
     "output_type": "stream",
     "text": [
      "infrastructure_VirtualMachine (vm1) infrastructure_ComputingNode::ifaces unbound0\n"
     ]
    }
   ],
   "source": [
    "print(\"\\n\".join([pretty_ubvar_assoc(assoc) for assoc in assoc_to_implement]))"
   ]
  },
  {
   "cell_type": "markdown",
   "metadata": {},
   "source": [
    "From here, we should then add this in the Intermediate Model, and then in the ECore (?) to generate the DOML file somehow.\n",
    "\n",
    "We can then provide the new file, or a diff to be patched onto the original?"
   ]
  }
 ],
 "metadata": {
  "kernelspec": {
   "display_name": "Python 3.10.7 ('.venv': poetry)",
   "language": "python",
   "name": "python3"
  },
  "language_info": {
   "codemirror_mode": {
    "name": "ipython",
    "version": 3
   },
   "file_extension": ".py",
   "mimetype": "text/x-python",
   "name": "python",
   "nbconvert_exporter": "python",
   "pygments_lexer": "ipython3",
   "version": "3.10.7"
  },
  "orig_nbformat": 4,
  "vscode": {
   "interpreter": {
    "hash": "d98256633358fe1daa4009223d54520a3e2548801398a173545d5698bb289e16"
   }
  }
 },
 "nbformat": 4,
 "nbformat_minor": 2
}
