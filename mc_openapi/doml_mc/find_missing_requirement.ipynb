{
 "cells": [
  {
   "cell_type": "markdown",
   "metadata": {},
   "source": [
    "## Finding Missing Requirements\n",
    "\n",
    "In this notebook, I try to put together an iterative way to:\n",
    "1. Add *unbound variables* until the requirement is satisfied\n",
    "2. Get the *relationships* of the unbound variables\n",
    "3. Filter these relationships by adding one at a time as a negated constraint\n",
    "   and check again the model.\n",
    "4. When we find the one that makes the model unsat, it means we've found the right one.\n",
    "\n",
    "#### Goals\n",
    "- Make the search of finding the correct relationship as fast as possible:\n",
    "  usually relationships are quite a lot, and we need to iterate them at least a\n",
    "  couple of times. We can add progressively only the relationships that remain\n",
    "  after each pass, always one at a time and checking the model again."
   ]
  },
  {
   "cell_type": "code",
   "execution_count": 7,
   "metadata": {},
   "outputs": [],
   "source": [
    "from mc_openapi.doml_mc.intermediate_model.metamodel import parse_metamodel, parse_inverse_associations\n",
    "from mc_openapi.doml_mc.xmi_parser.doml_model import parse_doml_model\n",
    "from mc_openapi.doml_mc.xmi_parser.doml_model import parse_xmi_model\n",
    "from mc_openapi.doml_mc import DOMLVersion\n",
    "from z3 import Solver, Model, DatatypeSortRef, FuncDeclRef, Consts, Const, ForAll, Exists, Implies, And, Or, Not, sat, unsat\n",
    "import yaml\n",
    "\n",
    "from mc_openapi.doml_mc.z3encoding.metamodel_encoding import (\n",
    "    def_association_rel,\n",
    "    def_attribute_rel,\n",
    "    mk_association_sort_dict,\n",
    "    mk_attribute_sort_dict,\n",
    "    mk_class_sort_dict\n",
    ")\n",
    "from mc_openapi.doml_mc.z3encoding.im_encoding import (\n",
    "    assert_im_associations,\n",
    "    assert_im_attributes,\n",
    "    def_elem_class_f_and_assert_classes,\n",
    "    mk_elem_sort_dict,\n",
    "    mk_stringsym_sort_dict\n",
    ")\n",
    "from mc_openapi.doml_mc.z3encoding.types import Refs\n",
    "from mc_openapi.doml_mc.z3encoding.utils import mk_attr_data_sort\n",
    "\n",
    "from itertools import product\n",
    "from operator import itemgetter"
   ]
  },
  {
   "cell_type": "code",
   "execution_count": 8,
   "metadata": {},
   "outputs": [],
   "source": [
    "with open(\"../assets/doml_meta_v2.0.yaml\") as mmf:\n",
    "    mmdoc = yaml.load(mmf, yaml.Loader)\n",
    "mm = parse_metamodel(mmdoc)\n",
    "inv_assoc = parse_inverse_associations(mmdoc)"
   ]
  },
  {
   "cell_type": "markdown",
   "metadata": {},
   "source": [
    "**You can change here the input DOML file**"
   ]
  },
  {
   "cell_type": "code",
   "execution_count": 9,
   "metadata": {},
   "outputs": [],
   "source": [
    "# doml_document_path = \"../../tests/doml/nginx-openstack_v2.0.domlx\"\n",
    "doml_document_path = \"../../tests/doml/v2.0/nginx-openstack_v2.0_wrong_vm_iface.domlx\"\n",
    "# doml_document_path = \"../../tests/doml/nginx-openstack_v2.0_wrong_iface_uniq.domlx\"\n"
   ]
  },
  {
   "cell_type": "code",
   "execution_count": 10,
   "metadata": {},
   "outputs": [],
   "source": [
    "with open(doml_document_path, \"rb\") as xmif:\n",
    "    doc = xmif.read()\n",
    "\n",
    "im, _ = parse_doml_model(doc, DOMLVersion.V2_0)\n",
    "doml_xmi = parse_xmi_model(doc, DOMLVersion.V2_0)"
   ]
  },
  {
   "cell_type": "markdown",
   "metadata": {},
   "source": [
    "We need to initialize each time the Solver context before iterating,\n",
    "since an unbound variable is an element, and elements are an EnumSort,\n",
    "and EnumSorts cannot be modified and depend on the solver context.\n",
    "\n",
    "The following code is stuff that is already present in the `IntermediateModelChecker`."
   ]
  },
  {
   "cell_type": "code",
   "execution_count": 11,
   "metadata": {},
   "outputs": [],
   "source": [
    "from typing import Dict\n",
    "\n",
    "Context = Dict"
   ]
  },
  {
   "cell_type": "code",
   "execution_count": 12,
   "metadata": {},
   "outputs": [],
   "source": [
    "def initialize_solver(\n",
    "    unbound_elems_quantity: int = 0,\n",
    "    requirements: list = []\n",
    ") -> Context:\n",
    "    ctx = dict()\n",
    "    \n",
    "    ctx[\"solver\"] = Solver()\n",
    "\n",
    "    ctx[\"class_sort\"], ctx[\"class_\"] = mk_class_sort_dict(mm, ctx[\"solver\"].ctx)\n",
    "    ctx[\"assoc_sort\"], ctx[\"assoc\"] = mk_association_sort_dict(mm, ctx[\"solver\"].ctx)\n",
    "    ctx[\"attr_sort\"], ctx[\"attr\"] = mk_attribute_sort_dict(mm, ctx[\"solver\"].ctx)\n",
    "    ctx[\"str_sort\"], ctx[\"str\"] = mk_stringsym_sort_dict(im, mm, ctx[\"solver\"].ctx)\n",
    "    ctx[\"attr_data_sort\"] = mk_attr_data_sort(ctx[\"ss_sort\"], ctx[\"solver\"].ctx)\n",
    "\n",
    "    ctx[\"unbound_elems\"] = [f\"unbound{i}\" for i in range(unbound_elems_quantity)]\n",
    "    ctx[\"elem_sort\"], ctx[\"elem\"] = mk_elem_sort_dict(im, ctx[\"solver\"].ctx, ctx[\"unbound_elems\"])\n",
    "\n",
    "    ctx[\"elem_class_f\"] = def_elem_class_f_and_assert_classes(\n",
    "        im,\n",
    "        ctx[\"solver\"],\n",
    "        ctx[\"elem_sort\"],\n",
    "        ctx[\"elem\"],\n",
    "        ctx[\"class_sort\"],\n",
    "        ctx[\"class_\"]\n",
    "    )\n",
    "    # attr_rel :: (elem_sort, attr_sort, attr_data_sort) -> BoolRef\n",
    "    ctx[\"attr_rel\"] = def_attribute_rel(\n",
    "        ctx[\"attr_sort\"],\n",
    "        ctx[\"elem_sort\"],\n",
    "        ctx[\"attr_data_sort\"]\n",
    "    )\n",
    "    assert_im_attributes(\n",
    "        ctx[\"attr_rel\"],\n",
    "        ctx[\"solver\"],\n",
    "        im,\n",
    "        mm,\n",
    "        ctx[\"elem\"],\n",
    "        ctx[\"attr_sort\"],\n",
    "        ctx[\"attr\"],\n",
    "        ctx[\"attr_data_sort\"],\n",
    "        ctx[\"str\"]\n",
    "    )\n",
    "\n",
    "    # assoc_rel :: (elem_sort, assoc_sort, elem_sort) -> BoolRef\n",
    "    ctx[\"assoc_rel\"] = def_association_rel(\n",
    "        ctx[\"assoc_sort\"],\n",
    "        ctx[\"elem_sort\"]\n",
    "    )\n",
    "    assert_im_associations(\n",
    "        ctx[\"assoc_rel\"],\n",
    "        ctx[\"solver\"],\n",
    "        {k: v for k, v in im.items() if k not in ctx[\"unbound_elems\"]},\n",
    "        ctx[\"elem\"],\n",
    "        ctx[\"assoc_sort\"],\n",
    "        ctx[\"assoc\"],\n",
    "    )\n",
    "\n",
    "    # Add requirements\n",
    "    for req in requirements:\n",
    "        req(ctx)\n",
    "\n",
    "    return ctx"
   ]
  },
  {
   "cell_type": "code",
   "execution_count": 13,
   "metadata": {},
   "outputs": [],
   "source": [
    "def req_every_vm_has_iface(ctx: Context):    \n",
    "    vm, iface = Consts(\"vm iface\", ctx[\"elem_sort\"])\n",
    "    vmIfaceAssertion = ForAll(\n",
    "        [vm],\n",
    "        Implies(\n",
    "            ctx[\"elem_class_f\"](vm) == ctx[\"class_\"][\"infrastructure_VirtualMachine\"],\n",
    "            Exists(\n",
    "                [iface],\n",
    "                And(\n",
    "                    ctx[\"assoc_rel\"](vm, ctx[\"assoc\"][\"infrastructure_ComputingNode::ifaces\"], iface)\n",
    "                )\n",
    "            )\n",
    "        )\n",
    "    )\n",
    "    ctx[\"solver\"].assert_and_track(vmIfaceAssertion, \"vm_iface\")"
   ]
  },
  {
   "cell_type": "code",
   "execution_count": 14,
   "metadata": {},
   "outputs": [],
   "source": [
    "def req_every_iface_has_a_secgroup(ctx):\n",
    "    sg, iface = Consts(\"sg iface\", ctx[\"elem_sort\"])\n",
    "    vmIfaceSecGroupAssertion = ForAll(\n",
    "        [sg],\n",
    "        Implies(\n",
    "            ctx[\"elem_class_f\"](sg) == ctx[\"class_\"][\"infrastructure_SecurityGroup\"],\n",
    "            Exists([iface], \n",
    "                ctx[\"assoc_rel\"](iface, ctx[\"assoc\"][\"infrastructure_NetworkInterface::associated\"], sg)\n",
    "            )\n",
    "        )\n",
    "    )\n",
    "    ctx[\"solver\"].assert_and_track(vmIfaceSecGroupAssertion, \"vm_secgroup\")"
   ]
  },
  {
   "cell_type": "code",
   "execution_count": 15,
   "metadata": {},
   "outputs": [],
   "source": [
    "# There are no duplicated interfaces.\n",
    "def req_iface_uniq(ctx):\n",
    "    endPointAttr = ctx[\"attr\"][\"infrastructure_NetworkInterface::endPoint\"]\n",
    "    ni1, ni2 = Consts(\"ni1, ni2\", ctx[\"elem_sort\"])\n",
    "    value = Const(\"value\", ctx[\"attr_data_sort\"])\n",
    "    uniqueIfaceAssertion = And(\n",
    "        ctx[\"attr_rel\"](ni1, endPointAttr, value),\n",
    "        ctx[\"attr_rel\"](ni2, endPointAttr, value),\n",
    "        ni1 != ni2,\n",
    "    )\n",
    "    ctx[\"solver\"].assert_and_track(uniqueIfaceAssertion, \"unique_iface\")"
   ]
  },
  {
   "cell_type": "code",
   "execution_count": 16,
   "metadata": {},
   "outputs": [],
   "source": [
    "def check_with_ubvars(ubvars_n: int = 0, requirements: list = []) -> Context:\n",
    "    ctx = initialize_solver(ubvars_n, requirements)\n",
    "    solver = ctx[\"solver\"]\n",
    "\n",
    "    res = solver.check()\n",
    "\n",
    "    if res == sat:\n",
    "        print(f\"Sat with {ubvars_n} unbounded variables\")\n",
    "        return ctx\n",
    "    elif res == unsat:\n",
    "        # print(f\"ubvars={ubvars_n}; UNSAT_CORE:\")\n",
    "        # print(solver.unsat_core())\n",
    "        print(f\"Increasing unbound vars to {ubvars_n + 1}\")\n",
    "        return check_with_ubvars(ubvars_n + 1, requirements=requirements)\n",
    "    else:\n",
    "        raise RuntimeError(\"It took too long to decide.\")"
   ]
  },
  {
   "cell_type": "code",
   "execution_count": 17,
   "metadata": {},
   "outputs": [],
   "source": [
    "REQUIREMENTS = [\n",
    "    req_every_vm_has_iface,\n",
    "    req_every_iface_has_a_secgroup,\n",
    "    req_iface_uniq\n",
    "]"
   ]
  },
  {
   "cell_type": "code",
   "execution_count": 18,
   "metadata": {},
   "outputs": [
    {
     "name": "stdout",
     "output_type": "stream",
     "text": [
      "Increasing unbound vars to 1\n",
      "Increasing unbound vars to 2\n",
      "Sat with 2 unbounded variables\n"
     ]
    }
   ],
   "source": [
    "solved_ctx = check_with_ubvars(requirements=REQUIREMENTS)\n",
    "solved_model = solved_ctx[\"solver\"].model()"
   ]
  },
  {
   "cell_type": "code",
   "execution_count": 19,
   "metadata": {},
   "outputs": [],
   "source": [
    "def get_ubvars_and_assoc(ctx: Context, model: Model):\n",
    "    elem, assoc, assoc_rel, unbound_elems = itemgetter(\"elem\", \"assoc\", \"assoc_rel\", \"unbound_elems\")(ctx)\n",
    "\n",
    "    return [ ((e1n, e1), a, (e2n, e2)) \n",
    "        for (e1n, e1), a, (e2n, e2) in product(elem.items(), assoc.values(), elem.items()) \n",
    "        if (e1n in unbound_elems or e2n in unbound_elems) and model.eval(assoc_rel(e1, a, e2))\n",
    "    ]"
   ]
  },
  {
   "cell_type": "code",
   "execution_count": 20,
   "metadata": {},
   "outputs": [],
   "source": [
    "def pretty_ubvar_assoc(assoc):\n",
    "    (e1n, e1), a, (e2n, e2) = assoc\n",
    "    tokens = str(str(e1) + \" \" + str(a) + \" \" + str(e2)).split()\n",
    "    ret_str = \"\"\n",
    "    for token in tokens:\n",
    "        if token[0:4] == \"elem\":\n",
    "            value = im.get(token)\n",
    "            ret_str += f\"{value.class_} ({value.user_friendly_name})\" if value else f\"<'{token}' not found>\"\n",
    "        else:\n",
    "            ret_str += token\n",
    "        ret_str += \" \"\n",
    "    return ret_str.strip()"
   ]
  },
  {
   "cell_type": "markdown",
   "metadata": {},
   "source": [
    "As we can see, there are many associations that involve the unbound variable `unbound0`.\n",
    "We can see that between them, there is the one we really want:\n",
    "\n",
    "`infrastructure_VirtualMachine (vm1) infrastructure_ComputingNode::ifaces unbound0`\n",
    "\n",
    "We now need to filter out all the others, by taking one of these lines at a time, and adding it as a negated constraint.\n",
    "\n",
    "NOTE: It appears that the list is not deterministic. Sometimes at the end there are associations that start from `unbound0`, sometimes there is none. "
   ]
  },
  {
   "cell_type": "code",
   "execution_count": 21,
   "metadata": {},
   "outputs": [],
   "source": [
    "ubvars_and_assoc = get_ubvars_and_assoc(solved_ctx, solved_model)\n",
    "# print(\"\\n\".join([pretty_ubvar_assoc(assoc) for assoc in ubvars_and_assoc]))"
   ]
  },
  {
   "cell_type": "code",
   "execution_count": 22,
   "metadata": {},
   "outputs": [
    {
     "name": "stdout",
     "output_type": "stream",
     "text": [
      "-----------------------------------------\n",
      "\tAdd constraint Not(infrastructure_VirtualMachine (vm1) infrastructure_ComputingNode::ifaces unbound0)\n",
      "SAT:\tAdding one more constraint and trying again\n",
      "*** Before\n",
      "--- After\n",
      "***************\n",
      "*** 1,5 ****\n",
      "! infrastructure_VirtualMachine (vm1) infrastructure_ComputingNode::ifaces unbound0\n",
      "! concrete_Network (concrete_net) commons_DOMLElement::annotations unbound1\n",
      "  unbound0 commons_Property::reference infrastructure_SecurityGroup (sg)\n",
      "  unbound0 application_SoftwareComponent::exposedInterfaces infrastructure_SecurityGroup (sg)\n",
      "  unbound0 application_SoftwareComponent::consumedInterfaces infrastructure_SecurityGroup (sg)\n",
      "--- 1,4 ----\n",
      "! infrastructure_VirtualMachine (vm1) infrastructure_ComputingNode::ifaces unbound1\n",
      "  unbound0 commons_Property::reference infrastructure_SecurityGroup (sg)\n",
      "  unbound0 application_SoftwareComponent::exposedInterfaces infrastructure_SecurityGroup (sg)\n",
      "  unbound0 application_SoftwareComponent::consumedInterfaces infrastructure_SecurityGroup (sg)\n",
      "-----------------------------------------\n",
      "\tAdd constraint Not(infrastructure_VirtualMachine (vm1) infrastructure_ComputingNode::ifaces unbound1)\n",
      "UNSAT\tLast constraint was the association we are looking for!\n",
      "\tIterating over\n",
      "\t\tunbound0 commons_Property::reference infrastructure_SecurityGroup (sg)\n",
      "\t\tunbound0 application_SoftwareComponent::exposedInterfaces infrastructure_SecurityGroup (sg)\n",
      "\t\tunbound0 application_SoftwareComponent::consumedInterfaces infrastructure_SecurityGroup (sg)\n",
      "\t\tunbound0 application_SaaS::exposedInterfaces infrastructure_SecurityGroup (sg)\n",
      "\t\tunbound0 infrastructure_InfrastructureLayer::nodes infrastructure_SecurityGroup (sg)\n",
      "\t\tunbound0 infrastructure_InfrastructureLayer::storages infrastructure_SecurityGroup (sg)\n",
      "\t\tunbound0 infrastructure_InfrastructureLayer::faas infrastructure_SecurityGroup (sg)\n",
      "\t\tunbound0 infrastructure_ComputingNode::location infrastructure_SecurityGroup (sg)\n",
      "\t\tunbound0 infrastructure_ComputingNode::group infrastructure_SecurityGroup (sg)\n",
      "\t\tunbound0 infrastructure_Container::generatedFrom infrastructure_SecurityGroup (sg)\n",
      "\t\tunbound0 infrastructure_Container::hosts infrastructure_SecurityGroup (sg)\n",
      "\t\tunbound0 infrastructure_ContainerImage::generatedContainers infrastructure_SecurityGroup (sg)\n",
      "\t\tunbound0 infrastructure_AutoScalingGroup::securityGroup infrastructure_SecurityGroup (sg)\n",
      "\t\tunbound0 infrastructure_Storage::ifaces infrastructure_SecurityGroup (sg)\n",
      "\t\tunbound0 infrastructure_FunctionAsAService::ifaces infrastructure_SecurityGroup (sg)\n",
      "\t\tunbound0 infrastructure_Network::connectedIfaces infrastructure_SecurityGroup (sg)\n",
      "\t\tunbound0 infrastructure_Network::igws infrastructure_SecurityGroup (sg)\n",
      "\t\tunbound0 infrastructure_Network::subnets infrastructure_SecurityGroup (sg)\n",
      "\t\tunbound0 infrastructure_Subnet::connectedTo infrastructure_SecurityGroup (sg)\n",
      "\t\tunbound0 infrastructure_NetworkInterface::belongsTo infrastructure_SecurityGroup (sg)\n",
      "\t\tunbound0 infrastructure_NetworkInterface::associated infrastructure_SecurityGroup (sg)\n",
      "\t\tunbound0 infrastructure_ComputingGroup::groupedNodes infrastructure_SecurityGroup (sg)\n",
      "\t\tunbound0 infrastructure_SecurityGroup::ifaces infrastructure_SecurityGroup (sg)\n",
      "\t\tunbound0 infrastructure_SwarmRole::nodes infrastructure_SecurityGroup (sg)\n",
      "\t\tunbound0 infrastructure_Swarm::roles infrastructure_SecurityGroup (sg)\n",
      "\t\tunbound0 concrete_RuntimeProvider::containerImages infrastructure_SecurityGroup (sg)\n",
      "\t\tunbound0 concrete_RuntimeProvider::storages infrastructure_SecurityGroup (sg)\n",
      "\t\tunbound0 concrete_RuntimeProvider::faas infrastructure_SecurityGroup (sg)\n",
      "\t\tunbound0 concrete_RuntimeProvider::group infrastructure_SecurityGroup (sg)\n",
      "\t\tunbound0 concrete_ContainerImage::maps infrastructure_SecurityGroup (sg)\n",
      "\t\tunbound0 concrete_Storage::maps infrastructure_SecurityGroup (sg)\n",
      "\t\tunbound0 concrete_FunctionAsAService::maps infrastructure_SecurityGroup (sg)\n",
      "\t\tunbound0 concrete_ComputingGroup::maps infrastructure_SecurityGroup (sg)\n",
      "-----------------------------------------\n",
      "\tAdd constraint Not(unbound0 commons_Property::reference infrastructure_SecurityGroup (sg))\n",
      "SAT:\tAdding one more constraint and trying again\n",
      "*** Before\n",
      "--- After\n",
      "***************\n",
      "*** 1,33 ****\n",
      "! unbound0 commons_Property::reference infrastructure_SecurityGroup (sg)\n",
      "! unbound0 application_SoftwareComponent::exposedInterfaces infrastructure_SecurityGroup (sg)\n",
      "! unbound0 application_SoftwareComponent::consumedInterfaces infrastructure_SecurityGroup (sg)\n",
      "! unbound0 application_SaaS::exposedInterfaces infrastructure_SecurityGroup (sg)\n",
      "! unbound0 infrastructure_InfrastructureLayer::nodes infrastructure_SecurityGroup (sg)\n",
      "! unbound0 infrastructure_InfrastructureLayer::storages infrastructure_SecurityGroup (sg)\n",
      "! unbound0 infrastructure_InfrastructureLayer::faas infrastructure_SecurityGroup (sg)\n",
      "! unbound0 infrastructure_ComputingNode::location infrastructure_SecurityGroup (sg)\n",
      "! unbound0 infrastructure_ComputingNode::group infrastructure_SecurityGroup (sg)\n",
      "! unbound0 infrastructure_Container::generatedFrom infrastructure_SecurityGroup (sg)\n",
      "! unbound0 infrastructure_Container::hosts infrastructure_SecurityGroup (sg)\n",
      "! unbound0 infrastructure_ContainerImage::generatedContainers infrastructure_SecurityGroup (sg)\n",
      "! unbound0 infrastructure_AutoScalingGroup::securityGroup infrastructure_SecurityGroup (sg)\n",
      "! unbound0 infrastructure_Storage::ifaces infrastructure_SecurityGroup (sg)\n",
      "! unbound0 infrastructure_FunctionAsAService::ifaces infrastructure_SecurityGroup (sg)\n",
      "! unbound0 infrastructure_Network::connectedIfaces infrastructure_SecurityGroup (sg)\n",
      "! unbound0 infrastructure_Network::igws infrastructure_SecurityGroup (sg)\n",
      "! unbound0 infrastructure_Network::subnets infrastructure_SecurityGroup (sg)\n",
      "! unbound0 infrastructure_Subnet::connectedTo infrastructure_SecurityGroup (sg)\n",
      "! unbound0 infrastructure_NetworkInterface::belongsTo infrastructure_SecurityGroup (sg)\n",
      "  unbound0 infrastructure_NetworkInterface::associated infrastructure_SecurityGroup (sg)\n",
      "- unbound0 infrastructure_ComputingGroup::groupedNodes infrastructure_SecurityGroup (sg)\n",
      "- unbound0 infrastructure_SecurityGroup::ifaces infrastructure_SecurityGroup (sg)\n",
      "- unbound0 infrastructure_SwarmRole::nodes infrastructure_SecurityGroup (sg)\n",
      "- unbound0 infrastructure_Swarm::roles infrastructure_SecurityGroup (sg)\n",
      "- unbound0 concrete_RuntimeProvider::containerImages infrastructure_SecurityGroup (sg)\n",
      "- unbound0 concrete_RuntimeProvider::storages infrastructure_SecurityGroup (sg)\n",
      "- unbound0 concrete_RuntimeProvider::faas infrastructure_SecurityGroup (sg)\n",
      "- unbound0 concrete_RuntimeProvider::group infrastructure_SecurityGroup (sg)\n",
      "- unbound0 concrete_ContainerImage::maps infrastructure_SecurityGroup (sg)\n",
      "- unbound0 concrete_Storage::maps infrastructure_SecurityGroup (sg)\n",
      "- unbound0 concrete_FunctionAsAService::maps infrastructure_SecurityGroup (sg)\n",
      "- unbound0 concrete_ComputingGroup::maps infrastructure_SecurityGroup (sg)\n",
      "--- 1,2 ----\n",
      "! infrastructure_VirtualMachine (vm1) infrastructure_ComputingNode::ifaces unbound1\n",
      "  unbound0 infrastructure_NetworkInterface::associated infrastructure_SecurityGroup (sg)\n",
      "-----------------------------------------\n",
      "\tAdd constraint Not(infrastructure_VirtualMachine (vm1) infrastructure_ComputingNode::ifaces unbound1)\n",
      "UNSAT\tLast constraint was the association we are looking for!\n",
      "\tIterating over\n",
      "\t\tunbound0 infrastructure_NetworkInterface::associated infrastructure_SecurityGroup (sg)\n",
      "-----------------------------------------\n",
      "\tAdd constraint Not(unbound0 infrastructure_NetworkInterface::associated infrastructure_SecurityGroup (sg))\n",
      "SAT:\tAdding one more constraint and trying again\n",
      "*** Before\n",
      "--- After\n",
      "***************\n",
      "*** 1 ****\n",
      "! unbound0 infrastructure_NetworkInterface::associated infrastructure_SecurityGroup (sg)\n",
      "--- 1,2 ----\n",
      "! infrastructure_VirtualMachine (vm1) infrastructure_ComputingNode::ifaces unbound1\n",
      "! unbound1 infrastructure_NetworkInterface::associated infrastructure_SecurityGroup (sg)\n",
      "-----------------------------------------\n",
      "\tAdd constraint Not(infrastructure_VirtualMachine (vm1) infrastructure_ComputingNode::ifaces unbound1)\n",
      "UNSAT\tLast constraint was the association we are looking for!\n",
      "\tIterating over\n",
      "\t\tunbound1 infrastructure_NetworkInterface::associated infrastructure_SecurityGroup (sg)\n",
      "-----------------------------------------\n",
      "\tAdd constraint Not(unbound1 infrastructure_NetworkInterface::associated infrastructure_SecurityGroup (sg))\n",
      "UNSAT\tLast constraint was the association we are looking for!\n"
     ]
    }
   ],
   "source": [
    "def thin_ubvars_and_assoc(ctx: Context, ubvars_and_assoc: list):\n",
    "    \"\"\"Returns a tuple where the first item is\n",
    "    \"\"\"\n",
    "    if not ubvars_and_assoc:\n",
    "        return []\n",
    "\n",
    "\n",
    "    (e1_name, e1), a, (e2_name, e2) = assoc = ubvars_and_assoc[0]\n",
    "    assoc_rel = ctx[\"assoc_rel\"](e1, a, e2)\n",
    "    \n",
    "    print(\"-----------------------------------------\")\n",
    "\n",
    "    # Add negated constraint\n",
    "    print(f\"\\tAdd constraint Not({pretty_ubvar_assoc(ubvars_and_assoc[0])})\")\n",
    "    ctx[\"solver\"].push()\n",
    "    # ctx[\"solver\"].assert_and_track(Not(assoc_rel), f\"__neg_{e1_name}_{str(a)}_{e2_name}\")\n",
    "    ctx[\"solver\"].add(Not(assoc_rel))\n",
    "    \n",
    "    res = ctx[\"solver\"].check()\n",
    "    if res == sat:\n",
    "        print(\"SAT:\\tAdding one more constraint and trying again\")\n",
    "        # Get new ubvars_and_assoc\n",
    "        model = ctx[\"solver\"].model()\n",
    "        thinned_ubvars_and_assoc = get_ubvars_and_assoc(ctx, model)\n",
    "        \n",
    "        # Print table showing the diff\n",
    "        from difflib import context_diff\n",
    "        uvar_as_text = lambda input: [pretty_ubvar_assoc(assoc) for assoc in input]\n",
    "        print(\"\\n\".join([a for a in context_diff(uvar_as_text(ubvars_and_assoc), uvar_as_text(thinned_ubvars_and_assoc), lineterm=\"\", fromfile='Before', tofile=\"After\")]))\n",
    "\n",
    "        # Iterate\n",
    "        return thin_ubvars_and_assoc(ctx, thinned_ubvars_and_assoc)\n",
    "    else:\n",
    "        print(\"UNSAT\\tLast constraint was the association we are looking for!\")\n",
    "        ctx[\"solver\"].pop()\n",
    "        \n",
    "        if ubvars_and_assoc[1:]:\n",
    "            print(\"\\tIterating over\")\n",
    "            print(\"\\t\\t\" + \"\\n\\t\\t\".join([pretty_ubvar_assoc(assoc) for assoc in ubvars_and_assoc[1:]]))\n",
    "        return [*set([assoc] + thin_ubvars_and_assoc(ctx, ubvars_and_assoc[1:]))]\n",
    "\n",
    "\n",
    "assoc_to_implement = thin_ubvars_and_assoc(solved_ctx, ubvars_and_assoc)"
   ]
  },
  {
   "cell_type": "code",
   "execution_count": 23,
   "metadata": {},
   "outputs": [
    {
     "name": "stdout",
     "output_type": "stream",
     "text": [
      "unbound1 infrastructure_NetworkInterface::associated infrastructure_SecurityGroup (sg)\n",
      "infrastructure_VirtualMachine (vm1) infrastructure_ComputingNode::ifaces unbound1\n"
     ]
    }
   ],
   "source": [
    "print(\"\\n\".join([pretty_ubvar_assoc(assoc) for assoc in assoc_to_implement]))"
   ]
  },
  {
   "cell_type": "markdown",
   "metadata": {},
   "source": [
    "From here, we should then add this in the Intermediate Model, and then in the ECore (?) to generate the DOML file somehow.\n",
    "\n",
    "We can then provide the new file, or a diff to be patched onto the original?"
   ]
  }
 ],
 "metadata": {
  "kernelspec": {
   "display_name": "Python 3.10.7 ('.venv': poetry)",
   "language": "python",
   "name": "python3"
  },
  "language_info": {
   "codemirror_mode": {
    "name": "ipython",
    "version": 3
   },
   "file_extension": ".py",
   "mimetype": "text/x-python",
   "name": "python",
   "nbconvert_exporter": "python",
   "pygments_lexer": "ipython3",
   "version": "3.10.8"
  },
  "orig_nbformat": 4,
  "vscode": {
   "interpreter": {
    "hash": "d98256633358fe1daa4009223d54520a3e2548801398a173545d5698bb289e16"
   }
  }
 },
 "nbformat": 4,
 "nbformat_minor": 2
}
