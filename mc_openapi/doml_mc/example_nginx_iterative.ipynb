{
 "cells": [
  {
   "cell_type": "code",
   "execution_count": 404,
   "metadata": {},
   "outputs": [],
   "source": [
    "from mc_openapi.doml_mc.intermediate_model.metamodel import parse_metamodel, parse_inverse_associations\n",
    "import yaml\n",
    "with open(\"../assets/doml_meta_v2.0.yaml\") as mmf:\n",
    "    mmdoc = yaml.load(mmf, yaml.Loader)\n",
    "mm = parse_metamodel(mmdoc)\n",
    "inv_assoc = parse_inverse_associations(mmdoc)"
   ]
  },
  {
   "cell_type": "code",
   "execution_count": 405,
   "metadata": {},
   "outputs": [],
   "source": [
    "import prettyprinter as pp\n",
    "from prettyprinter.prettyprinter import IMPLICIT_MODULES\n",
    "pp.install_extras(include=['dataclasses'])"
   ]
  },
  {
   "cell_type": "code",
   "execution_count": 406,
   "metadata": {},
   "outputs": [],
   "source": [
    "IMPLICIT_MODULES.add('doml_mc.intermediate_model.metamodel')"
   ]
  },
  {
   "cell_type": "markdown",
   "metadata": {},
   "source": [
    "### Load the DOML document here:"
   ]
  },
  {
   "cell_type": "code",
   "execution_count": 407,
   "metadata": {},
   "outputs": [],
   "source": [
    "from mc_openapi.doml_mc.xmi_parser.doml_model import parse_doml_model\n",
    "from mc_openapi.doml_mc import DOMLVersion\n",
    "# doml_document_path = \"../../tests/doml/nginx-openstack_v2.0.domlx\"\n",
    "doml_document_path = \"../../tests/doml/nginx-openstack_v2.0_wrong_vm_iface.domlx\"\n",
    "# doml_document_path = \"../../tests/doml/nginx-openstack_v2.0_wrong_iface_uniq.domlx\"\n",
    "with open(doml_document_path, \"rb\") as xmif:\n",
    "    doc = xmif.read()\n",
    "\n",
    "im, _ = parse_doml_model(doc, DOMLVersion.V2_0)\n",
    "# print(im)"
   ]
  },
  {
   "cell_type": "code",
   "execution_count": 408,
   "metadata": {},
   "outputs": [],
   "source": [
    "from mc_openapi.doml_mc.xmi_parser.doml_model import parse_xmi_model\n",
    "doml_xmi = parse_xmi_model(doc, DOMLVersion.V2_0)"
   ]
  },
  {
   "cell_type": "code",
   "execution_count": 409,
   "metadata": {},
   "outputs": [],
   "source": [
    "IMPLICIT_MODULES.add('doml_mc.intermediate_model.doml_element')"
   ]
  },
  {
   "cell_type": "code",
   "execution_count": 410,
   "metadata": {},
   "outputs": [],
   "source": [
    "from z3 import Solver, DatatypeSortRef, FuncDeclRef, Consts, ForAll, Exists, Implies, And, Or, Not\n",
    "\n",
    "from mc_openapi.doml_mc.z3encoding.metamodel_encoding import (\n",
    "    def_association_rel,\n",
    "    def_attribute_rel,\n",
    "    mk_association_sort_dict,\n",
    "    mk_attribute_sort_dict,\n",
    "    mk_class_sort_dict\n",
    ")\n",
    "from mc_openapi.doml_mc.z3encoding.im_encoding import (\n",
    "    assert_im_associations_q,\n",
    "    assert_im_attributes,\n",
    "    def_elem_class_f_and_assert_classes,\n",
    "    mk_elem_sort_dict,\n",
    "    mk_stringsym_sort_dict\n",
    ")\n",
    "from mc_openapi.doml_mc.z3encoding.types import Refs\n",
    "from mc_openapi.doml_mc.z3encoding.utils import mk_attr_data_sort\n",
    "\n",
    "\n",
    "\n",
    "def init(unbound_elems_num: int = 0):\n",
    "\n",
    "    solver = Solver()\n",
    "\n",
    "    class_sort, class_ = mk_class_sort_dict(mm, solver.ctx)\n",
    "    assoc_sort, assoc = mk_association_sort_dict(mm, solver.ctx)\n",
    "    attr_sort, attr = mk_attribute_sort_dict(mm, solver.ctx)\n",
    "    ss_sort, ss = mk_stringsym_sort_dict(im, mm, solver.ctx)\n",
    "    attr_data = mk_attr_data_sort(ss_sort, solver.ctx)\n",
    "\n",
    "    unbound_elems = [f\"unbound{i}\" for i in range(unbound_elems_num)]\n",
    "    elem_sort, elem = mk_elem_sort_dict(im, solver.ctx, unbound_elems)\n",
    "\n",
    "    elem_class_f = def_elem_class_f_and_assert_classes(\n",
    "        im,\n",
    "        solver,\n",
    "        elem_sort,\n",
    "        elem,\n",
    "        class_sort,\n",
    "        class_\n",
    "    )\n",
    "    attr_rel = def_attribute_rel(\n",
    "        attr_sort,\n",
    "        elem_sort,\n",
    "        attr_data\n",
    "    )\n",
    "    assert_im_attributes(\n",
    "        attr_rel,\n",
    "        solver,\n",
    "        im,\n",
    "        mm,\n",
    "        elem,\n",
    "        attr_sort,\n",
    "        attr,\n",
    "        attr_data,\n",
    "        ss\n",
    "    )\n",
    "    assoc_rel = def_association_rel(\n",
    "        assoc_sort,\n",
    "        elem_sort\n",
    "    )\n",
    "    assert_im_associations_q(\n",
    "        assoc_rel,\n",
    "        solver,\n",
    "        {k: v for k, v in im.items() if k not in unbound_elems},\n",
    "        elem,\n",
    "        assoc_sort,\n",
    "        assoc,\n",
    "    )\n",
    "\n",
    "    # EXAMPLE REQ: All VMs have a network interface.\n",
    "    vm, iface = Consts(\n",
    "        \"vm iface\", elem_sort\n",
    "    )\n",
    "    vmIfaceAssertion = ForAll(\n",
    "        [vm],\n",
    "        Implies(\n",
    "            elem_class_f(vm) == class_[\"infrastructure_VirtualMachine\"],\n",
    "            Exists(\n",
    "                [iface],\n",
    "                And(\n",
    "                    assoc_rel(vm, assoc[\"infrastructure_ComputingNode::ifaces\"], iface)\n",
    "                )\n",
    "            )\n",
    "        )\n",
    "    )\n",
    "    solver.assert_and_track(vmIfaceAssertion, \"vm_iface\")\n",
    "\n",
    "    # END EXAMPLE REQ\n",
    "\n",
    "    return (solver,\n",
    "        unbound_elems, \n",
    "        elem_class_f,\n",
    "        elem_sort,\n",
    "        elem,\n",
    "        attr_rel,\n",
    "        assoc_rel,\n",
    "        class_sort, class_,\n",
    "        assoc_sort, assoc,\n",
    "        attr_sort, attr,\n",
    "        ss_sort, ss,\n",
    "        attr_data,\n",
    "        vmIfaceAssertion\n",
    "    )"
   ]
  },
  {
   "cell_type": "code",
   "execution_count": 411,
   "metadata": {},
   "outputs": [],
   "source": [
    "# # nginx has a source code property\n",
    "# softwareComponent, prop = Consts(\"softwareComponent prop\", elem_sort)\n",
    "# nginxSourceCode = ForAll(\n",
    "#     [softwareComponent],\n",
    "#     Implies(\n",
    "#         And(\n",
    "#             elem_class_f(softwareComponent) == class_[\"application_SoftwareComponent\"],\n",
    "#             attr_rel(softwareComponent, attr[\"commons_DOMLElement::name\"], attr_data.ss(ss[\"nginx\"]))\n",
    "#         ),\n",
    "#         Exists(\n",
    "#             [prop],\n",
    "#             And(\n",
    "#                 elem_class_f(prop) == class_[\"commons_SProperty\"],\n",
    "#                 attr_rel(prop, attr[\"commons_Property::key\"], attr_data.ss(ss[\"source_code\"])),\n",
    "#                 assoc_rel(softwareComponent, assoc[\"commons_DOMLElement::annotations\"], prop)\n",
    "#             )\n",
    "#         )\n",
    "#     )\n",
    "# )\n",
    "# solver.assert_and_track(nginxSourceCode, \"nginx_source_code\")"
   ]
  },
  {
   "cell_type": "code",
   "execution_count": 412,
   "metadata": {},
   "outputs": [],
   "source": [
    "def im_print(a):\n",
    "    \n",
    "    print(ret_str)"
   ]
  },
  {
   "cell_type": "code",
   "execution_count": 413,
   "metadata": {},
   "outputs": [],
   "source": [
    "(   solver,\n",
    "    unbound_elems, \n",
    "    elem_class_f, \n",
    "    elem_sort, \n",
    "    elem, \n",
    "    attr_rel, \n",
    "    assoc_rel, \n",
    "    class_sort, \n",
    "    class_,\n",
    "    assoc_sort, assoc,\n",
    "    attr_sort, attr,\n",
    "    ss_sort, ss,\n",
    "    attr_data,\n",
    "    vmIfaceAssertion\n",
    ") = init(unbound_elems_num=0)"
   ]
  },
  {
   "cell_type": "code",
   "execution_count": 414,
   "metadata": {},
   "outputs": [
    {
     "data": {
      "text/html": [
       "<b>unsat</b>"
      ],
      "text/plain": [
       "unsat"
      ]
     },
     "execution_count": 414,
     "metadata": {},
     "output_type": "execute_result"
    }
   ],
   "source": [
    "solver.check()"
   ]
  },
  {
   "cell_type": "code",
   "execution_count": 415,
   "metadata": {},
   "outputs": [
    {
     "data": {
      "text/html": [
       "[associations elem_140550376150000 elem_140550365458448,\n",
       " vm_iface,\n",
       " associations elem_140550376150000 elem_140550365461040,\n",
       " associations elem_140550376150000 elem_140550387749920,\n",
       " associations elem_140550376150000 elem_140550552661552,\n",
       " associations elem_140550376150000 elem_140550552660688,\n",
       " associations elem_140550376150000 elem_140550552661264,\n",
       " associations elem_140550376150000 elem_140550387760480,\n",
       " associations elem_140550376150000 elem_140550376146016,\n",
       " associations elem_140550376150000 elem_140550387986160,\n",
       " associations elem_140550376150000 elem_140550376150000,\n",
       " associations elem_140550376150000 elem_140550376151344,\n",
       " associations elem_140550376150000 elem_140550555422576,\n",
       " associations elem_140550376150000 elem_140550365462192,\n",
       " associations elem_140550376150000 elem_140550365460464,\n",
       " associations elem_140550376150000 elem_140550555423440,\n",
       " associations elem_140550376150000 elem_140550365458496,\n",
       " associations elem_140550376150000 elem_140550387752608,\n",
       " associations elem_140550376150000 elem_140550365459264,\n",
       " associations elem_140550376150000 elem_140550365457104,\n",
       " associations elem_140550376150000 elem_140550552660592,\n",
       " associations elem_140550376150000 elem_140550365461520,\n",
       " associations elem_140550376150000 elem_140550537624352,\n",
       " associations elem_140550376150000 elem_140550556240720,\n",
       " associations elem_140550376150000 elem_140550552660496,\n",
       " associations elem_140550376150000 elem_140550376151632,\n",
       " elem_class elem_140550376150000 infrastructure_VirtualMachine,\n",
       " associations elem_140550376150000 elem_140550365461280]"
      ],
      "text/plain": [
       "[associations elem_140550376150000 elem_140550365458448,\n",
       " vm_iface,\n",
       " associations elem_140550376150000 elem_140550365461040,\n",
       " associations elem_140550376150000 elem_140550387749920,\n",
       " associations elem_140550376150000 elem_140550552661552,\n",
       " associations elem_140550376150000 elem_140550552660688,\n",
       " associations elem_140550376150000 elem_140550552661264,\n",
       " associations elem_140550376150000 elem_140550387760480,\n",
       " associations elem_140550376150000 elem_140550376146016,\n",
       " associations elem_140550376150000 elem_140550387986160,\n",
       " associations elem_140550376150000 elem_140550376150000,\n",
       " associations elem_140550376150000 elem_140550376151344,\n",
       " associations elem_140550376150000 elem_140550555422576,\n",
       " associations elem_140550376150000 elem_140550365462192,\n",
       " associations elem_140550376150000 elem_140550365460464,\n",
       " associations elem_140550376150000 elem_140550555423440,\n",
       " associations elem_140550376150000 elem_140550365458496,\n",
       " associations elem_140550376150000 elem_140550387752608,\n",
       " associations elem_140550376150000 elem_140550365459264,\n",
       " associations elem_140550376150000 elem_140550365457104,\n",
       " associations elem_140550376150000 elem_140550552660592,\n",
       " associations elem_140550376150000 elem_140550365461520,\n",
       " associations elem_140550376150000 elem_140550537624352,\n",
       " associations elem_140550376150000 elem_140550556240720,\n",
       " associations elem_140550376150000 elem_140550552660496,\n",
       " associations elem_140550376150000 elem_140550376151632,\n",
       " elem_class elem_140550376150000 infrastructure_VirtualMachine,\n",
       " associations elem_140550376150000 elem_140550365461280]"
      ]
     },
     "execution_count": 415,
     "metadata": {},
     "output_type": "execute_result"
    }
   ],
   "source": [
    "solver.unsat_core()"
   ]
  },
  {
   "cell_type": "code",
   "execution_count": 416,
   "metadata": {},
   "outputs": [
    {
     "name": "stdout",
     "output_type": "stream",
     "text": [
      "No model available because it was unsat, trying again with one more unbound variable\n"
     ]
    }
   ],
   "source": [
    "try:\n",
    "    model = solver.model()\n",
    "except:\n",
    "    print(\"No model available because it was unsat, trying again with one more unbound variable\")\n",
    "# print(model)\n",
    "# print(model[vm])\n",
    "# print(model[iface])\n",
    "# pprint([im_print(x) for x in model])"
   ]
  },
  {
   "cell_type": "code",
   "execution_count": 417,
   "metadata": {},
   "outputs": [],
   "source": [
    "(   solver,\n",
    "    unbound_elems, \n",
    "    elem_class_f, \n",
    "    elem_sort, \n",
    "    elem, \n",
    "    attr_rel, \n",
    "    assoc_rel, \n",
    "    class_sort, \n",
    "    class_,\n",
    "    assoc_sort, assoc,\n",
    "    attr_sort, attr,\n",
    "    ss_sort, ss,\n",
    "    attr_data,\n",
    "    vmIfaceAssertion\n",
    ") = init(unbound_elems_num=1)"
   ]
  },
  {
   "cell_type": "code",
   "execution_count": 418,
   "metadata": {},
   "outputs": [
    {
     "data": {
      "text/html": [
       "<b>sat</b>"
      ],
      "text/plain": [
       "sat"
      ]
     },
     "execution_count": 418,
     "metadata": {},
     "output_type": "execute_result"
    }
   ],
   "source": [
    "solver.check()"
   ]
  },
  {
   "cell_type": "code",
   "execution_count": 419,
   "metadata": {},
   "outputs": [
    {
     "data": {
      "text/html": [
       "[]"
      ],
      "text/plain": [
       "[]"
      ]
     },
     "execution_count": 419,
     "metadata": {},
     "output_type": "execute_result"
    }
   ],
   "source": [
    "solver.unsat_core()"
   ]
  },
  {
   "cell_type": "code",
   "execution_count": 420,
   "metadata": {},
   "outputs": [],
   "source": [
    "model = solver.model()\n",
    "# print(model)\n",
    "# print(model[vm])\n",
    "# print(model[iface])\n",
    "# pprint([im_print(x) for x in model])"
   ]
  },
  {
   "cell_type": "code",
   "execution_count": 421,
   "metadata": {},
   "outputs": [],
   "source": [
    "from itertools import product\n",
    "\n",
    "def get_unbound_vars_results(model):\n",
    "    return [ ((e1n, e1), a, (e2n, e2)) \n",
    "        for (e1n, e1), a, (e2n, e2) in product(elem.items(), assoc.values(), elem.items()) \n",
    "        if (e1n in unbound_elems or e2n in unbound_elems) and model.eval(assoc_rel(e1, a, e2))\n",
    "    ]\n",
    "\n",
    "def get_uvars_as_text(res):\n",
    "    ret = []\n",
    "    for (e1n, e1), a, (e2n, e2) in res:\n",
    "        tokens = str(str(e1) + \" \" + str(a) + \" \" + str(e2)).split()\n",
    "        ret_str = \"\"\n",
    "        for token in tokens:\n",
    "            if token[0:4] == \"elem\":\n",
    "                value = im.get(token)\n",
    "                ret_str += f\"{value.class_} ({value.user_friendly_name})\" if value else f\"<'{token}' not found>\"\n",
    "            else:\n",
    "                ret_str += token\n",
    "            ret_str += \" \"\n",
    "        ret.append(ret_str.strip())\n",
    "    return ret"
   ]
  },
  {
   "cell_type": "code",
   "execution_count": 422,
   "metadata": {},
   "outputs": [
    {
     "data": {
      "text/plain": [
       "34"
      ]
     },
     "execution_count": 422,
     "metadata": {},
     "output_type": "execute_result"
    }
   ],
   "source": [
    "res1 = get_unbound_vars_results(model)\n",
    "\n",
    "len(res1)"
   ]
  },
  {
   "cell_type": "code",
   "execution_count": 423,
   "metadata": {},
   "outputs": [
    {
     "name": "stdout",
     "output_type": "stream",
     "text": [
      "infrastructure_VirtualMachine (vm1) commons_Property::reference unbound0\n",
      "infrastructure_VirtualMachine (vm1) application_SoftwareComponent::exposedInterfaces unbound0\n",
      "infrastructure_VirtualMachine (vm1) application_SoftwareComponent::consumedInterfaces unbound0\n",
      "infrastructure_VirtualMachine (vm1) application_SaaS::exposedInterfaces unbound0\n",
      "infrastructure_VirtualMachine (vm1) infrastructure_InfrastructureLayer::nodes unbound0\n",
      "infrastructure_VirtualMachine (vm1) infrastructure_InfrastructureLayer::storages unbound0\n",
      "infrastructure_VirtualMachine (vm1) infrastructure_InfrastructureLayer::faas unbound0\n",
      "infrastructure_VirtualMachine (vm1) infrastructure_ComputingNode::ifaces unbound0\n",
      "infrastructure_VirtualMachine (vm1) infrastructure_ComputingNode::location unbound0\n",
      "infrastructure_VirtualMachine (vm1) infrastructure_ComputingNode::group unbound0\n",
      "infrastructure_VirtualMachine (vm1) infrastructure_Container::generatedFrom unbound0\n",
      "infrastructure_VirtualMachine (vm1) infrastructure_Container::hosts unbound0\n",
      "infrastructure_VirtualMachine (vm1) infrastructure_ContainerImage::generatedContainers unbound0\n",
      "infrastructure_VirtualMachine (vm1) infrastructure_AutoScalingGroup::securityGroup unbound0\n",
      "infrastructure_VirtualMachine (vm1) infrastructure_Storage::ifaces unbound0\n",
      "infrastructure_VirtualMachine (vm1) infrastructure_FunctionAsAService::ifaces unbound0\n",
      "infrastructure_VirtualMachine (vm1) infrastructure_Network::connectedIfaces unbound0\n",
      "infrastructure_VirtualMachine (vm1) infrastructure_Network::igws unbound0\n",
      "infrastructure_VirtualMachine (vm1) infrastructure_Network::subnets unbound0\n",
      "infrastructure_VirtualMachine (vm1) infrastructure_Subnet::connectedTo unbound0\n",
      "infrastructure_VirtualMachine (vm1) infrastructure_NetworkInterface::belongsTo unbound0\n",
      "infrastructure_VirtualMachine (vm1) infrastructure_NetworkInterface::associated unbound0\n",
      "infrastructure_VirtualMachine (vm1) infrastructure_ComputingGroup::groupedNodes unbound0\n",
      "infrastructure_VirtualMachine (vm1) infrastructure_SecurityGroup::ifaces unbound0\n",
      "infrastructure_VirtualMachine (vm1) infrastructure_SwarmRole::nodes unbound0\n",
      "infrastructure_VirtualMachine (vm1) infrastructure_Swarm::roles unbound0\n",
      "infrastructure_VirtualMachine (vm1) concrete_RuntimeProvider::containerImages unbound0\n",
      "infrastructure_VirtualMachine (vm1) concrete_RuntimeProvider::storages unbound0\n",
      "infrastructure_VirtualMachine (vm1) concrete_RuntimeProvider::faas unbound0\n",
      "infrastructure_VirtualMachine (vm1) concrete_RuntimeProvider::group unbound0\n",
      "infrastructure_VirtualMachine (vm1) concrete_ContainerImage::maps unbound0\n",
      "infrastructure_VirtualMachine (vm1) concrete_Storage::maps unbound0\n",
      "infrastructure_VirtualMachine (vm1) concrete_FunctionAsAService::maps unbound0\n",
      "infrastructure_VirtualMachine (vm1) concrete_ComputingGroup::maps unbound0\n",
      "34\n"
     ]
    }
   ],
   "source": [
    "res1_text = \"\\n\".join(get_uvars_as_text(res1))\n",
    "print(res1_text)\n",
    "print(len(res1))"
   ]
  },
  {
   "cell_type": "code",
   "execution_count": 424,
   "metadata": {},
   "outputs": [
    {
     "name": "stdout",
     "output_type": "stream",
     "text": [
      "['unbound0']\n",
      "None\n"
     ]
    }
   ],
   "source": [
    "unbound_elems_ref = Consts(\" \".join(unbound_elems), elem_sort)\n",
    "print(unbound_elems)\n",
    "for ue in unbound_elems_ref:\n",
    "    print(model[ue])"
   ]
  },
  {
   "cell_type": "code",
   "execution_count": 425,
   "metadata": {},
   "outputs": [],
   "source": [
    "p1 = res1[0]\n",
    "(e1n, e1), a, (e2n, e2) = p1\n",
    "\n",
    "solver.assert_and_track(Not(assoc_rel(e1, a, e2)), \"ub_1\")"
   ]
  },
  {
   "cell_type": "code",
   "execution_count": 426,
   "metadata": {},
   "outputs": [
    {
     "data": {
      "text/html": [
       "<b>sat</b>"
      ],
      "text/plain": [
       "sat"
      ]
     },
     "execution_count": 426,
     "metadata": {},
     "output_type": "execute_result"
    }
   ],
   "source": [
    "solver.check()"
   ]
  },
  {
   "cell_type": "code",
   "execution_count": 427,
   "metadata": {},
   "outputs": [
    {
     "name": "stdout",
     "output_type": "stream",
     "text": [
      "infrastructure_VirtualMachine (vm1) infrastructure_ComputingNode::ifaces unbound0\n",
      "None\n",
      "1\n"
     ]
    }
   ],
   "source": [
    "model = solver.model()\n",
    "res2 = get_unbound_vars_results(model)\n",
    "res2_text = print(\"\\n\".join(get_uvars_as_text(res2)))\n",
    "\n",
    "print(res2_text)\n",
    "print(len(res2))"
   ]
  },
  {
   "cell_type": "code",
   "execution_count": 428,
   "metadata": {},
   "outputs": [
    {
     "data": {
      "text/html": [
       "\n",
       "    <table class=\"diff\" id=\"difflib_chg_to7__top\"\n",
       "           cellspacing=\"0\" cellpadding=\"0\" rules=\"groups\" >\n",
       "        <colgroup></colgroup> <colgroup></colgroup> <colgroup></colgroup>\n",
       "        <colgroup></colgroup> <colgroup></colgroup> <colgroup></colgroup>\n",
       "        \n",
       "        <tbody>\n",
       "            <tr><td class=\"diff_next\" id=\"difflib_chg_to7__0\"><a href=\"#difflib_chg_to7__1\">n</a></td><td class=\"diff_header\" id=\"from7_1\">1</td><td nowrap=\"nowrap\"><span class=\"diff_sub\">infrastructure_VirtualMachine&nbsp;(vm1)&nbsp;commons_Property::reference&nbsp;unbound0</span></td><td class=\"diff_next\"><a href=\"#difflib_chg_to7__1\">n</a></td><td class=\"diff_header\"></td><td nowrap=\"nowrap\"></td></tr>\n",
       "            <tr><td class=\"diff_next\"></td><td class=\"diff_header\" id=\"from7_2\">2</td><td nowrap=\"nowrap\"><span class=\"diff_sub\">infrastructure_VirtualMachine&nbsp;(vm1)&nbsp;application_SoftwareComponent::exposedInterfaces&nbsp;unbound0</span></td><td class=\"diff_next\"></td><td class=\"diff_header\"></td><td nowrap=\"nowrap\"></td></tr>\n",
       "            <tr><td class=\"diff_next\"></td><td class=\"diff_header\" id=\"from7_3\">3</td><td nowrap=\"nowrap\"><span class=\"diff_sub\">infrastructure_VirtualMachine&nbsp;(vm1)&nbsp;application_SoftwareComponent::consumedInterfaces&nbsp;unbound0</span></td><td class=\"diff_next\"></td><td class=\"diff_header\"></td><td nowrap=\"nowrap\"></td></tr>\n",
       "            <tr><td class=\"diff_next\" id=\"difflib_chg_to7__1\"></td><td class=\"diff_header\" id=\"from7_4\">4</td><td nowrap=\"nowrap\"><span class=\"diff_sub\">infrastructure_VirtualMachine&nbsp;(vm1)&nbsp;application_SaaS::exposedInterfaces&nbsp;unbound0</span></td><td class=\"diff_next\"></td><td class=\"diff_header\"></td><td nowrap=\"nowrap\"></td></tr>\n",
       "            <tr><td class=\"diff_next\"></td><td class=\"diff_header\" id=\"from7_5\">5</td><td nowrap=\"nowrap\"><span class=\"diff_sub\">infrastructure_VirtualMachine&nbsp;(vm1)&nbsp;infrastructure_InfrastructureLayer::nodes&nbsp;unbound0</span></td><td class=\"diff_next\"></td><td class=\"diff_header\"></td><td nowrap=\"nowrap\"></td></tr>\n",
       "            <tr><td class=\"diff_next\"></td><td class=\"diff_header\" id=\"from7_6\">6</td><td nowrap=\"nowrap\"><span class=\"diff_sub\">infrastructure_VirtualMachine&nbsp;(vm1)&nbsp;infrastructure_InfrastructureLayer::storages&nbsp;unbound0</span></td><td class=\"diff_next\"></td><td class=\"diff_header\"></td><td nowrap=\"nowrap\"></td></tr>\n",
       "            <tr><td class=\"diff_next\"></td><td class=\"diff_header\" id=\"from7_7\">7</td><td nowrap=\"nowrap\"><span class=\"diff_sub\">infrastructure_VirtualMachine&nbsp;(vm1)&nbsp;infrastructure_InfrastructureLayer::faas&nbsp;unbound0</span></td><td class=\"diff_next\"></td><td class=\"diff_header\"></td><td nowrap=\"nowrap\"></td></tr>\n",
       "            <tr><td class=\"diff_next\"></td><td class=\"diff_header\" id=\"from7_8\">8</td><td nowrap=\"nowrap\">infrastructure_VirtualMachine&nbsp;(vm1)&nbsp;infrastructure_ComputingNode::ifaces&nbsp;unbound0</td><td class=\"diff_next\"></td><td class=\"diff_header\" id=\"to7_1\">1</td><td nowrap=\"nowrap\">infrastructure_VirtualMachine&nbsp;(vm1)&nbsp;infrastructure_ComputingNode::ifaces&nbsp;unbound0</td></tr>\n",
       "            <tr><td class=\"diff_next\"><a href=\"#difflib_chg_to7__top\">t</a></td><td class=\"diff_header\" id=\"from7_9\">9</td><td nowrap=\"nowrap\"><span class=\"diff_sub\">infrastructure_VirtualMachine&nbsp;(vm1)&nbsp;infrastructure_ComputingNode::location&nbsp;unbound0</span></td><td class=\"diff_next\"><a href=\"#difflib_chg_to7__top\">t</a></td><td class=\"diff_header\"></td><td nowrap=\"nowrap\"></td></tr>\n",
       "            <tr><td class=\"diff_next\"></td><td class=\"diff_header\" id=\"from7_10\">10</td><td nowrap=\"nowrap\"><span class=\"diff_sub\">infrastructure_VirtualMachine&nbsp;(vm1)&nbsp;infrastructure_ComputingNode::group&nbsp;unbound0</span></td><td class=\"diff_next\"></td><td class=\"diff_header\"></td><td nowrap=\"nowrap\"></td></tr>\n",
       "            <tr><td class=\"diff_next\"></td><td class=\"diff_header\" id=\"from7_11\">11</td><td nowrap=\"nowrap\"><span class=\"diff_sub\">infrastructure_VirtualMachine&nbsp;(vm1)&nbsp;infrastructure_Container::generatedFrom&nbsp;unbound0</span></td><td class=\"diff_next\"></td><td class=\"diff_header\"></td><td nowrap=\"nowrap\"></td></tr>\n",
       "            <tr><td class=\"diff_next\"></td><td class=\"diff_header\" id=\"from7_12\">12</td><td nowrap=\"nowrap\"><span class=\"diff_sub\">infrastructure_VirtualMachine&nbsp;(vm1)&nbsp;infrastructure_Container::hosts&nbsp;unbound0</span></td><td class=\"diff_next\"></td><td class=\"diff_header\"></td><td nowrap=\"nowrap\"></td></tr>\n",
       "            <tr><td class=\"diff_next\"></td><td class=\"diff_header\" id=\"from7_13\">13</td><td nowrap=\"nowrap\"><span class=\"diff_sub\">infrastructure_VirtualMachine&nbsp;(vm1)&nbsp;infrastructure_ContainerImage::generatedContainers&nbsp;unbound0</span></td><td class=\"diff_next\"></td><td class=\"diff_header\"></td><td nowrap=\"nowrap\"></td></tr>\n",
       "            <tr><td class=\"diff_next\"></td><td class=\"diff_header\" id=\"from7_14\">14</td><td nowrap=\"nowrap\"><span class=\"diff_sub\">infrastructure_VirtualMachine&nbsp;(vm1)&nbsp;infrastructure_AutoScalingGroup::securityGroup&nbsp;unbound0</span></td><td class=\"diff_next\"></td><td class=\"diff_header\"></td><td nowrap=\"nowrap\"></td></tr>\n",
       "            <tr><td class=\"diff_next\"></td><td class=\"diff_header\" id=\"from7_15\">15</td><td nowrap=\"nowrap\"><span class=\"diff_sub\">infrastructure_VirtualMachine&nbsp;(vm1)&nbsp;infrastructure_Storage::ifaces&nbsp;unbound0</span></td><td class=\"diff_next\"></td><td class=\"diff_header\"></td><td nowrap=\"nowrap\"></td></tr>\n",
       "            <tr><td class=\"diff_next\"></td><td class=\"diff_header\" id=\"from7_16\">16</td><td nowrap=\"nowrap\"><span class=\"diff_sub\">infrastructure_VirtualMachine&nbsp;(vm1)&nbsp;infrastructure_FunctionAsAService::ifaces&nbsp;unbound0</span></td><td class=\"diff_next\"></td><td class=\"diff_header\"></td><td nowrap=\"nowrap\"></td></tr>\n",
       "            <tr><td class=\"diff_next\"></td><td class=\"diff_header\" id=\"from7_17\">17</td><td nowrap=\"nowrap\"><span class=\"diff_sub\">infrastructure_VirtualMachine&nbsp;(vm1)&nbsp;infrastructure_Network::connectedIfaces&nbsp;unbound0</span></td><td class=\"diff_next\"></td><td class=\"diff_header\"></td><td nowrap=\"nowrap\"></td></tr>\n",
       "            <tr><td class=\"diff_next\"></td><td class=\"diff_header\" id=\"from7_18\">18</td><td nowrap=\"nowrap\"><span class=\"diff_sub\">infrastructure_VirtualMachine&nbsp;(vm1)&nbsp;infrastructure_Network::igws&nbsp;unbound0</span></td><td class=\"diff_next\"></td><td class=\"diff_header\"></td><td nowrap=\"nowrap\"></td></tr>\n",
       "            <tr><td class=\"diff_next\"></td><td class=\"diff_header\" id=\"from7_19\">19</td><td nowrap=\"nowrap\"><span class=\"diff_sub\">infrastructure_VirtualMachine&nbsp;(vm1)&nbsp;infrastructure_Network::subnets&nbsp;unbound0</span></td><td class=\"diff_next\"></td><td class=\"diff_header\"></td><td nowrap=\"nowrap\"></td></tr>\n",
       "            <tr><td class=\"diff_next\"></td><td class=\"diff_header\" id=\"from7_20\">20</td><td nowrap=\"nowrap\"><span class=\"diff_sub\">infrastructure_VirtualMachine&nbsp;(vm1)&nbsp;infrastructure_Subnet::connectedTo&nbsp;unbound0</span></td><td class=\"diff_next\"></td><td class=\"diff_header\"></td><td nowrap=\"nowrap\"></td></tr>\n",
       "            <tr><td class=\"diff_next\"></td><td class=\"diff_header\" id=\"from7_21\">21</td><td nowrap=\"nowrap\"><span class=\"diff_sub\">infrastructure_VirtualMachine&nbsp;(vm1)&nbsp;infrastructure_NetworkInterface::belongsTo&nbsp;unbound0</span></td><td class=\"diff_next\"></td><td class=\"diff_header\"></td><td nowrap=\"nowrap\"></td></tr>\n",
       "            <tr><td class=\"diff_next\"></td><td class=\"diff_header\" id=\"from7_22\">22</td><td nowrap=\"nowrap\"><span class=\"diff_sub\">infrastructure_VirtualMachine&nbsp;(vm1)&nbsp;infrastructure_NetworkInterface::associated&nbsp;unbound0</span></td><td class=\"diff_next\"></td><td class=\"diff_header\"></td><td nowrap=\"nowrap\"></td></tr>\n",
       "            <tr><td class=\"diff_next\"></td><td class=\"diff_header\" id=\"from7_23\">23</td><td nowrap=\"nowrap\"><span class=\"diff_sub\">infrastructure_VirtualMachine&nbsp;(vm1)&nbsp;infrastructure_ComputingGroup::groupedNodes&nbsp;unbound0</span></td><td class=\"diff_next\"></td><td class=\"diff_header\"></td><td nowrap=\"nowrap\"></td></tr>\n",
       "            <tr><td class=\"diff_next\"></td><td class=\"diff_header\" id=\"from7_24\">24</td><td nowrap=\"nowrap\"><span class=\"diff_sub\">infrastructure_VirtualMachine&nbsp;(vm1)&nbsp;infrastructure_SecurityGroup::ifaces&nbsp;unbound0</span></td><td class=\"diff_next\"></td><td class=\"diff_header\"></td><td nowrap=\"nowrap\"></td></tr>\n",
       "            <tr><td class=\"diff_next\"></td><td class=\"diff_header\" id=\"from7_25\">25</td><td nowrap=\"nowrap\"><span class=\"diff_sub\">infrastructure_VirtualMachine&nbsp;(vm1)&nbsp;infrastructure_SwarmRole::nodes&nbsp;unbound0</span></td><td class=\"diff_next\"></td><td class=\"diff_header\"></td><td nowrap=\"nowrap\"></td></tr>\n",
       "            <tr><td class=\"diff_next\"></td><td class=\"diff_header\" id=\"from7_26\">26</td><td nowrap=\"nowrap\"><span class=\"diff_sub\">infrastructure_VirtualMachine&nbsp;(vm1)&nbsp;infrastructure_Swarm::roles&nbsp;unbound0</span></td><td class=\"diff_next\"></td><td class=\"diff_header\"></td><td nowrap=\"nowrap\"></td></tr>\n",
       "            <tr><td class=\"diff_next\"></td><td class=\"diff_header\" id=\"from7_27\">27</td><td nowrap=\"nowrap\"><span class=\"diff_sub\">infrastructure_VirtualMachine&nbsp;(vm1)&nbsp;concrete_RuntimeProvider::containerImages&nbsp;unbound0</span></td><td class=\"diff_next\"></td><td class=\"diff_header\"></td><td nowrap=\"nowrap\"></td></tr>\n",
       "            <tr><td class=\"diff_next\"></td><td class=\"diff_header\" id=\"from7_28\">28</td><td nowrap=\"nowrap\"><span class=\"diff_sub\">infrastructure_VirtualMachine&nbsp;(vm1)&nbsp;concrete_RuntimeProvider::storages&nbsp;unbound0</span></td><td class=\"diff_next\"></td><td class=\"diff_header\"></td><td nowrap=\"nowrap\"></td></tr>\n",
       "            <tr><td class=\"diff_next\"></td><td class=\"diff_header\" id=\"from7_29\">29</td><td nowrap=\"nowrap\"><span class=\"diff_sub\">infrastructure_VirtualMachine&nbsp;(vm1)&nbsp;concrete_RuntimeProvider::faas&nbsp;unbound0</span></td><td class=\"diff_next\"></td><td class=\"diff_header\"></td><td nowrap=\"nowrap\"></td></tr>\n",
       "            <tr><td class=\"diff_next\"></td><td class=\"diff_header\" id=\"from7_30\">30</td><td nowrap=\"nowrap\"><span class=\"diff_sub\">infrastructure_VirtualMachine&nbsp;(vm1)&nbsp;concrete_RuntimeProvider::group&nbsp;unbound0</span></td><td class=\"diff_next\"></td><td class=\"diff_header\"></td><td nowrap=\"nowrap\"></td></tr>\n",
       "            <tr><td class=\"diff_next\"></td><td class=\"diff_header\" id=\"from7_31\">31</td><td nowrap=\"nowrap\"><span class=\"diff_sub\">infrastructure_VirtualMachine&nbsp;(vm1)&nbsp;concrete_ContainerImage::maps&nbsp;unbound0</span></td><td class=\"diff_next\"></td><td class=\"diff_header\"></td><td nowrap=\"nowrap\"></td></tr>\n",
       "            <tr><td class=\"diff_next\"></td><td class=\"diff_header\" id=\"from7_32\">32</td><td nowrap=\"nowrap\"><span class=\"diff_sub\">infrastructure_VirtualMachine&nbsp;(vm1)&nbsp;concrete_Storage::maps&nbsp;unbound0</span></td><td class=\"diff_next\"></td><td class=\"diff_header\"></td><td nowrap=\"nowrap\"></td></tr>\n",
       "            <tr><td class=\"diff_next\"></td><td class=\"diff_header\" id=\"from7_33\">33</td><td nowrap=\"nowrap\"><span class=\"diff_sub\">infrastructure_VirtualMachine&nbsp;(vm1)&nbsp;concrete_FunctionAsAService::maps&nbsp;unbound0</span></td><td class=\"diff_next\"></td><td class=\"diff_header\"></td><td nowrap=\"nowrap\"></td></tr>\n",
       "            <tr><td class=\"diff_next\"></td><td class=\"diff_header\" id=\"from7_34\">34</td><td nowrap=\"nowrap\"><span class=\"diff_sub\">infrastructure_VirtualMachine&nbsp;(vm1)&nbsp;concrete_ComputingGroup::maps&nbsp;unbound0</span></td><td class=\"diff_next\"></td><td class=\"diff_header\"></td><td nowrap=\"nowrap\"></td></tr>\n",
       "        </tbody>\n",
       "    </table>"
      ],
      "text/plain": [
       "<IPython.core.display.HTML object>"
      ]
     },
     "metadata": {},
     "output_type": "display_data"
    }
   ],
   "source": [
    "from difflib import HtmlDiff\n",
    "from IPython.display import display, HTML\n",
    "\n",
    "diff = HtmlDiff().make_table(get_uvars_as_text(res1), get_uvars_as_text(res2))\n",
    "display(HTML(diff))"
   ]
  }
 ],
 "metadata": {
  "kernelspec": {
   "display_name": "Python 3.10.7 ('.venv': poetry)",
   "language": "python",
   "name": "python3"
  },
  "language_info": {
   "codemirror_mode": {
    "name": "ipython",
    "version": 3
   },
   "file_extension": ".py",
   "mimetype": "text/x-python",
   "name": "python",
   "nbconvert_exporter": "python",
   "pygments_lexer": "ipython3",
   "version": "3.10.7"
  },
  "orig_nbformat": 4,
  "vscode": {
   "interpreter": {
    "hash": "d98256633358fe1daa4009223d54520a3e2548801398a173545d5698bb289e16"
   }
  }
 },
 "nbformat": 4,
 "nbformat_minor": 2
}
