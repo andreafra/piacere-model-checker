{
 "cells": [
  {
   "cell_type": "code",
   "execution_count": null,
   "metadata": {},
   "outputs": [],
   "source": [
    "import mc\n",
    "\n",
    "doml_document_path = \"../../tests/doml/nginx-openstack_v2.domlx\"\n",
    "# doml_document_path = \"../../tests/doml/nginx-openstack_v2_wrong.domlx\"\n",
    "with open(doml_document_path, \"rb\") as xmif:\n",
    "    doc = xmif.read()\n",
    "\n",
    "dmc = mc.ModelChecker(doc)"
   ]
  },
  {
   "cell_type": "code",
   "execution_count": null,
   "metadata": {},
   "outputs": [],
   "source": [
    "vm, iface = dmc.get_consts([\"vm\", \"iface\"])\n",
    "smtenc = dmc.smt_encoding\n",
    "vmIfaceAssertion = ForAll(\n",
    "    [vm],\n",
    "    Implies(\n",
    "        smt_enc.element_class_fun(vm) == smt_enc.classes[\"infrastructure_VirtualMachine\"],\n",
    "        Exists(\n",
    "            [iface],\n",
    "            And(\n",
    "                smt_enc.association_rel(vm, smt_enc.associations[\"infrastructure_ComputingNode::ifaces\"], iface)\n",
    "            )\n",
    "        )\n",
    "    )\n",
    ")\n",
    "dmc.add_requirement(vmIfaceAssertion, \"vm_iface\")\n",
    "dmc.check()"
   ]
  }
 ],
 "metadata": {
  "language_info": {
   "name": "python"
  },
  "orig_nbformat": 4
 },
 "nbformat": 4,
 "nbformat_minor": 2
}
