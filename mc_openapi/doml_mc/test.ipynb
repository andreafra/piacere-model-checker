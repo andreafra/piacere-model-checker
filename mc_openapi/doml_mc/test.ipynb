{
 "cells": [
  {
   "cell_type": "code",
   "execution_count": null,
   "metadata": {},
   "outputs": [],
   "source": [
    "import mc_openapi.doml_mc as mc\n",
    "\n",
    "doml_document_path = \"../../tests/doml/v2.0/nginx-openstack_v2.0.domlx\"\n",
    "# doml_document_path = \"../../tests/doml/v2.0/nginx-openstack_v2.0_wrong_vm_iface.domlx\"\n",
    "# doml_document_path = \"../../tests/doml/v2.0/faas.domlx\"\n",
    "with open(doml_document_path, \"rb\") as xmif:\n",
    "    doc = xmif.read()\n",
    "\n",
    "dmc = mc.ModelChecker(doc, mc.DOMLVersion.V2_0)"
   ]
  },
  {
   "cell_type": "code",
   "execution_count": null,
   "metadata": {},
   "outputs": [],
   "source": [
    "r = dmc.check_common_requirements(2, False, 50)\n",
    "r.summarize()"
   ]
  }
 ],
 "metadata": {
  "kernelspec": {
   "display_name": "Python 3.10.4 ('mc-openapi-dl7Bx6Lh-py3.10')",
   "language": "python",
   "name": "python3"
  },
  "language_info": {
   "codemirror_mode": {
    "name": "ipython",
    "version": 3
   },
   "file_extension": ".py",
   "mimetype": "text/x-python",
   "name": "python",
   "nbconvert_exporter": "python",
   "pygments_lexer": "ipython3",
   "version": "3.10.6"
  },
  "orig_nbformat": 4,
  "vscode": {
   "interpreter": {
    "hash": "ad63ed7e22c54016fdab5faefd8d83d59c3e39bc25e97a3e7b72bed4daaf83ed"
   }
  }
 },
 "nbformat": 4,
 "nbformat_minor": 2
}
