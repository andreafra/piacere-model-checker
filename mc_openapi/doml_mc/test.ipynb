{
 "cells": [
  {
   "cell_type": "code",
   "execution_count": null,
   "metadata": {},
   "outputs": [],
   "source": [
    "import mc_openapi.doml_mc as mc\n",
    "\n",
    "doml_document_path = \"../../tests/doml/nginx-openstack_v2.domlx\"\n",
    "# doml_document_path = \"../../tests/doml/nginx-openstack_v2_wrong.domlx\"\n",
    "# doml_document_path = \"../../tests/doml/faas.domlx\"\n",
    "with open(doml_document_path, \"rb\") as xmif:\n",
    "    doc = xmif.read()\n",
    "\n",
    "dmc = mc.ModelChecker(doc)"
   ]
  },
  {
   "cell_type": "code",
   "execution_count": null,
   "metadata": {},
   "outputs": [],
   "source": [
    "dmc.check_common_requirements(2)"
   ]
  }
 ],
 "metadata": {
  "interpreter": {
   "hash": "84992e8dd99f9ee4c9232ee318c87c4e9618815535c07abce8f91e869d000943"
  },
  "kernelspec": {
   "display_name": "mc_openapi",
   "language": "python",
   "name": "python3"
  },
  "language_info": {
   "codemirror_mode": {
    "name": "ipython",
    "version": 3
   },
   "file_extension": ".py",
   "mimetype": "text/x-python",
   "name": "python",
   "nbconvert_exporter": "python",
   "pygments_lexer": "ipython3",
   "version": "3.9.13"
  },
  "orig_nbformat": 4
 },
 "nbformat": 4,
 "nbformat_minor": 2
}
