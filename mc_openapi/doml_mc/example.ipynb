{
 "cells": [
  {
   "cell_type": "code",
   "execution_count": 1,
   "metadata": {},
   "outputs": [],
   "source": [
    "from mc_openapi.doml_mc.intermediate_model.metamodel import parse_metamodel, parse_inverse_associations\n",
    "import yaml\n",
    "with open(\"../assets/doml_meta.yaml\") as mmf:\n",
    "    mmdoc = yaml.load(mmf, yaml.Loader)\n",
    "mm = parse_metamodel(mmdoc)\n",
    "inv_assoc = parse_inverse_associations(mmdoc)"
   ]
  },
  {
   "cell_type": "code",
   "execution_count": 2,
   "metadata": {},
   "outputs": [],
   "source": [
    "import prettyprinter as pp\n",
    "from prettyprinter.prettyprinter import IMPLICIT_MODULES\n",
    "pp.install_extras(include=['dataclasses'])"
   ]
  },
  {
   "cell_type": "code",
   "execution_count": 3,
   "metadata": {},
   "outputs": [
    {
     "name": "stdout",
     "output_type": "stream",
     "text": [
      "mc_openapi.doml_mc.intermediate_model.metamodel.DOMLClass(\n",
      "    name='application_SoftwareComponent',\n",
      "    superclass='application_ApplicationComponent',\n",
      "    attributes={\n",
      "        'isPersistent': mc_openapi.doml_mc.intermediate_model.metamodel.DOMLAttribute(\n",
      "            name='isPersistent',\n",
      "            type='Boolean',\n",
      "            multiplicity=('1', '1'),\n",
      "            default=False\n",
      "        )\n",
      "    },\n",
      "    associations={\n",
      "        'exposedInterfaces': mc_openapi.doml_mc.intermediate_model.metamodel.DOMLAssociation(\n",
      "            name='exposedInterfaces',\n",
      "            class_='application_SoftwareInterface',\n",
      "            multiplicity=('0', '*')\n",
      "        ),\n",
      "        'consumedInterfaces': mc_openapi.doml_mc.intermediate_model.metamodel.DOMLAssociation(\n",
      "            name='consumedInterfaces',\n",
      "            class_='application_SoftwareInterface',\n",
      "            multiplicity=('0', '*')\n",
      "        )\n",
      "    }\n",
      ")\n"
     ]
    }
   ],
   "source": [
    "IMPLICIT_MODULES.add('doml_mc.intermediate_model.metamodel')\n",
    "pp.pprint(mm[\"application_SoftwareComponent\"])"
   ]
  },
  {
   "cell_type": "markdown",
   "metadata": {},
   "source": [
    "### Load the DOML document here:"
   ]
  },
  {
   "cell_type": "code",
   "execution_count": 4,
   "metadata": {},
   "outputs": [],
   "source": [
    "from mc_openapi.doml_mc.xmi_parser.doml_model import parse_doml_model\n",
    "# doml_document_path = \"../../tests/doml/nginx-openstack_v2.domlx\"\n",
    "doml_document_path = \"../../tests/doml/nginx-openstack_v2_wrong.domlx\"\n",
    "with open(doml_document_path, \"rb\") as xmif:\n",
    "    doc = xmif.read()\n",
    "\n",
    "doml_model = parse_doml_model(doc, mm)\n",
    "print(doml_model)"
   ]
  },
  {
   "cell_type": "code",
   "execution_count": 6,
   "metadata": {},
   "outputs": [],
   "source": [
    "from mc_openapi.doml_mc.intermediate_model.doml_model2im import doml_model_to_im\n",
    "from mc_openapi.doml_mc.intermediate_model.doml_element import reciprocate_inverse_associations\n",
    "im = doml_model_to_im(doml_model, mm)\n",
    "reciprocate_inverse_associations(im, inv_assoc)"
   ]
  },
  {
   "cell_type": "code",
   "execution_count": 7,
   "metadata": {},
   "outputs": [
    {
     "name": "stdout",
     "output_type": "stream",
     "text": [
      "{\n",
      "    'nginx': mc_openapi.doml_mc.intermediate_model.doml_element.DOMLElement(\n",
      "        name='nginx',\n",
      "        class_='application_SoftwareComponent',\n",
      "        attributes={'commons_DOMLElement::name': 'nginx'},\n",
      "        associations={\n",
      "            'application_SoftwarePackage::consumedInterfaces': set(),\n",
      "            'application_SoftwarePackage::exposedInterfaces': set()\n",
      "        }\n",
      "    ),\n",
      "    'vm1': mc_openapi.doml_mc.intermediate_model.doml_element.DOMLElement(\n",
      "        name='vm1',\n",
      "        class_='infrastructure_VirtualMachine',\n",
      "        attributes={'commons_DOMLElement::name': 'vm1'},\n",
      "        associations={'infrastructure_ComputingNode::ifaces': set()}\n",
      "    ),\n",
      "    'net1': mc_openapi.doml_mc.intermediate_model.doml_element.DOMLElement(\n",
      "        name='net1',\n",
      "        class_='infrastructure_Network',\n",
      "        attributes={\n",
      "            'commons_DOMLElement::name': 'net1',\n",
      "            'infrastructure_Network::address_lb': 268435456,\n",
      "            'infrastructure_Network::address_ub': 268435711\n",
      "        },\n",
      "        associations={}\n",
      "    ),\n",
      "    'sg': mc_openapi.doml_mc.intermediate_model.doml_element.DOMLElement(\n",
      "        name='sg',\n",
      "        class_='infrastructure_SecurityGroup',\n",
      "        attributes={'commons_DOMLElement::name': 'sg'},\n",
      "        associations={}\n",
      "    ),\n",
      "    'con_infra': mc_openapi.doml_mc.intermediate_model.doml_element.DOMLElement(\n",
      "        name='con_infra',\n",
      "        class_='concrete_ConcreteInfrastructure',\n",
      "        attributes={'commons_DOMLElement::name': 'con_infra'},\n",
      "        associations={\n",
      "            'concrete_ConcreteInfrastructure::providers': {'openstack'},\n",
      "            'concrete_ConcreteInfrastructure::nodes': {'concrete_vm'},\n",
      "            'concrete_ConcreteInfrastructure::asGroups': set(),\n",
      "            'concrete_ConcreteInfrastructure::networks': {'concrete_net'},\n",
      "            'concrete_ConcreteInfrastructure::storages': set()\n",
      "        }\n",
      "    ),\n",
      "    'concrete_vm': mc_openapi.doml_mc.intermediate_model.doml_element.DOMLElement(\n",
      "        name='concrete_vm',\n",
      "        class_='concrete_VirtualMachine',\n",
      "        attributes={'commons_DOMLElement::name': 'concrete_vm'},\n",
      "        associations={'concrete_VirtualMachine::maps': {'vm1'}}\n",
      "    ),\n",
      "    'openstack': mc_openapi.doml_mc.intermediate_model.doml_element.DOMLElement(\n",
      "        name='openstack',\n",
      "        class_='concrete_RuntimeProvider',\n",
      "        attributes={'commons_DOMLElement::name': 'openstack'},\n",
      "        associations={\n",
      "            'concrete_RuntimeProvider::supportedGroups': set(),\n",
      "            'concrete_RuntimeProvider::vms': {'concrete_vm'},\n",
      "            'concrete_RuntimeProvider::networks': {'concrete_net'},\n",
      "            'concrete_RuntimeProvider::storages': set()\n",
      "        }\n",
      "    ),\n",
      "    'concrete_net': mc_openapi.doml_mc.intermediate_model.doml_element.DOMLElement(\n",
      "        name='concrete_net',\n",
      "        class_='concrete_Network',\n",
      "        attributes={'commons_DOMLElement::name': 'concrete_net'},\n",
      "        associations={'concrete_Network::maps': {'net1'}}\n",
      "    )\n",
      "}\n"
     ]
    }
   ],
   "source": [
    "IMPLICIT_MODULES.add('doml_mc.intermediate_model.doml_element')\n",
    "pp.pprint(im)"
   ]
  },
  {
   "cell_type": "code",
   "execution_count": 8,
   "metadata": {},
   "outputs": [],
   "source": [
    "unbound_elems_n = 1\n",
    "unbound_elems = [f\"unbound{i}\" for i in range(unbound_elems_n)]"
   ]
  },
  {
   "cell_type": "code",
   "execution_count": 9,
   "metadata": {},
   "outputs": [],
   "source": [
    "from z3 import Solver\n",
    "\n",
    "from mc_openapi.doml_mc.z3.metamodel_encoding import (\n",
    "    def_association_rel_and_assert_constraints,\n",
    "    def_attribute_rel_and_assert_constraints,\n",
    "    mk_association_sort_dict,\n",
    "    mk_attribute_sort_dict,\n",
    "    mk_class_sort_dict\n",
    ")\n",
    "from mc_openapi.doml_mc.z3.im_encoding import (\n",
    "    assert_im_associations_q,\n",
    "    assert_im_attributes,\n",
    "    def_elem_class_f_and_assert_classes,\n",
    "    mk_elem_sort_dict,\n",
    "    mk_stringsym_sort_dict\n",
    ")\n",
    "from mc_openapi.doml_mc.z3.utils import mk_adata_sort\n",
    "\n",
    "solver = Solver()\n",
    "\n",
    "class_sort, class_ = mk_class_sort_dict(mm)\n",
    "assoc_sort, assoc = mk_association_sort_dict(mm)\n",
    "attr_sort, attr = mk_attribute_sort_dict(mm)\n",
    "elem_sort, elem = mk_elem_sort_dict(im, unbound_elems)\n",
    "ss_sort, ss = mk_stringsym_sort_dict(im, mm)\n",
    "AData = mk_adata_sort(ss_sort)\n",
    "elem_class_f = def_elem_class_f_and_assert_classes(\n",
    "    im,\n",
    "    solver,\n",
    "    elem_sort,\n",
    "    elem,\n",
    "    class_sort,\n",
    "    class_\n",
    ")\n",
    "attr_rel = def_attribute_rel_and_assert_constraints(\n",
    "    mm,\n",
    "    solver,\n",
    "    attr_sort,\n",
    "    attr,\n",
    "    class_,\n",
    "    elem_class_f,\n",
    "    elem_sort,\n",
    "    AData,\n",
    "    ss\n",
    ")\n",
    "assert_im_attributes(\n",
    "    attr_rel,\n",
    "    solver,\n",
    "    im,\n",
    "    mm,\n",
    "    elem,\n",
    "    attr_sort,\n",
    "    attr,\n",
    "    AData,\n",
    "    ss\n",
    ")\n",
    "assoc_rel = def_association_rel_and_assert_constraints(\n",
    "    mm,\n",
    "    solver,\n",
    "    assoc_sort,\n",
    "    assoc,\n",
    "    class_,\n",
    "    elem_class_f,\n",
    "    elem_sort,\n",
    "    inv_assoc\n",
    ")\n",
    "assert_im_associations_q(\n",
    "    assoc_rel,\n",
    "    solver,\n",
    "    {k: v for k, v in im.items() if k not in unbound_elems},\n",
    "    elem,\n",
    "    assoc_sort,\n",
    "    assoc,\n",
    ")"
   ]
  },
  {
   "cell_type": "code",
   "execution_count": 10,
   "metadata": {},
   "outputs": [],
   "source": [
    "# solver.push()"
   ]
  },
  {
   "cell_type": "markdown",
   "metadata": {},
   "source": [
    "### Metamodel statistics"
   ]
  },
  {
   "cell_type": "code",
   "execution_count": 11,
   "metadata": {},
   "outputs": [
    {
     "name": "stdout",
     "output_type": "stream",
     "text": [
      "Number of classes: 36\n",
      "Number of tuples in the subclass relation: 91\n",
      "Number of attributes: 24\n",
      "Number of attribute assertions: 72\n",
      "Number of associations: 47\n",
      "Number of associations assertions: 146\n"
     ]
    }
   ],
   "source": [
    "from mc_openapi.doml_mc.intermediate_model.metamodel import get_subclasses_dict\n",
    "\n",
    "print(\"Number of classes:\", len(mm))\n",
    "print(\n",
    "    \"Number of tuples in the subclass relation:\",\n",
    "    sum(len(s) for s in get_subclasses_dict(mm).values())\n",
    ")\n",
    "n_attrs = sum(len(c.attributes) for c in mm.values())\n",
    "print(\"Number of attributes:\", n_attrs)\n",
    "print(\"Number of attribute assertions:\", 3 * n_attrs)\n",
    "n_assocs = sum(len(c.associations) for c in mm.values())\n",
    "print(\"Number of associations:\", n_assocs)\n",
    "print(\"Number of associations assertions:\", 3 * n_assocs + len(inv_assoc))\n",
    "\n"
   ]
  },
  {
   "cell_type": "markdown",
   "metadata": {},
   "source": [
    "### DOML model statistics"
   ]
  },
  {
   "cell_type": "code",
   "execution_count": 12,
   "metadata": {},
   "outputs": [
    {
     "name": "stdout",
     "output_type": "stream",
     "text": [
      "Number of elements: 8\n",
      "Number of attributes (IM): 10\n",
      "Number of associations (IM): 7\n",
      "Number of string symbols: 10\n",
      "Number of IM attribute assertions: 8\n",
      "Number of IM association assertions: 64\n"
     ]
    }
   ],
   "source": [
    "n_elems = len(im)\n",
    "print(\"Number of elements:\", n_elems)\n",
    "n_attrs_im = sum(len(e.attributes) for e in im.values())\n",
    "print(\"Number of attributes (IM):\", n_attrs_im)\n",
    "n_assocs_im = sum(len(a) for e in im.values() for a in e.associations.values())\n",
    "print(\"Number of associations (IM):\", n_assocs_im)\n",
    "print(\"Number of string symbols:\", len(ss))\n",
    "print(\"Number of IM attribute assertions:\", n_elems)\n",
    "print(\"Number of IM association assertions:\", n_elems ** 2)"
   ]
  },
  {
   "cell_type": "code",
   "execution_count": 13,
   "metadata": {},
   "outputs": [
    {
     "data": {
      "text/html": [
       "<b>sat</b>"
      ],
      "text/plain": [
       "sat"
      ]
     },
     "execution_count": 13,
     "metadata": {},
     "output_type": "execute_result"
    }
   ],
   "source": [
    "solver.check()"
   ]
  },
  {
   "cell_type": "code",
   "execution_count": 14,
   "metadata": {},
   "outputs": [
    {
     "data": {
      "text/plain": [
       "(:added-eqs               4046\n",
       " :arith-make-feasible     5\n",
       " :arith-max-columns       6\n",
       " :binary-propagations     208\n",
       " :conflicts               26\n",
       " :datatype-accessor-ax    246\n",
       " :datatype-constructor-ax 1534\n",
       " :datatype-splits         249\n",
       " :decisions               7349\n",
       " :del-clause              14\n",
       " :final-checks            8\n",
       " :max-generation          4\n",
       " :max-memory              22.49\n",
       " :memory                  22.49\n",
       " :mk-bool-var             1342\n",
       " :mk-clause               473\n",
       " :num-allocs              2766758\n",
       " :num-checks              1\n",
       " :propagations            1442\n",
       " :quant-instantiations    339\n",
       " :restarts                3\n",
       " :rlimit-count            958188\n",
       " :time                    0.16)"
      ]
     },
     "execution_count": 14,
     "metadata": {},
     "output_type": "execute_result"
    }
   ],
   "source": [
    "solver.statistics()"
   ]
  },
  {
   "cell_type": "code",
   "execution_count": 15,
   "metadata": {},
   "outputs": [],
   "source": [
    "from z3 import Consts, ForAll, Exists, Implies, And, Or"
   ]
  },
  {
   "cell_type": "code",
   "execution_count": 16,
   "metadata": {},
   "outputs": [],
   "source": [
    "# All VMs have a network interface.\n",
    "vm, iface = Consts(\n",
    "    \"vm iface\", elem_sort\n",
    ")\n",
    "vmIfaceAssertion = ForAll(\n",
    "    [vm],\n",
    "    Implies(\n",
    "        elem_class_f(vm) == class_[\"infrastructure_VirtualMachine\"],\n",
    "        Exists(\n",
    "            [iface],\n",
    "            And(\n",
    "                assoc_rel(vm, assoc[\"infrastructure_ComputingNode::ifaces\"], iface)\n",
    "            )\n",
    "        )\n",
    "    )\n",
    ")\n",
    "solver.assert_and_track(vmIfaceAssertion, \"vm_iface\")"
   ]
  },
  {
   "cell_type": "code",
   "execution_count": 17,
   "metadata": {},
   "outputs": [
    {
     "data": {
      "text/html": [
       "<b>sat</b>"
      ],
      "text/plain": [
       "sat"
      ]
     },
     "execution_count": 17,
     "metadata": {},
     "output_type": "execute_result"
    }
   ],
   "source": [
    "solver.check()"
   ]
  },
  {
   "cell_type": "code",
   "execution_count": 18,
   "metadata": {},
   "outputs": [
    {
     "data": {
      "text/plain": [
       "23.16"
      ]
     },
     "execution_count": 18,
     "metadata": {},
     "output_type": "execute_result"
    }
   ],
   "source": [
    "solver.statistics().memory"
   ]
  },
  {
   "cell_type": "code",
   "execution_count": 19,
   "metadata": {},
   "outputs": [
    {
     "name": "stdout",
     "output_type": "stream",
     "text": [
      "[attribute_st_types infrastructure_VirtualMachine::sizeDescription = True,\n",
      " attribute_mult_ub infrastructure_Network::address_ub = True,\n",
      " attribute_values vm1 = True,\n",
      " association_st_classes concrete_ConcreteInfrastructure::storages = True,\n",
      " association_st_classes concrete_VirtualMachine::maps = True,\n",
      " attribute_mult_ub infrastructure_Storage::cost = True,\n",
      " attribute_st_types commons_DOMLElement::name = True,\n",
      " attribute_st_types infrastructure_Network::address_lb = True,\n",
      " association_mult_ub concrete_FunctionAsAService::maps = True,\n",
      " associations con_infra con_infra = True,\n",
      " association_inverse infrastructure_Container::generatedFrom infrastructure_ContainerImage::generatedContainers = True,\n",
      " associations concrete_vm sg = True,\n",
      " association_mult_ub infrastructure_Container::generatedFrom = True,\n",
      " association_st_classes infrastructure_FunctionAsAService::ifaces = True,\n",
      " association_mult_ub infrastructure_VirtualMachine::location = True,\n",
      " association_st_classes concrete_Storage::maps = True,\n",
      " elem_class vm1 infrastructure_VirtualMachine = True,\n",
      " attribute_values concrete_vm = True,\n",
      " elem_class nginx application_SoftwareComponent = True,\n",
      " attribute_values nginx = True,\n",
      " association_st_classes infrastructure_Storage::ifaces = True,\n",
      " associations nginx nginx = True,\n",
      " attribute_st_types infrastructure_Storage::storage = True,\n",
      " associations nginx openstack = True,\n",
      " association_st_classes concrete_RuntimeProvider::vms = True,\n",
      " attribute_st_types infrastructure_Network::protocol = True,\n",
      " associations concrete_net openstack = True,\n",
      " associations sg nginx = True,\n",
      " attribute_mult_ub infrastructure_ComputingNodeGenerator::uri = True,\n",
      " association_mult_ub commons_Deployment::source = True,\n",
      " attribute_st_types infrastructure_ComputingNode::os = True,\n",
      " attribute_values sg = True,\n",
      " associations net1 vm1 = True,\n",
      " elem_class concrete_vm concrete_VirtualMachine = True,\n",
      " attribute_mult_ub application_SoftwareComponent::isPersistent = True,\n",
      " attribute_values concrete_net = True,\n",
      " association_st_classes infrastructure_ContainerImage::generatedContainers = True,\n",
      " association_mult_lb infrastructure_NetworkInterface::belongsTo = True,\n",
      " association_mult_lb concrete_VirtualMachine::maps = True,\n",
      " association_st_classes concrete_ConcreteInfrastructure::nodes = True,\n",
      " association_mult_ub concrete_VirtualMachine::maps = True,\n",
      " association_st_classes commons_Deployment::target = True,\n",
      " association_st_classes concrete_ConcreteInfrastructure::faas = True,\n",
      " associations net1 con_infra = True,\n",
      " attribute_st_types concrete_ConcreteElement::configurationScript = True,\n",
      " association_mult_ub infrastructure_VirtualMachine::generatedFrom = True,\n",
      " associations nginx net1 = True,\n",
      " attribute_st_types infrastructure_Network::address_ub = True,\n",
      " attribute_values openstack = True,\n",
      " attribute_st_types infrastructure_ComputingNode::cost = True,\n",
      " association_mult_ub infrastructure_NetworkInterface::belongsTo = True,\n",
      " associations nginx vm1 = True,\n",
      " associations con_infra concrete_vm = True,\n",
      " association_mult_ub infrastructure_ComputingNode::location = True,\n",
      " association_mult_lb concrete_AutoScalingGroup::maps = True,\n",
      " attribute_values net1 = True,\n",
      " association_mult_ub infrastructure_Storage::ifaces = True,\n",
      " attribute_mult_ub infrastructure_Location::zone = True,\n",
      " associations vm1 openstack = True,\n",
      " association_mult_ub infrastructure_ComputingNode::group = True,\n",
      " associations sg concrete_net = True,\n",
      " association_st_classes infrastructure_VirtualMachine::generatedFrom = True,\n",
      " association_st_classes concrete_FunctionAsAService::maps = True,\n",
      " associations concrete_vm net1 = True,\n",
      " associations net1 openstack = True,\n",
      " associations concrete_vm concrete_vm = True,\n",
      " association_st_classes concrete_ConcreteInfrastructure::networks = True,\n",
      " associations openstack vm1 = True,\n",
      " associations con_infra concrete_net = True,\n",
      " association_inverse infrastructure_ComputingNode::group infrastructure_AutoScalingGroup::groupedNodes = True,\n",
      " association_mult_ub commons_Deployment::target = True,\n",
      " associations con_infra vm1 = True,\n",
      " attribute_mult_lb commons_DOMLElement::name = True,\n",
      " associations vm1 nginx = True,\n",
      " association_mult_ub infrastructure_FunctionAsAService::ifaces = True,\n",
      " association_st_classes infrastructure_SecurityGroup::groupedNodes = True,\n",
      " attribute_mult_ub infrastructure_Network::address_lb = True,\n",
      " association_st_classes infrastructure_ComputingNode::location = True,\n",
      " association_st_classes infrastructure_VirtualMachine::location = True,\n",
      " attribute_mult_lb application_SoftwareInterface::endPoint = True,\n",
      " association_st_classes concrete_RuntimeProvider::networks = True,\n",
      " vm_iface = True,\n",
      " associations net1 nginx = True,\n",
      " attribute_mult_ub infrastructure_Location::region = True,\n",
      " associations con_infra nginx = True,\n",
      " association_mult_ub concrete_Storage::maps = True,\n",
      " association_st_classes commons_Deployment::source = True,\n",
      " associations con_infra net1 = True,\n",
      " attribute_mult_ub commons_DOMLElement::description = True,\n",
      " association_st_classes application_SoftwareComponent::exposedInterfaces = True,\n",
      " association_inverse infrastructure_ComputingNode::group infrastructure_SecurityGroup::groupedNodes = True,\n",
      " association_mult_lb commons_Deployment::target = True,\n",
      " associations nginx concrete_net = True,\n",
      " elem_class con_infra concrete_ConcreteInfrastructure = True,\n",
      " association_mult_lb infrastructure_Container::host = True,\n",
      " association_st_classes concrete_AutoScalingGroup::maps = True,\n",
      " attribute_values con_infra = True,\n",
      " associations sg openstack = True,\n",
      " associations sg sg = True,\n",
      " association_st_classes concrete_ConcreteInfrastructure::providers = True,\n",
      " attribute_mult_ub infrastructure_ComputingNode::memory = True,\n",
      " attribute_mult_ub infrastructure_Network::protocol = True,\n",
      " elem_class concrete_net concrete_Network = True,\n",
      " attribute_st_types infrastructure_ComputingNode::cpu = True,\n",
      " association_mult_ub infrastructure_Container::host = True,\n",
      " associations openstack openstack = True,\n",
      " association_st_classes infrastructure_InfrastructureLayer::generators = True,\n",
      " attribute_mult_lb infrastructure_Location::region = True,\n",
      " attribute_mult_ub infrastructure_ComputingNode::cost = True,\n",
      " attribute_st_types application_SoftwareComponent::isPersistent = True,\n",
      " association_st_classes infrastructure_Network::subnets = True,\n",
      " association_st_classes infrastructure_InfrastructureLayer::nodes = True,\n",
      " association_st_classes infrastructure_VMImage::generatedVMs = True,\n",
      " associations net1 sg = True,\n",
      " associations nginx con_infra = True,\n",
      " associations concrete_net nginx = True,\n",
      " elem_class sg infrastructure_SecurityGroup = True,\n",
      " associations con_infra sg = True,\n",
      " association_st_classes concrete_RuntimeProvider::faas = True,\n",
      " associations openstack nginx = True,\n",
      " associations concrete_net con_infra = True,\n",
      " associations nginx concrete_vm = True,\n",
      " associations sg net1 = True,\n",
      " association_mult_lb commons_Deployment::source = True,\n",
      " associations net1 concrete_vm = True,\n",
      " association_st_classes infrastructure_Firewall::ifaces = True,\n",
      " associations con_infra openstack = True,\n",
      " attribute_st_types infrastructure_Location::region = True,\n",
      " associations vm1 concrete_net = True,\n",
      " ...]\n"
     ]
    }
   ],
   "source": [
    "m = solver.model()\n",
    "print(m)"
   ]
  },
  {
   "cell_type": "code",
   "execution_count": 20,
   "metadata": {},
   "outputs": [
    {
     "name": "stdout",
     "output_type": "stream",
     "text": [
      "vm1 infrastructure_ComputingNode::ifaces unbound0\n",
      "net1 infrastructure_Network::connectedIfaces unbound0\n",
      "unbound0 infrastructure_NetworkInterface::belongsTo net1\n"
     ]
    }
   ],
   "source": [
    "from itertools import product\n",
    "for (e1n, e1), a, (e2n, e2) in product(elem.items(), assoc.values(), elem.items()):\n",
    "    if (e1n in unbound_elems or e2n in unbound_elems) and m.eval(assoc_rel(e1, a, e2)):\n",
    "        print(e1, a, e2)"
   ]
  }
 ],
 "metadata": {
  "interpreter": {
   "hash": "a6678cf6b5907da3ee1c64f7f36cf1b3f0e5fe51f4038e28403f1c01345fc5bd"
  },
  "kernelspec": {
   "display_name": "Python 3.9.9 64-bit",
   "language": "python",
   "name": "python3"
  },
  "language_info": {
   "codemirror_mode": {
    "name": "ipython",
    "version": 3
   },
   "file_extension": ".py",
   "mimetype": "text/x-python",
   "name": "python",
   "nbconvert_exporter": "python",
   "pygments_lexer": "ipython3",
   "version": "3.9.12"
  },
  "orig_nbformat": 4
 },
 "nbformat": 4,
 "nbformat_minor": 2
}
