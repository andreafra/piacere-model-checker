{
 "cells": [
  {
   "cell_type": "code",
   "execution_count": 1,
   "metadata": {},
   "outputs": [],
   "source": [
    "from mc_openapi.doml_mc.intermediate_model.metamodel import parse_metamodel, parse_inverse_associations\n",
    "import yaml\n",
    "with open(\"../assets/doml_meta.yaml\") as mmf:\n",
    "    mmdoc = yaml.load(mmf, yaml.Loader)\n",
    "mm = parse_metamodel(mmdoc)\n",
    "inv_assoc = parse_inverse_associations(mmdoc)"
   ]
  },
  {
   "cell_type": "code",
   "execution_count": 2,
   "metadata": {},
   "outputs": [],
   "source": [
    "import prettyprinter as pp\n",
    "from prettyprinter.prettyprinter import IMPLICIT_MODULES\n",
    "pp.install_extras(include=['dataclasses'])"
   ]
  },
  {
   "cell_type": "code",
   "execution_count": 3,
   "metadata": {},
   "outputs": [
    {
     "name": "stdout",
     "output_type": "stream",
     "text": [
      "mc_openapi.doml_mc.intermediate_model.metamodel.DOMLClass(\n",
      "    name='application_SoftwareComponent',\n",
      "    superclass='application_ApplicationComponent',\n",
      "    attributes={\n",
      "        'isPersistent': mc_openapi.doml_mc.intermediate_model.metamodel.DOMLAttribute(\n",
      "            name='isPersistent',\n",
      "            type='Boolean',\n",
      "            multiplicity=('1', '1'),\n",
      "            default=False\n",
      "        ),\n",
      "        'licenseCost': mc_openapi.doml_mc.intermediate_model.metamodel.DOMLAttribute(\n",
      "            name='licenseCost',\n",
      "            type='String',\n",
      "            multiplicity=('0', '1'),\n",
      "            default=None\n",
      "        ),\n",
      "        'configFile': mc_openapi.doml_mc.intermediate_model.metamodel.DOMLAttribute(\n",
      "            name='configFile',\n",
      "            type='String',\n",
      "            multiplicity=('0', '1'),\n",
      "            default=None\n",
      "        )\n",
      "    },\n",
      "    associations={\n",
      "        'exposedInterfaces': mc_openapi.doml_mc.intermediate_model.metamodel.DOMLAssociation(\n",
      "            name='exposedInterfaces',\n",
      "            class_='application_SoftwareInterface',\n",
      "            multiplicity=('0', '*')\n",
      "        ),\n",
      "        'consumedInterfaces': mc_openapi.doml_mc.intermediate_model.metamodel.DOMLAssociation(\n",
      "            name='consumedInterfaces',\n",
      "            class_='application_SoftwareInterface',\n",
      "            multiplicity=('0', '*')\n",
      "        )\n",
      "    }\n",
      ")\n"
     ]
    }
   ],
   "source": [
    "IMPLICIT_MODULES.add('doml_mc.intermediate_model.metamodel')\n",
    "pp.pprint(mm[\"application_SoftwareComponent\"])"
   ]
  },
  {
   "cell_type": "markdown",
   "metadata": {},
   "source": [
    "### Load the DOML document here:"
   ]
  },
  {
   "cell_type": "code",
   "execution_count": 4,
   "metadata": {},
   "outputs": [
    {
     "name": "stdout",
     "output_type": "stream",
     "text": [
      "{'source_code': DOMLElement(name='source_code', class_='commons_SProperty', attributes={'commons_SProperty::value': '/usr/share/nginx/html/index.html', 'commons_Property::key': 'source_code'}, associations={}), 'nginx': DOMLElement(name='nginx', class_='application_SoftwareComponent', attributes={'application_SoftwareComponent::isPersistent': False, 'commons_DOMLElement::name': 'nginx'}, associations={'commons_DOMLElement::annotations': {'source_code'}}), 'app': DOMLElement(name='app', class_='application_ApplicationLayer', attributes={'commons_DOMLElement::name': 'app'}, associations={'application_ApplicationLayer::components': {'nginx'}}), 'ssh_key': DOMLElement(name='ssh_key', class_='infrastructure_KeyPair', attributes={'infrastructure_KeyPair::algorithm': 'RSA', 'infrastructure_KeyPair::keyfile': '/home/user1/.ssh/openstack.key', 'infrastructure_KeyPair::bits': 4096, 'infrastructure_KeyPair::user': 'ubuntu', 'commons_DOMLElement::name': 'ssh_key'}, associations={}), 'out_all': DOMLElement(name='out_all', class_='infrastructure_Rule', attributes={'infrastructure_Rule::fromPort': 0, 'infrastructure_Rule::protocol': '-1', 'infrastructure_Rule::toPort': 0, 'commons_DOMLElement::name': 'out_all', 'infrastructure_Rule::kind': 'EGRESS'}, associations={}), 'http': DOMLElement(name='http', class_='infrastructure_Rule', attributes={'infrastructure_Rule::fromPort': 80, 'infrastructure_Rule::protocol': 'tcp', 'infrastructure_Rule::toPort': 80, 'commons_DOMLElement::name': 'http', 'infrastructure_Rule::kind': 'INGRESS'}, associations={}), 'https': DOMLElement(name='https', class_='infrastructure_Rule', attributes={'infrastructure_Rule::fromPort': 443, 'infrastructure_Rule::protocol': 'tcp', 'infrastructure_Rule::toPort': 443, 'commons_DOMLElement::name': 'https', 'infrastructure_Rule::kind': 'INGRESS'}, associations={}), 'ssh': DOMLElement(name='ssh', class_='infrastructure_Rule', attributes={'infrastructure_Rule::fromPort': 22, 'infrastructure_Rule::protocol': 'tcp', 'infrastructure_Rule::toPort': 22, 'commons_DOMLElement::name': 'ssh', 'infrastructure_Rule::kind': 'INGRESS'}, associations={}), 'sg': DOMLElement(name='sg', class_='infrastructure_SecurityGroup', attributes={'commons_DOMLElement::name': 'sg'}, associations={'infrastructure_SecurityGroup::rules': {'https', 'out_all', 'ssh', 'http'}, 'infrastructure_ComputingGroup::groupedNodes': {'vm1'}, 'infrastructure_SecurityGroup::ifaces': {'i1'}}), 'net1': DOMLElement(name='net1', class_='infrastructure_VPC', attributes={'commons_DOMLElement::name': 'net1', 'infrastructure_Network::address_lb': 268435456, 'infrastructure_Network::address_ub': 268435711, 'infrastructure_Network::protocol': 'tcp/ip'}, associations={'infrastructure_Network::connectedIfaces': {'i1'}}), 'i1': DOMLElement(name='i1', class_='infrastructure_NetworkInterface', attributes={'infrastructure_NetworkInterface::endPoint': 268435457, 'commons_DOMLElement::name': 'i1'}, associations={'infrastructure_NetworkInterface::associated': {'sg'}, 'infrastructure_NetworkInterface::belongsTo': {'net1'}}), 'vm1': DOMLElement(name='vm1', class_='infrastructure_VirtualMachine', attributes={'commons_DOMLElement::name': 'vm1'}, associations={'infrastructure_ComputingNode::credentials': {'ssh_key'}, 'infrastructure_ComputingNode::ifaces': {'i1'}, 'infrastructure_ComputingNode::group': {'sg'}, 'infrastructure_VirtualMachine::generatedFrom': {'v_img'}}), 'v_img': DOMLElement(name='v_img', class_='infrastructure_VMImage', attributes={'commons_DOMLElement::name': 'v_img', 'infrastructure_ComputingNodeGenerator::kind': 'SCRIPT'}, associations={'infrastructure_VMImage::generatedVMs': {'vm1'}}), 'ag': DOMLElement(name='ag', class_='infrastructure_AutoScalingGroup', attributes={'infrastructure_AutoScalingGroup::loadBalancer': 'DEFAULT', 'infrastructure_AutoScalingGroup::min': 1, 'commons_DOMLElement::name': 'ag', 'infrastructure_AutoScalingGroup::max': 1}, associations={'infrastructure_AutoScalingGroup::deploymentNetwork': {'net1'}, 'infrastructure_AutoScalingGroup::machineDefinition': {'vm1'}}), 'infra': DOMLElement(name='infra', class_='infrastructure_InfrastructureLayer', attributes={'commons_DOMLElement::name': 'infra'}, associations={'infrastructure_InfrastructureLayer::generators': {'v_img'}, 'infrastructure_InfrastructureLayer::networks': {'net1'}, 'infrastructure_InfrastructureLayer::credentials': {'ssh_key'}, 'infrastructure_InfrastructureLayer::secGroups': {'sg'}, 'infrastructure_InfrastructureLayer::nodes': {'ag'}}), 'name': DOMLElement(name='name', class_='commons_SProperty', attributes={'commons_SProperty::value': 'ubuntu-20.04.3', 'commons_Property::key': 'name'}, associations={}), 'concrete_vm_image': DOMLElement(name='concrete_vm_image', class_='concrete_VMImage', attributes={'commons_DOMLElement::name': 'concrete_vm_image'}, associations={'commons_DOMLElement::annotations': {'name'}, 'concrete_VMImage::maps': {'v_img'}}), 'vm_name': DOMLElement(name='vm_name', class_='commons_SProperty', attributes={'commons_SProperty::value': 'nginx-host', 'commons_Property::key': 'vm_name'}, associations={}), 'vm_flavor': DOMLElement(name='vm_flavor', class_='commons_SProperty', attributes={'commons_SProperty::value': 'small', 'commons_Property::key': 'vm_flavor'}, associations={}), 'vm_key_name': DOMLElement(name='vm_key_name', class_='commons_SProperty', attributes={'commons_SProperty::value': 'user1', 'commons_Property::key': 'vm_key_name'}, associations={}), 'concrete_vm': DOMLElement(name='concrete_vm', class_='concrete_VirtualMachine', attributes={'commons_DOMLElement::name': 'concrete_vm'}, associations={'commons_DOMLElement::annotations': {'vm_name', 'vm_key_name', 'vm_flavor'}, 'concrete_VirtualMachine::maps': {'vm1'}}), 'concrete_net': DOMLElement(name='concrete_net', class_='concrete_Network', attributes={'commons_DOMLElement::name': 'concrete_net'}, associations={'commons_DOMLElement::annotations': {'name'}, 'concrete_Network::maps': {'net1'}}), 'openstack': DOMLElement(name='openstack', class_='concrete_RuntimeProvider', attributes={'commons_DOMLElement::name': 'openstack'}, associations={'concrete_RuntimeProvider::vmImages': {'concrete_vm_image'}, 'concrete_RuntimeProvider::vms': {'concrete_vm'}, 'concrete_RuntimeProvider::networks': {'concrete_net'}}), 'con_infra': DOMLElement(name='con_infra', class_='concrete_ConcreteInfrastructure', attributes={'commons_DOMLElement::name': 'con_infra'}, associations={'concrete_ConcreteInfrastructure::providers': {'openstack'}})}\n"
     ]
    },
    {
     "name": "stderr",
     "output_type": "stream",
     "text": [
      "Attribute addressRanges of multiplicity > 1 not supported yet.\n",
      "Attribute addressRanges of multiplicity > 1 not supported yet.\n",
      "Attribute addressRanges of multiplicity > 1 not supported yet.\n",
      "Attribute addressRanges of multiplicity > 1 not supported yet.\n"
     ]
    }
   ],
   "source": [
    "from mc_openapi.doml_mc.xmi_parser.doml_model import parse_doml_model\n",
    "doml_document_path = \"../../tests/doml/nginx-openstack_v2.domlx\"\n",
    "# doml_document_path = \"../../tests/doml/nginx-openstack_v2_wrong.domlx\"\n",
    "with open(doml_document_path, \"rb\") as xmif:\n",
    "    doc = xmif.read()\n",
    "\n",
    "im = parse_doml_model(doc, mm)\n",
    "print(im)"
   ]
  },
  {
   "cell_type": "code",
   "execution_count": 5,
   "metadata": {},
   "outputs": [],
   "source": [
    "from mc_openapi.doml_mc.xmi_parser.doml_model import parse_xmi_model\n",
    "doml_xmi = parse_xmi_model(doc)"
   ]
  },
  {
   "cell_type": "code",
   "execution_count": 6,
   "metadata": {},
   "outputs": [
    {
     "name": "stdout",
     "output_type": "stream",
     "text": [
      "['abstract', 'allInstances', 'defaultValue', 'eAllAttributes', 'eAllOperations', 'eAllReferences', 'eAllStructuralFeatures', 'eAllSuperTypes', 'eAnnotations', 'eAttributes', 'eGenericSuperTypes', 'eOperations', 'ePackage', 'eReferences', 'eStructuralFeatures', 'eSuperTypes', 'eTypeParameters', 'eURIFragment', 'findEOperation', 'findEStructuralFeature', 'getEAnnotation', 'instanceClass', 'instanceClassName', 'instanceTypeName', 'interface', 'name', 'notifyChanged']\n",
      "infrastructure\n",
      "0\n",
      "<EClass name=\"ConcreteInfrastructure\">\n"
     ]
    }
   ],
   "source": [
    "print(dir(doml_xmi.eClass))\n",
    "print(doml_xmi.infrastructure.eClass.ePackage.name)\n",
    "print(doml_xmi.infrastructure.eClass.eAllReferences().pop().lower)\n",
    "print(doml_xmi.activeInfrastructure.eClass)"
   ]
  },
  {
   "cell_type": "code",
   "execution_count": 7,
   "metadata": {},
   "outputs": [],
   "source": [
    "from mc_openapi.doml_mc.intermediate_model.doml_element import reciprocate_inverse_associations\n",
    "reciprocate_inverse_associations(im, inv_assoc)"
   ]
  },
  {
   "cell_type": "code",
   "execution_count": 8,
   "metadata": {},
   "outputs": [
    {
     "name": "stdout",
     "output_type": "stream",
     "text": [
      "{\n",
      "    'source_code': mc_openapi.doml_mc.intermediate_model.doml_element.DOMLElement(\n",
      "        name='source_code',\n",
      "        class_='commons_SProperty',\n",
      "        attributes={\n",
      "            'commons_SProperty::value': '/usr/share/nginx/html/index.html',\n",
      "            'commons_Property::key': 'source_code'\n",
      "        },\n",
      "        associations={}\n",
      "    ),\n",
      "    'nginx': mc_openapi.doml_mc.intermediate_model.doml_element.DOMLElement(\n",
      "        name='nginx',\n",
      "        class_='application_SoftwareComponent',\n",
      "        attributes={\n",
      "            'application_SoftwareComponent::isPersistent': False,\n",
      "            'commons_DOMLElement::name': 'nginx'\n",
      "        },\n",
      "        associations={'commons_DOMLElement::annotations': {'source_code'}}\n",
      "    ),\n",
      "    'app': mc_openapi.doml_mc.intermediate_model.doml_element.DOMLElement(\n",
      "        name='app',\n",
      "        class_='application_ApplicationLayer',\n",
      "        attributes={'commons_DOMLElement::name': 'app'},\n",
      "        associations={'application_ApplicationLayer::components': {'nginx'}}\n",
      "    ),\n",
      "    'ssh_key': mc_openapi.doml_mc.intermediate_model.doml_element.DOMLElement(\n",
      "        name='ssh_key',\n",
      "        class_='infrastructure_KeyPair',\n",
      "        attributes={\n",
      "            'infrastructure_KeyPair::algorithm': 'RSA',\n",
      "            'infrastructure_KeyPair::keyfile': '/home/user1/.ssh/openstack.key',\n",
      "            'infrastructure_KeyPair::bits': 4096,\n",
      "            'infrastructure_KeyPair::user': 'ubuntu',\n",
      "            'commons_DOMLElement::name': 'ssh_key'\n",
      "        },\n",
      "        associations={}\n",
      "    ),\n",
      "    'out_all': mc_openapi.doml_mc.intermediate_model.doml_element.DOMLElement(\n",
      "        name='out_all',\n",
      "        class_='infrastructure_Rule',\n",
      "        attributes={\n",
      "            'infrastructure_Rule::fromPort': 0,\n",
      "            'infrastructure_Rule::protocol': '-1',\n",
      "            'infrastructure_Rule::toPort': 0,\n",
      "            'commons_DOMLElement::name': 'out_all',\n",
      "            'infrastructure_Rule::kind': 'EGRESS'\n",
      "        },\n",
      "        associations={}\n",
      "    ),\n",
      "    'http': mc_openapi.doml_mc.intermediate_model.doml_element.DOMLElement(\n",
      "        name='http',\n",
      "        class_='infrastructure_Rule',\n",
      "        attributes={\n",
      "            'infrastructure_Rule::fromPort': 80,\n",
      "            'infrastructure_Rule::protocol': 'tcp',\n",
      "            'infrastructure_Rule::toPort': 80,\n",
      "            'commons_DOMLElement::name': 'http',\n",
      "            'infrastructure_Rule::kind': 'INGRESS'\n",
      "        },\n",
      "        associations={}\n",
      "    ),\n",
      "    'https': mc_openapi.doml_mc.intermediate_model.doml_element.DOMLElement(\n",
      "        name='https',\n",
      "        class_='infrastructure_Rule',\n",
      "        attributes={\n",
      "            'infrastructure_Rule::fromPort': 443,\n",
      "            'infrastructure_Rule::protocol': 'tcp',\n",
      "            'infrastructure_Rule::toPort': 443,\n",
      "            'commons_DOMLElement::name': 'https',\n",
      "            'infrastructure_Rule::kind': 'INGRESS'\n",
      "        },\n",
      "        associations={}\n",
      "    ),\n",
      "    'ssh': mc_openapi.doml_mc.intermediate_model.doml_element.DOMLElement(\n",
      "        name='ssh',\n",
      "        class_='infrastructure_Rule',\n",
      "        attributes={\n",
      "            'infrastructure_Rule::fromPort': 22,\n",
      "            'infrastructure_Rule::protocol': 'tcp',\n",
      "            'infrastructure_Rule::toPort': 22,\n",
      "            'commons_DOMLElement::name': 'ssh',\n",
      "            'infrastructure_Rule::kind': 'INGRESS'\n",
      "        },\n",
      "        associations={}\n",
      "    ),\n",
      "    'sg': mc_openapi.doml_mc.intermediate_model.doml_element.DOMLElement(\n",
      "        name='sg',\n",
      "        class_='infrastructure_SecurityGroup',\n",
      "        attributes={'commons_DOMLElement::name': 'sg'},\n",
      "        associations={\n",
      "            'infrastructure_SecurityGroup::rules': {\n",
      "                'https',\n",
      "                'out_all',\n",
      "                'ssh',\n",
      "                'http'\n",
      "            },\n",
      "            'infrastructure_ComputingGroup::groupedNodes': {'vm1'},\n",
      "            'infrastructure_SecurityGroup::ifaces': {'i1'}\n",
      "        }\n",
      "    ),\n",
      "    'net1': mc_openapi.doml_mc.intermediate_model.doml_element.DOMLElement(\n",
      "        name='net1',\n",
      "        class_='infrastructure_VPC',\n",
      "        attributes={\n",
      "            'commons_DOMLElement::name': 'net1',\n",
      "            'infrastructure_Network::address_lb': 268435456,\n",
      "            'infrastructure_Network::address_ub': 268435711,\n",
      "            'infrastructure_Network::protocol': 'tcp/ip'\n",
      "        },\n",
      "        associations={'infrastructure_Network::connectedIfaces': {'i1'}}\n",
      "    ),\n",
      "    'i1': mc_openapi.doml_mc.intermediate_model.doml_element.DOMLElement(\n",
      "        name='i1',\n",
      "        class_='infrastructure_NetworkInterface',\n",
      "        attributes={\n",
      "            'infrastructure_NetworkInterface::endPoint': 268435457,\n",
      "            'commons_DOMLElement::name': 'i1'\n",
      "        },\n",
      "        associations={\n",
      "            'infrastructure_NetworkInterface::associated': {'sg'},\n",
      "            'infrastructure_NetworkInterface::belongsTo': {'net1'}\n",
      "        }\n",
      "    ),\n",
      "    'vm1': mc_openapi.doml_mc.intermediate_model.doml_element.DOMLElement(\n",
      "        name='vm1',\n",
      "        class_='infrastructure_VirtualMachine',\n",
      "        attributes={'commons_DOMLElement::name': 'vm1'},\n",
      "        associations={\n",
      "            'infrastructure_ComputingNode::credentials': {'ssh_key'},\n",
      "            'infrastructure_ComputingNode::ifaces': {'i1'},\n",
      "            'infrastructure_ComputingNode::group': {'sg'},\n",
      "            'infrastructure_VirtualMachine::generatedFrom': {'v_img'}\n",
      "        }\n",
      "    ),\n",
      "    'v_img': mc_openapi.doml_mc.intermediate_model.doml_element.DOMLElement(\n",
      "        name='v_img',\n",
      "        class_='infrastructure_VMImage',\n",
      "        attributes={\n",
      "            'commons_DOMLElement::name': 'v_img',\n",
      "            'infrastructure_ComputingNodeGenerator::kind': 'SCRIPT'\n",
      "        },\n",
      "        associations={'infrastructure_VMImage::generatedVMs': {'vm1'}}\n",
      "    ),\n",
      "    'ag': mc_openapi.doml_mc.intermediate_model.doml_element.DOMLElement(\n",
      "        name='ag',\n",
      "        class_='infrastructure_AutoScalingGroup',\n",
      "        attributes={\n",
      "            'infrastructure_AutoScalingGroup::loadBalancer': 'DEFAULT',\n",
      "            'infrastructure_AutoScalingGroup::min': 1,\n",
      "            'commons_DOMLElement::name': 'ag',\n",
      "            'infrastructure_AutoScalingGroup::max': 1\n",
      "        },\n",
      "        associations={\n",
      "            'infrastructure_AutoScalingGroup::deploymentNetwork': {'net1'},\n",
      "            'infrastructure_AutoScalingGroup::machineDefinition': {'vm1'}\n",
      "        }\n",
      "    ),\n",
      "    'infra': mc_openapi.doml_mc.intermediate_model.doml_element.DOMLElement(\n",
      "        name='infra',\n",
      "        class_='infrastructure_InfrastructureLayer',\n",
      "        attributes={'commons_DOMLElement::name': 'infra'},\n",
      "        associations={\n",
      "            'infrastructure_InfrastructureLayer::generators': {'v_img'},\n",
      "            'infrastructure_InfrastructureLayer::networks': {'net1'},\n",
      "            'infrastructure_InfrastructureLayer::credentials': {'ssh_key'},\n",
      "            'infrastructure_InfrastructureLayer::secGroups': {'sg'},\n",
      "            'infrastructure_InfrastructureLayer::nodes': {'ag'}\n",
      "        }\n",
      "    ),\n",
      "    'name': mc_openapi.doml_mc.intermediate_model.doml_element.DOMLElement(\n",
      "        name='name',\n",
      "        class_='commons_SProperty',\n",
      "        attributes={\n",
      "            'commons_SProperty::value': 'ubuntu-20.04.3',\n",
      "            'commons_Property::key': 'name'\n",
      "        },\n",
      "        associations={}\n",
      "    ),\n",
      "    'concrete_vm_image': mc_openapi.doml_mc.intermediate_model.doml_element.DOMLElement(\n",
      "        name='concrete_vm_image',\n",
      "        class_='concrete_VMImage',\n",
      "        attributes={'commons_DOMLElement::name': 'concrete_vm_image'},\n",
      "        associations={\n",
      "            'commons_DOMLElement::annotations': {'name'},\n",
      "            'concrete_VMImage::maps': {'v_img'}\n",
      "        }\n",
      "    ),\n",
      "    'vm_name': mc_openapi.doml_mc.intermediate_model.doml_element.DOMLElement(\n",
      "        name='vm_name',\n",
      "        class_='commons_SProperty',\n",
      "        attributes={\n",
      "            'commons_SProperty::value': 'nginx-host',\n",
      "            'commons_Property::key': 'vm_name'\n",
      "        },\n",
      "        associations={}\n",
      "    ),\n",
      "    'vm_flavor': mc_openapi.doml_mc.intermediate_model.doml_element.DOMLElement(\n",
      "        name='vm_flavor',\n",
      "        class_='commons_SProperty',\n",
      "        attributes={\n",
      "            'commons_SProperty::value': 'small',\n",
      "            'commons_Property::key': 'vm_flavor'\n",
      "        },\n",
      "        associations={}\n",
      "    ),\n",
      "    'vm_key_name': mc_openapi.doml_mc.intermediate_model.doml_element.DOMLElement(\n",
      "        name='vm_key_name',\n",
      "        class_='commons_SProperty',\n",
      "        attributes={\n",
      "            'commons_SProperty::value': 'user1',\n",
      "            'commons_Property::key': 'vm_key_name'\n",
      "        },\n",
      "        associations={}\n",
      "    ),\n",
      "    'concrete_vm': mc_openapi.doml_mc.intermediate_model.doml_element.DOMLElement(\n",
      "        name='concrete_vm',\n",
      "        class_='concrete_VirtualMachine',\n",
      "        attributes={'commons_DOMLElement::name': 'concrete_vm'},\n",
      "        associations={\n",
      "            'commons_DOMLElement::annotations': {\n",
      "                'vm_name',\n",
      "                'vm_key_name',\n",
      "                'vm_flavor'\n",
      "            },\n",
      "            'concrete_VirtualMachine::maps': {'vm1'}\n",
      "        }\n",
      "    ),\n",
      "    'concrete_net': mc_openapi.doml_mc.intermediate_model.doml_element.DOMLElement(\n",
      "        name='concrete_net',\n",
      "        class_='concrete_Network',\n",
      "        attributes={'commons_DOMLElement::name': 'concrete_net'},\n",
      "        associations={\n",
      "            'commons_DOMLElement::annotations': {'name'},\n",
      "            'concrete_Network::maps': {'net1'}\n",
      "        }\n",
      "    ),\n",
      "    'openstack': mc_openapi.doml_mc.intermediate_model.doml_element.DOMLElement(\n",
      "        name='openstack',\n",
      "        class_='concrete_RuntimeProvider',\n",
      "        attributes={'commons_DOMLElement::name': 'openstack'},\n",
      "        associations={\n",
      "            'concrete_RuntimeProvider::vmImages': {'concrete_vm_image'},\n",
      "            'concrete_RuntimeProvider::vms': {'concrete_vm'},\n",
      "            'concrete_RuntimeProvider::networks': {'concrete_net'}\n",
      "        }\n",
      "    ),\n",
      "    'con_infra': mc_openapi.doml_mc.intermediate_model.doml_element.DOMLElement(\n",
      "        name='con_infra',\n",
      "        class_='concrete_ConcreteInfrastructure',\n",
      "        attributes={'commons_DOMLElement::name': 'con_infra'},\n",
      "        associations={\n",
      "            'concrete_ConcreteInfrastructure::providers': {'openstack'}\n",
      "        }\n",
      "    )\n",
      "}\n"
     ]
    }
   ],
   "source": [
    "IMPLICIT_MODULES.add('doml_mc.intermediate_model.doml_element')\n",
    "pp.pprint(im)"
   ]
  },
  {
   "cell_type": "code",
   "execution_count": 9,
   "metadata": {},
   "outputs": [],
   "source": [
    "unbound_elems_n = 0\n",
    "unbound_elems = [f\"unbound{i}\" for i in range(unbound_elems_n)]"
   ]
  },
  {
   "cell_type": "code",
   "execution_count": 10,
   "metadata": {},
   "outputs": [],
   "source": [
    "from z3 import Solver\n",
    "\n",
    "from mc_openapi.doml_mc.z3encoding.metamodel_encoding import (\n",
    "    def_association_rel_and_assert_constraints,\n",
    "    def_attribute_rel_and_assert_constraints,\n",
    "    mk_association_sort_dict,\n",
    "    mk_attribute_sort_dict,\n",
    "    mk_class_sort_dict\n",
    ")\n",
    "from mc_openapi.doml_mc.z3encoding.im_encoding import (\n",
    "    assert_im_associations_q,\n",
    "    assert_im_attributes,\n",
    "    def_elem_class_f_and_assert_classes,\n",
    "    mk_elem_sort_dict,\n",
    "    mk_stringsym_sort_dict\n",
    ")\n",
    "from mc_openapi.doml_mc.z3encoding.utils import mk_adata_sort\n",
    "\n",
    "solver = Solver()\n",
    "\n",
    "class_sort, class_ = mk_class_sort_dict(mm)\n",
    "assoc_sort, assoc = mk_association_sort_dict(mm)\n",
    "attr_sort, attr = mk_attribute_sort_dict(mm)\n",
    "elem_sort, elem = mk_elem_sort_dict(im, unbound_elems)\n",
    "ss_sort, ss = mk_stringsym_sort_dict(im, mm)\n",
    "AData = mk_adata_sort(ss_sort)\n",
    "elem_class_f = def_elem_class_f_and_assert_classes(\n",
    "    im,\n",
    "    solver,\n",
    "    elem_sort,\n",
    "    elem,\n",
    "    class_sort,\n",
    "    class_\n",
    ")\n",
    "attr_rel = def_attribute_rel_and_assert_constraints(\n",
    "    mm,\n",
    "    solver,\n",
    "    attr_sort,\n",
    "    attr,\n",
    "    class_,\n",
    "    elem_class_f,\n",
    "    elem_sort,\n",
    "    AData,\n",
    "    ss\n",
    ")\n",
    "assert_im_attributes(\n",
    "    attr_rel,\n",
    "    solver,\n",
    "    im,\n",
    "    mm,\n",
    "    elem,\n",
    "    attr_sort,\n",
    "    attr,\n",
    "    AData,\n",
    "    ss\n",
    ")\n",
    "assoc_rel = def_association_rel_and_assert_constraints(\n",
    "    mm,\n",
    "    solver,\n",
    "    assoc_sort,\n",
    "    assoc,\n",
    "    class_,\n",
    "    elem_class_f,\n",
    "    elem_sort,\n",
    "    inv_assoc\n",
    ")\n",
    "assert_im_associations_q(\n",
    "    assoc_rel,\n",
    "    solver,\n",
    "    {k: v for k, v in im.items() if k not in unbound_elems},\n",
    "    elem,\n",
    "    assoc_sort,\n",
    "    assoc,\n",
    ")"
   ]
  },
  {
   "cell_type": "code",
   "execution_count": 11,
   "metadata": {},
   "outputs": [],
   "source": [
    "# solver.push()"
   ]
  },
  {
   "cell_type": "markdown",
   "metadata": {},
   "source": [
    "### Metamodel statistics"
   ]
  },
  {
   "cell_type": "code",
   "execution_count": 12,
   "metadata": {},
   "outputs": [
    {
     "name": "stdout",
     "output_type": "stream",
     "text": [
      "Number of classes: 48\n",
      "Number of tuples in the subclass relation: 125\n",
      "Number of attributes: 46\n",
      "Number of attribute assertions: 138\n",
      "Number of associations: 54\n",
      "Number of associations assertions: 168\n"
     ]
    }
   ],
   "source": [
    "from mc_openapi.doml_mc.intermediate_model.metamodel import get_subclasses_dict\n",
    "\n",
    "print(\"Number of classes:\", len(mm))\n",
    "print(\n",
    "    \"Number of tuples in the subclass relation:\",\n",
    "    sum(len(s) for s in get_subclasses_dict(mm).values())\n",
    ")\n",
    "n_attrs = sum(len(c.attributes) for c in mm.values())\n",
    "print(\"Number of attributes:\", n_attrs)\n",
    "print(\"Number of attribute assertions:\", 3 * n_attrs)\n",
    "n_assocs = sum(len(c.associations) for c in mm.values())\n",
    "print(\"Number of associations:\", n_assocs)\n",
    "print(\"Number of associations assertions:\", 3 * n_assocs + len(inv_assoc))\n",
    "\n"
   ]
  },
  {
   "cell_type": "markdown",
   "metadata": {},
   "source": [
    "### DOML model statistics"
   ]
  },
  {
   "cell_type": "code",
   "execution_count": 13,
   "metadata": {},
   "outputs": [
    {
     "name": "stdout",
     "output_type": "stream",
     "text": [
      "Number of elements: 24\n",
      "Number of attributes (IM): 58\n",
      "Number of associations (IM): 35\n",
      "Number of string symbols: 40\n",
      "Number of IM attribute assertions: 24\n",
      "Number of IM association assertions: 576\n"
     ]
    }
   ],
   "source": [
    "n_elems = len(im)\n",
    "print(\"Number of elements:\", n_elems)\n",
    "n_attrs_im = sum(len(e.attributes) for e in im.values())\n",
    "print(\"Number of attributes (IM):\", n_attrs_im)\n",
    "n_assocs_im = sum(len(a) for e in im.values() for a in e.associations.values())\n",
    "print(\"Number of associations (IM):\", n_assocs_im)\n",
    "print(\"Number of string symbols:\", len(ss))\n",
    "print(\"Number of IM attribute assertions:\", n_elems)\n",
    "print(\"Number of IM association assertions:\", n_elems ** 2)"
   ]
  },
  {
   "cell_type": "code",
   "execution_count": 14,
   "metadata": {},
   "outputs": [
    {
     "data": {
      "text/html": [
       "<b>sat</b>"
      ],
      "text/plain": [
       "sat"
      ]
     },
     "execution_count": 14,
     "metadata": {},
     "output_type": "execute_result"
    }
   ],
   "source": [
    "solver.check()"
   ]
  },
  {
   "cell_type": "code",
   "execution_count": 15,
   "metadata": {},
   "outputs": [
    {
     "data": {
      "text/html": [
       "[]"
      ],
      "text/plain": [
       "[]"
      ]
     },
     "execution_count": 15,
     "metadata": {},
     "output_type": "execute_result"
    }
   ],
   "source": [
    "solver.unsat_core()"
   ]
  },
  {
   "cell_type": "code",
   "execution_count": 16,
   "metadata": {},
   "outputs": [
    {
     "data": {
      "text/plain": [
       "(:added-eqs               35477\n",
       " :arith-make-feasible     8\n",
       " :arith-max-columns       11\n",
       " :binary-propagations     811\n",
       " :conflicts               152\n",
       " :datatype-accessor-ax    1126\n",
       " :datatype-constructor-ax 14206\n",
       " :datatype-splits         2487\n",
       " :decisions               105541\n",
       " :del-clause              44\n",
       " :final-checks            8\n",
       " :max-generation          4\n",
       " :max-memory              30.89\n",
       " :memory                  30.89\n",
       " :mk-bool-var             4831\n",
       " :mk-clause               1177\n",
       " :num-allocs              62552337\n",
       " :num-checks              1\n",
       " :propagations            19890\n",
       " :quant-instantiations    1350\n",
       " :restarts                4\n",
       " :rlimit-count            15300741\n",
       " :time                    1.89)"
      ]
     },
     "execution_count": 16,
     "metadata": {},
     "output_type": "execute_result"
    }
   ],
   "source": [
    "solver.statistics()"
   ]
  },
  {
   "cell_type": "code",
   "execution_count": 17,
   "metadata": {},
   "outputs": [],
   "source": [
    "from z3 import Consts, ForAll, Exists, Implies, And, Or"
   ]
  },
  {
   "cell_type": "code",
   "execution_count": 18,
   "metadata": {},
   "outputs": [],
   "source": [
    "# All VMs have a network interface.\n",
    "vm, iface = Consts(\n",
    "    \"vm iface\", elem_sort\n",
    ")\n",
    "vmIfaceAssertion = ForAll(\n",
    "    [vm],\n",
    "    Implies(\n",
    "        elem_class_f(vm) == class_[\"infrastructure_VirtualMachine\"],\n",
    "        Exists(\n",
    "            [iface],\n",
    "            And(\n",
    "                assoc_rel(vm, assoc[\"infrastructure_ComputingNode::ifaces\"], iface)\n",
    "            )\n",
    "        )\n",
    "    )\n",
    ")\n",
    "solver.assert_and_track(vmIfaceAssertion, \"vm_iface\")"
   ]
  },
  {
   "cell_type": "code",
   "execution_count": 19,
   "metadata": {},
   "outputs": [
    {
     "data": {
      "text/html": [
       "<b>sat</b>"
      ],
      "text/plain": [
       "sat"
      ]
     },
     "execution_count": 19,
     "metadata": {},
     "output_type": "execute_result"
    }
   ],
   "source": [
    "solver.check()"
   ]
  },
  {
   "cell_type": "code",
   "execution_count": 20,
   "metadata": {},
   "outputs": [
    {
     "data": {
      "text/plain": [
       "42.73"
      ]
     },
     "execution_count": 20,
     "metadata": {},
     "output_type": "execute_result"
    }
   ],
   "source": [
    "solver.statistics().memory"
   ]
  },
  {
   "cell_type": "code",
   "execution_count": 21,
   "metadata": {},
   "outputs": [
    {
     "name": "stdout",
     "output_type": "stream",
     "text": [
      "[attribute_st_types infrastructure_Rule::toPort = True,\n",
      " associations sg out_all = True,\n",
      " associations i1 http = True,\n",
      " associations ag http = True,\n",
      " associations vm_flavor con_infra = True,\n",
      " associations openstack concrete_vm_image = True,\n",
      " attribute_mult_ub commons_BProperty::value = True,\n",
      " associations v_img name = True,\n",
      " attribute_mult_lb infrastructure_Rule::kind = True,\n",
      " associations vm1 name = True,\n",
      " attribute_st_types commons_DOMLElement::name = True,\n",
      " association_mult_ub concrete_FunctionAsAService::maps = True,\n",
      " associations concrete_vm vm_key_name = True,\n",
      " associations app openstack = True,\n",
      " association_inverse infrastructure_Container::generatedFrom infrastructure_ContainerImage::generatedContainers = True,\n",
      " associations app concrete_vm = True,\n",
      " associations out_all v_img = True,\n",
      " association_mult_ub infrastructure_Container::generatedFrom = True,\n",
      " association_st_classes infrastructure_FunctionAsAService::ifaces = True,\n",
      " associations net1 ssh = True,\n",
      " associations con_infra con_infra = True,\n",
      " associations https concrete_vm = True,\n",
      " associations sg ssh = True,\n",
      " associations vm_name v_img = True,\n",
      " associations ssh_key openstack = True,\n",
      " association_st_classes infrastructure_Storage::ifaces = True,\n",
      " associations openstack vm_flavor = True,\n",
      " associations nginx nginx = True,\n",
      " attribute_st_types infrastructure_Rule::addressRanges = True,\n",
      " associations vm_flavor v_img = True,\n",
      " associations v_img ag = True,\n",
      " association_st_classes concrete_ComputingGroup::maps = True,\n",
      " attribute_mult_lb infrastructure_Rule::protocol = True,\n",
      " associations vm1 ag = True,\n",
      " associations ag vm_flavor = True,\n",
      " attribute_mult_ub infrastructure_KeyPair::bits = True,\n",
      " associations nginx openstack = True,\n",
      " associations app sg = True,\n",
      " association_mult_ub commons_Property::reference = True,\n",
      " associations nginx infra = True,\n",
      " associations concrete_net vm_key_name = True,\n",
      " associations https concrete_vm_image = True,\n",
      " associations v_img vm_name = True,\n",
      " associations concrete_net openstack = True,\n",
      " attribute_st_types commons_Property::key = True,\n",
      " association_mult_ub commons_Deployment::source = True,\n",
      " associations concrete_vm_image v_img = True,\n",
      " associations source_code https = True,\n",
      " associations vm_name vm_flavor = True,\n",
      " elem_class concrete_vm concrete_VirtualMachine = True,\n",
      " attribute_mult_ub application_SoftwareComponent::isPersistent = True,\n",
      " associations https ssh = True,\n",
      " associations https vm1 = True,\n",
      " associations ag net1 = True,\n",
      " associations http source_code = True,\n",
      " association_mult_ub concrete_VirtualMachine::maps = True,\n",
      " association_st_classes commons_Deployment::target = True,\n",
      " associations net1 con_infra = True,\n",
      " attribute_st_types concrete_ConcreteElement::configurationScript = True,\n",
      " association_mult_ub infrastructure_VirtualMachine::generatedFrom = True,\n",
      " associations http vm_key_name = True,\n",
      " associations vm_name infra = True,\n",
      " associations ag source_code = True,\n",
      " associations vm_key_name net1 = True,\n",
      " attribute_st_types infrastructure_ComputingNode::cost = True,\n",
      " association_mult_ub infrastructure_NetworkInterface::belongsTo = True,\n",
      " associations infra ssh = True,\n",
      " associations out_all concrete_net = True,\n",
      " associations sg source_code = True,\n",
      " association_inverse infrastructure_ComputingGroup::groupedNodes infrastructure_ComputingNode::group = True,\n",
      " associations concrete_vm_image infra = True,\n",
      " associations source_code out_all = True,\n",
      " associations ssh sg = True,\n",
      " associations ssh name = True,\n",
      " associations http ag = True,\n",
      " associations out_all concrete_vm_image = True,\n",
      " association_st_classes concrete_VMImage::maps = True,\n",
      " associations vm1 openstack = True,\n",
      " associations v_img source_code = True,\n",
      " elem_class ssh_key infrastructure_KeyPair = True,\n",
      " associations vm_flavor app = True,\n",
      " associations concrete_vm net1 = True,\n",
      " associations vm_name http = True,\n",
      " associations app out_all = True,\n",
      " associations vm_key_name name = True,\n",
      " attribute_st_types infrastructure_KeyPair::keyfile = True,\n",
      " associations v_img nginx = True,\n",
      " associations v_img concrete_net = True,\n",
      " attribute_st_types infrastructure_KeyPair::user = True,\n",
      " associations http concrete_vm = True,\n",
      " association_mult_ub commons_Deployment::target = True,\n",
      " associations ssh app = True,\n",
      " associations ssh vm_name = True,\n",
      " associations source_code ssh_key = True,\n",
      " associations vm1 ssh_key = True,\n",
      " associations nginx vm_name = True,\n",
      " associations http https = True,\n",
      " vm_iface = True,\n",
      " attribute_values vm_key_name = True,\n",
      " associations ssh_key concrete_net = True,\n",
      " associations infra i1 = True,\n",
      " associations https https = True,\n",
      " attribute_st_types infrastructure_Rule::fromPort = True,\n",
      " associations nginx vm_key_name = True,\n",
      " associations app nginx = True,\n",
      " associations v_img v_img = True,\n",
      " associations sg http = True,\n",
      " associations con_infra nginx = True,\n",
      " associations con_infra https = True,\n",
      " elem_class name commons_SProperty = True,\n",
      " attribute_mult_ub infrastructure_AutoScalingGroup::max = True,\n",
      " association_mult_lb concrete_ComputingGroup::maps = True,\n",
      " attribute_mult_ub application_SoftwareComponent::configFile = True,\n",
      " associations net1 ag = True,\n",
      " association_mult_lb commons_Deployment::target = True,\n",
      " attribute_values con_infra = True,\n",
      " association_mult_ub concrete_ContainerImage::maps = True,\n",
      " associations vm_flavor vm_name = True,\n",
      " associations v_img concrete_vm = True,\n",
      " associations concrete_vm ssh = True,\n",
      " associations concrete_vm v_img = True,\n",
      " attribute_st_types application_SoftwareComponent::configFile = True,\n",
      " attribute_mult_ub infrastructure_AutoScalingGroup::loadBalancer = True,\n",
      " associations vm1 v_img = True,\n",
      " association_st_classes infrastructure_InfrastructureLayer::generators = True,\n",
      " attribute_mult_ub infrastructure_ComputingNode::cost = True,\n",
      " attribute_st_types application_SoftwareComponent::licenseCost = True,\n",
      " associations ssh vm_key_name = True,\n",
      " associations vm1 app = True,\n",
      " ...]\n"
     ]
    }
   ],
   "source": [
    "m = solver.model()\n",
    "print(m)"
   ]
  },
  {
   "cell_type": "code",
   "execution_count": 22,
   "metadata": {},
   "outputs": [],
   "source": [
    "from itertools import product\n",
    "for (e1n, e1), a, (e2n, e2) in product(elem.items(), assoc.values(), elem.items()):\n",
    "    if (e1n in unbound_elems or e2n in unbound_elems) and m.eval(assoc_rel(e1, a, e2)):\n",
    "        print(e1, a, e2)"
   ]
  }
 ],
 "metadata": {
  "interpreter": {
   "hash": "a6678cf6b5907da3ee1c64f7f36cf1b3f0e5fe51f4038e28403f1c01345fc5bd"
  },
  "kernelspec": {
   "display_name": "Python 3.9.9 64-bit",
   "language": "python",
   "name": "python3"
  },
  "language_info": {
   "codemirror_mode": {
    "name": "ipython",
    "version": 3
   },
   "file_extension": ".py",
   "mimetype": "text/x-python",
   "name": "python",
   "nbconvert_exporter": "python",
   "pygments_lexer": "ipython3",
   "version": "3.9.12"
  },
  "orig_nbformat": 4
 },
 "nbformat": 4,
 "nbformat_minor": 2
}
