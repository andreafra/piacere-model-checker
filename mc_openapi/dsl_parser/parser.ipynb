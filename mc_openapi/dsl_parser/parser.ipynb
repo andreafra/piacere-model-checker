{
 "cells": [
  {
   "cell_type": "markdown",
   "metadata": {},
   "source": [
    "# Parser Prototype"
   ]
  },
  {
   "cell_type": "code",
   "execution_count": null,
   "metadata": {},
   "outputs": [],
   "source": [
    "from lark import Lark\n",
    "\n",
    "with open(\"grammar.lark\") as grammar_file:\n",
    "    grammar = grammar_file.read()"
   ]
  },
  {
   "cell_type": "code",
   "execution_count": null,
   "metadata": {},
   "outputs": [],
   "source": [
    "# vm, iface = get_consts(smtsorts, [\"vm\", \"iface\"])\n",
    "# return And(\n",
    "#     smtenc.element_class_fun(vm) == smtenc.classes[\"infrastructure_VirtualMachine\"],\n",
    "#     Not(\n",
    "#         Exists(\n",
    "#             [iface],\n",
    "#             ENCODINGS.association_rel(vm, smtenc.associations[\"infrastructure_ComputingNode::ifaces\"], iface)\n",
    "#         )\n",
    "#     )\n",
    "# )\n",
    "\n",
    "expr_to_parse = r\"\"\"\n",
    ">   \"example requirement to test\"\n",
    "    # Expr to parse\n",
    "    not vm is class infrastructure.VirtualMachine\n",
    "    and\n",
    "    vm is not class infrastructure.Storage\n",
    "    iff\n",
    "    not exists iface, apple (\n",
    "        (vm has association infrastructure.ComputingNode->ifaces iface)\n",
    "        or\n",
    "        (vm has attribute infrastructure.ComputingNode->os Os1)\n",
    "    )\n",
    "    ---\n",
    "    \"Virtual Machine {vm} has no iface\"\n",
    "\n",
    "    >   \"example requirement to test\"\n",
    "    # Expr to parse\n",
    "    not vm is class infrastructure.VirtualMachine\n",
    "    and\n",
    "    vm is not class infrastructure.Storage\n",
    "    iff\n",
    "    not exists iface, apple (\n",
    "        (vm has association infrastructure.ComputingNode->ifaces iface)\n",
    "        or\n",
    "        (vm has attribute infrastructure.ComputingNode->os Os1)\n",
    "    )\n",
    "    ---\n",
    "    \"Virtual Machine {vm} has no iface\"\n",
    "\"\"\""
   ]
  },
  {
   "cell_type": "code",
   "execution_count": null,
   "metadata": {},
   "outputs": [],
   "source": [
    "parser = Lark(grammar, start=\"start\")\n",
    "tree = parser.parse(expr_to_parse)\n",
    "\n",
    "print(tree.pretty())"
   ]
  },
  {
   "cell_type": "markdown",
   "metadata": {},
   "source": [
    "We need the `ModelChecker` to import `SMTEncodings` and `SMTSorts` in order to create our Z3 constants programmatically.\n",
    "\n",
    "Now the model checker should expose the *intermediate model checker* which should provide us with those two collections."
   ]
  },
  {
   "cell_type": "code",
   "execution_count": null,
   "metadata": {},
   "outputs": [],
   "source": [
    "from mc_openapi.doml_mc import ModelChecker, DOMLVersion\n",
    "from mc_openapi.doml_mc.imc import IntermediateModelChecker\n",
    "\n",
    "# Import DOMLX as bytes\n",
    "doml_document_path = \"../../tests/doml/faas.domlx\"\n",
    "with open(doml_document_path, \"rb\") as xmif:\n",
    "    doml_xmi = xmif.read()\n",
    "\n",
    "model_checker = ModelChecker(doml_xmi, DOMLVersion.V2_0)\n",
    "\n",
    "intermediate_model_checker = IntermediateModelChecker(\n",
    "    model_checker.metamodel,\n",
    "    model_checker.inv_assoc,\n",
    "    model_checker.intermediate_model\n",
    ")\n",
    "\n",
    "ENCODINGS =  intermediate_model_checker.smt_encoding\n",
    "SORTS = intermediate_model_checker.smt_sorts\n",
    "\n",
    "assert ENCODINGS and SORTS"
   ]
  },
  {
   "cell_type": "markdown",
   "metadata": {},
   "source": [
    "I think we don't need to have the user declare each constant and value explicitly.\n",
    "We can take care of that by saving the first occurence of each in a dictionary,\n",
    "and subsequent uses of a variable will fetch the corresponding z3 ref from the dictionary."
   ]
  },
  {
   "cell_type": "code",
   "execution_count": null,
   "metadata": {},
   "outputs": [],
   "source": [
    "from mc_openapi.dsl_parser.utils import UniqueVarStore\n",
    "\n",
    "constants_store = UniqueVarStore(ENCODINGS, SORTS.element_sort)\n",
    "values_store = UniqueVarStore(ENCODINGS, SORTS.attr_data_sort)"
   ]
  },
  {
   "cell_type": "markdown",
   "metadata": {},
   "source": [
    "RefHandler provides methods to create associations, classes, etc. to the Transformer without exposing Encodings and Sorts to it."
   ]
  },
  {
   "cell_type": "code",
   "execution_count": null,
   "metadata": {},
   "outputs": [],
   "source": [
    "from mc_openapi.dsl_parser.utils import RefHandler\n",
    "\n",
    "ref_handler = RefHandler(ENCODINGS)\n",
    "\n",
    "# Test existent key\n",
    "vm = ref_handler.get_class(\"infrastructure.VirtualMachine\")\n",
    "print(\"type: \\t\", type(vm))\n",
    "print(\"value: \\t\", vm)\n",
    "try:\n",
    "    bad_class = ref_handler.get_class(\"infrastructure.Bicycle\")\n",
    "except Exception: \n",
    "    print(\"Exception catched!\")"
   ]
  },
  {
   "cell_type": "markdown",
   "metadata": {},
   "source": [
    "The parser will now produce a Z3 expression to evaluate."
   ]
  },
  {
   "cell_type": "code",
   "execution_count": null,
   "metadata": {},
   "outputs": [],
   "source": [
    "from pprint import pprint\n",
    "from z3 import Not, And, Or, Xor, Implies, Exists, ForAll\n",
    "\n",
    "from mc_openapi.dsl_parser.parser import Parser\n",
    "\n",
    "parser = Parser(grammar, ENCODINGS, SORTS)\n",
    "\n",
    "reqs_store = parser.parse(expr_to_parse)\n",
    "\n",
    "pprint(reqs_store.get_all_requirements())"
   ]
  }
 ],
 "metadata": {
  "kernelspec": {
   "display_name": "Python 3.10.7 ('mc-openapi-L7xjZd4w-py3.10')",
   "language": "python",
   "name": "python3"
  },
  "language_info": {
   "codemirror_mode": {
    "name": "ipython",
    "version": 3
   },
   "file_extension": ".py",
   "mimetype": "text/x-python",
   "name": "python",
   "nbconvert_exporter": "python",
   "pygments_lexer": "ipython3",
   "version": "3.10.7"
  },
  "orig_nbformat": 4,
  "vscode": {
   "interpreter": {
    "hash": "77cbbda6b16dfc9cfdd38c502fce7f436b17044b0456478001b56e4ca2748190"
   }
  }
 },
 "nbformat": 4,
 "nbformat_minor": 2
}
