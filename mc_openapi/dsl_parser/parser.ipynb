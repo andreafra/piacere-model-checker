{
 "cells": [
  {
   "cell_type": "markdown",
   "metadata": {},
   "source": [
    "# Parser Prototype"
   ]
  },
  {
   "cell_type": "code",
   "execution_count": 89,
   "metadata": {},
   "outputs": [],
   "source": [
    "from lark import Lark\n",
    "\n",
    "with open(\"grammar.lark\") as grammar_file:\n",
    "    grammar = grammar_file.read()\n",
    "\n",
    "parser = Lark(grammar, start=\"start\")"
   ]
  },
  {
   "cell_type": "code",
   "execution_count": 90,
   "metadata": {},
   "outputs": [],
   "source": [
    "# vm, iface = get_consts(smtsorts, [\"vm\", \"iface\"])\n",
    "# return And(\n",
    "#     smtenc.element_class_fun(vm) == smtenc.classes[\"infrastructure_VirtualMachine\"],\n",
    "#     Not(\n",
    "#         Exists(\n",
    "#             [iface],\n",
    "#             smtenc.association_rel(vm, smtenc.associations[\"infrastructure_ComputingNode::ifaces\"], iface)\n",
    "#         )\n",
    "#     )\n",
    "# )\n",
    "\n",
    "example_expr_1 = r\"\"\"\n",
    "    not vm is infrastructure.VirtualMachine\n",
    "    and\n",
    "    vm is not infrastructure.Storage\n",
    "    iff\n",
    "    not exists iface, apple (\n",
    "        (vm has association infrastructure.ComputingNode->ifaces iface)\n",
    "        or\n",
    "        (vm has attribute infrastructure.ComputingNode->os Os1)\n",
    "    )\n",
    "\"\"\""
   ]
  },
  {
   "cell_type": "code",
   "execution_count": 91,
   "metadata": {},
   "outputs": [
    {
     "name": "stdout",
     "output_type": "stream",
     "text": [
      "start\n",
      "  expression\n",
      "    binary_op_exp\n",
      "      double_implication\n",
      "        expression\n",
      "          binary_op_exp\n",
      "            and_or_xor_exp\n",
      "              negation\n",
      "                not\n",
      "                equal\n",
      "                  class_or_const\tvm\n",
      "                  is\n",
      "                  class_or_const\tinfrastructure.VirtualMachine\n",
      "              and\n",
      "              not_equal\n",
      "                class_or_const\tvm\n",
      "                is not\n",
      "                class_or_const\tinfrastructure.Storage\n",
      "        iff\n",
      "        negation\n",
      "          not\n",
      "          quantification\n",
      "            exists\n",
      "            consts\n",
      "              iface\n",
      "              apple\n",
      "            expression\n",
      "              binary_op_exp\n",
      "                and_or_xor_exp\n",
      "                  expression\n",
      "                    association_expr\n",
      "                      vm\n",
      "                      has association\n",
      "                      infrastructure.ComputingNode->ifaces\n",
      "                      iface\n",
      "                  or\n",
      "                  expression\n",
      "                    attribute_expr\n",
      "                      vm\n",
      "                      has attribute\n",
      "                      infrastructure.ComputingNode->os\n",
      "                      Os1\n",
      "\n"
     ]
    }
   ],
   "source": [
    "tree = parser.parse(example_expr_1)\n",
    "\n",
    "print(tree.pretty())"
   ]
  },
  {
   "cell_type": "markdown",
   "metadata": {},
   "source": [
    "We need the `ModelChecker` to import `SMTEncodings` and `SMTSorts` in order to create our Z3 constants programmatically.\n",
    "\n",
    "Now the model checker should expose the *intermediate model checker* which should provide us with those two collections."
   ]
  },
  {
   "cell_type": "code",
   "execution_count": 92,
   "metadata": {},
   "outputs": [],
   "source": [
    "from mc_openapi.doml_mc import ModelChecker, DOMLVersion\n",
    "\n",
    "# Import DOMLX as bytes\n",
    "doml_document_path = \"../../tests/doml/faas.domlx\"\n",
    "with open(doml_document_path, \"rb\") as xmif:\n",
    "    doml_xmi = xmif.read()\n",
    "\n",
    "model_checker = ModelChecker(doml_xmi, DOMLVersion.V2_0)\n",
    "\n",
    "ENCODINGS =  model_checker.imc.smt_encoding\n",
    "SORTS = model_checker.imc.smt_sorts\n",
    "\n",
    "assert ENCODINGS and SORTS"
   ]
  },
  {
   "cell_type": "markdown",
   "metadata": {},
   "source": [
    "I think we don't need to have the user declare each constant and value.\n",
    "We can take care of that by saving the first occurence of each in a dictionary,\n",
    "and subsequent uses of a variable will fetch the corresponding z3 ref from the dictionary."
   ]
  },
  {
   "cell_type": "code",
   "execution_count": 93,
   "metadata": {},
   "outputs": [],
   "source": [
    "from z3 import Const, ExprRef, SortRef\n",
    "from mc_openapi.doml_mc.imc import SMTEncoding, SMTSorts\n",
    "\n",
    "class UniqueVarStore:\n",
    "    def __init__(self, smtenc: SMTEncoding, sort: SortRef):\n",
    "        self.vars = dict()\n",
    "        self.encoding = smtenc\n",
    "        self.sort = sort\n",
    "    \n",
    "    def use(self, var_name: str) -> ExprRef:\n",
    "        \"\"\"Retrieves a variable with `var_name` from the store.\n",
    "           If that variable doesn't exists, it is added to the store and returned.\n",
    "        \"\"\"\n",
    "        if self.vars.get(var_name, None) is None:\n",
    "            self.vars[var_name] = Const(var_name, self.sort)\n",
    "        return self.vars[var_name]\n",
    "\n",
    "    def keys(self) -> list[str]:\n",
    "        return self.vars.keys()\n",
    "\n",
    "    def clear(self):\n",
    "        \"\"\"Clears the store of all saved variables.\"\"\"\n",
    "        self.vars.clear()\n",
    "\n",
    "constants_store = UniqueVarStore(ENCODINGS, SORTS.element_sort)\n",
    "values_store = UniqueVarStore(ENCODINGS, SORTS.attr_data_sort)"
   ]
  },
  {
   "cell_type": "markdown",
   "metadata": {},
   "source": [
    "RefHandler provides methods to create associations, classes, etc. to the Transformer without exposing Encodings and Sorts to it."
   ]
  },
  {
   "cell_type": "code",
   "execution_count": 94,
   "metadata": {},
   "outputs": [
    {
     "name": "stdout",
     "output_type": "stream",
     "text": [
      "type: \t <class 'z3.z3.DatatypeRef'>\n",
      "value: \t infrastructure_VirtualMachine\n",
      "Exception catched!\n"
     ]
    }
   ],
   "source": [
    "from z3 import DatatypeRef, FuncDeclRef\n",
    "\n",
    "class RefHandler:\n",
    "    def __init__(self, smtenc: SMTEncoding, smtsorts: SMTSorts):\n",
    "        self.encoding = smtenc\n",
    "        self.sorts = smtsorts\n",
    "    \n",
    "    def get_element_class(self, const: ExprRef) -> FuncDeclRef:\n",
    "        return self.encoding.element_class_fun(const)\n",
    "\n",
    "    def get_class(self, class_name: str) -> DatatypeRef:\n",
    "        class_name = class_name.replace(\".\", \"_\")\n",
    "        _class = self.encoding.classes.get(class_name, None)\n",
    "        if _class is not None:\n",
    "            return _class\n",
    "        else:\n",
    "            raise Exception(f\"No class named '{class_name}' found.\")\n",
    "            # TODO: Try to suggest the correct class with difflib\n",
    "            # see: https://docs.python.org/3/library/difflib.html?highlight=get_close_matches#difflib.get_close_matches\n",
    "\n",
    "    def get_association(self, assoc_name: str) -> DatatypeRef:\n",
    "        assoc_name = assoc_name.replace(\".\", \"_\")\n",
    "        assoc_name = assoc_name.replace(\"->\", \"::\")\n",
    "        assoc = self.encoding.associations.get(assoc_name, None)\n",
    "        if assoc is not None:\n",
    "            return assoc\n",
    "        else:\n",
    "            raise Exception(f\"No association named '{assoc_name}' found.\")\n",
    "\n",
    "    def get_association_rel(self, a: ExprRef, rel: DatatypeRef, b: ExprRef) -> DatatypeRef:\n",
    "        return self.encoding.association_rel(a, rel, b)\n",
    "\n",
    "    def get_attribute(self, attr_name: str) -> DatatypeRef:\n",
    "        attr_name = attr_name.replace(\".\", \"_\")\n",
    "        attr_name = attr_name.replace(\"->\", \"::\")\n",
    "        attr = self.encoding.attributes.get(attr_name, None)\n",
    "        if attr is not None:\n",
    "            return attr\n",
    "        else:\n",
    "            raise Exception(f\"No attribute named '{attr_name}' found.\")\n",
    "\n",
    "    def get_attribute_rel(self, a: ExprRef, rel: DatatypeRef, b: ExprRef) -> DatatypeRef:\n",
    "        return self.encoding.attribute_rel(a, rel, b)\n",
    "\n",
    "\n",
    "\n",
    "ref_handler = RefHandler(ENCODINGS, SORTS)\n",
    "\n",
    "# Test existent key\n",
    "vm = ref_handler.get_class(\"infrastructure.VirtualMachine\")\n",
    "print(\"type: \\t\", type(vm))\n",
    "print(\"value: \\t\", vm)\n",
    "try:\n",
    "    bad_class = ref_handler.get_class(\"infrastructure.Bicycle\")\n",
    "except Exception: \n",
    "    print(\"Exception catched!\")"
   ]
  },
  {
   "cell_type": "markdown",
   "metadata": {},
   "source": [
    "This transformer will produce a Z3 expression to evaluate."
   ]
  },
  {
   "cell_type": "code",
   "execution_count": 95,
   "metadata": {},
   "outputs": [
    {
     "data": {
      "text/html": [
       "(&not;(elem_class(vm) = infrastructure_VirtualMachine) &and;\n",
       " elem_class(vm) &ne; infrastructure_Storage) =\n",
       "&not;(&exist;iface, apple :\n",
       "   association(vm,\n",
       "               infrastructure_ComputingNode::ifaces,\n",
       "               iface) &or;\n",
       "   attribute(vm, infrastructure_ComputingNode::os, Os1))"
      ],
      "text/plain": [
       "And(Not(elem_class(vm) == infrastructure_VirtualMachine),\n",
       "    elem_class(vm) != infrastructure_Storage) ==\n",
       "Not(Exists([iface, apple],\n",
       "           Or(association(vm,\n",
       "                          infrastructure_ComputingNode::ifaces,\n",
       "                          iface),\n",
       "              attribute(vm,\n",
       "                        infrastructure_ComputingNode::os,\n",
       "                        Os1))))"
      ]
     },
     "execution_count": 95,
     "metadata": {},
     "output_type": "execute_result"
    }
   ],
   "source": [
    "from z3 import Not, And, Or, Xor, Implies, Exists, ForAll\n",
    "\n",
    "from lark import Transformer\n",
    "\n",
    "constants_store.clear()\n",
    "values_store.clear()\n",
    "\n",
    "class DSLTransformer(Transformer):\n",
    "    \n",
    "    def start(self, args):\n",
    "        return args[0]\n",
    "\n",
    "    def expression(self, args):\n",
    "        return args[0]\n",
    "\n",
    "    def consts(self, args):\n",
    "        return [constants_store.use(arg.value) for arg in args]\n",
    "\n",
    "    def negation(self, args):\n",
    "        return Not(args[1])\n",
    "\n",
    "    def binary_op_exp(self, args):\n",
    "        return args[0]\n",
    "        \n",
    "   \n",
    "    def double_implication(self, args):        \n",
    "        return args[0] == args[2]\n",
    "    \n",
    "    def implication(self, args):        \n",
    "        return Implies(args[0], args[2])\n",
    "\n",
    "    def and_or_xor_exp(self, args):        \n",
    "        op = args[1].value\n",
    "        a = args[0]\n",
    "        b = args[2]\n",
    "\n",
    "        if op == \"and\":\n",
    "            return And(a, b)\n",
    "        elif op == \"or\":\n",
    "            return Or(a, b)\n",
    "        else: # xor\n",
    "            return Xor(a, b)\n",
    "\n",
    "    def quantification(self, args):\n",
    "        quantifier = args[0].value\n",
    "       \n",
    "        if quantifier == \"exists\":\n",
    "            return Exists(args[1], args[2])\n",
    "        else: # forall\n",
    "            return ForAll(args[1], args[2])\n",
    "\n",
    "\n",
    "    def association_expr(self, args):\n",
    "        const1 = constants_store.use(args[0].value)\n",
    "        assoc  = ref_handler.get_association(args[2].value)\n",
    "        const2 = constants_store.use(args[3].value)\n",
    "        \n",
    "        return ref_handler.get_association_rel(const1, assoc, const2)\n",
    "\n",
    "    def attribute_expr(self, args):\n",
    "        const = constants_store.use(args[0].value)\n",
    "        assoc  = ref_handler.get_attribute(args[2].value)\n",
    "        value = values_store.use(args[3].value)\n",
    "        return ref_handler.get_attribute_rel(const, assoc, value)\n",
    "\n",
    "    def equal(self, args):\n",
    "        return args[0] == args[2]\n",
    "\n",
    "    def not_equal(self, args):\n",
    "        return args[0] != args[2]\n",
    "\n",
    "    def class_or_const(self, args):\n",
    "        if args[0].type == \"CONST\":\n",
    "            _const = constants_store.use(args[0].value)\n",
    "            return ref_handler.get_element_class(_const)\n",
    "        elif args[0].type == \"CLASS\":\n",
    "            return ref_handler.get_class(args[0].value)\n",
    "\n",
    "\n",
    "z3_parsed_exp = DSLTransformer().transform(tree)\n",
    "\n",
    "z3_parsed_exp"
   ]
  }
 ],
 "metadata": {
  "kernelspec": {
   "display_name": "Python 3.10.7 ('mc-openapi-L7xjZd4w-py3.10')",
   "language": "python",
   "name": "python3"
  },
  "language_info": {
   "codemirror_mode": {
    "name": "ipython",
    "version": 3
   },
   "file_extension": ".py",
   "mimetype": "text/x-python",
   "name": "python",
   "nbconvert_exporter": "python",
   "pygments_lexer": "ipython3",
   "version": "3.10.7"
  },
  "orig_nbformat": 4,
  "vscode": {
   "interpreter": {
    "hash": "77cbbda6b16dfc9cfdd38c502fce7f436b17044b0456478001b56e4ca2748190"
   }
  }
 },
 "nbformat": 4,
 "nbformat_minor": 2
}
